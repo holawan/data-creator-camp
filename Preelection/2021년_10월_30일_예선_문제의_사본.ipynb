{
 "cells": [
  {
   "cell_type": "markdown",
   "metadata": {
    "id": "_gs4FmXVQHhy"
   },
   "source": [
    "#  2021년 데이터 크리에이터 캠프 예선 (헬스케어)  10-30 예선 10회\n",
    "\n",
    "![데이터캠프](https://i.imgur.com/fVakQcm.png)\n",
    "\n",
    "- 출제자: 이현승 (hslrock@korea.ac.kr)"
   ]
  },
  {
   "cell_type": "markdown",
   "metadata": {
    "id": "ovGnRWhXykT9"
   },
   "source": [
    "## 🔥🔥🔥🔥다음 코드는 한글 깨짐 방지를 위해 필수 실행 코드입니다🔥🔥🔥\n",
    "\n",
    ">이후 런타임 런타임 다시 시작 을 클릭하여 런타임을 재시작합니다. 재시작후 다음 코드로 넘어가주시면됩니다 "
   ]
  },
  {
   "cell_type": "markdown",
   "metadata": {
    "id": "TuROny-gQeZR"
   },
   "source": [
    "## 📌 출제 배경 \n",
    "\n",
    "> 헬스케어 (healthcare) 데이터는 최근 들어 많이 주목받고 있는 데이터입니다. 과거 의사들이 직접 진료를 진행했다면 AI 기반 로봇들은 환자의 측정기록을 통해 환자의 상태를 분류할 수 있습니다 (질병 종류, 환자 나이)\n",
    "\n",
    "> 본 과제에서 사용하는 데이터는 서울올림픽기념 국민체육진흥공단에서 관리하는 국민 체력측정데이터의 항목별 측정 정보 데이터입니다. 현재 국민 체력 관련 연구를 진행할 때 사용되기도 합니다. 본 데이터의 측정기록을 통해 연령대와 체력 등급을 분류해봅시다.\n",
    "\n",
    "![국민체력](https://i.imgur.com/mQaXU0v.png)\n",
    "\n",
    "\n"
   ]
  },
  {
   "cell_type": "markdown",
   "metadata": {
    "id": "QrH4-dXdDgGz"
   },
   "source": [
    "## 📌 데이터 설명"
   ]
  },
  {
   "cell_type": "markdown",
   "metadata": {
    "id": "_7ztkwTnEdrq"
   },
   "source": [
    "### 서울올림픽기념 국민체육진흥공단에서 관리하고 있는 국민체력측정데이터의 항목별 측정 정보를 제공하는 데이터입니다.\n",
    "캐글/데이터 링크: https://www.kaggle.com/t/f480b32d2b834986bb725ac491f78d9d\n",
    "\n",
    "구글드라이브 링크: https://drive.google.com/file/d/1F8KdFRorwsuxlKl1jjbdcC5AE4nmAgYe/view?usp=sharing"
   ]
  },
  {
   "cell_type": "markdown",
   "metadata": {
    "id": "oCb9tlOkFhLk"
   },
   "source": [
    "## 📌 피처(Feature) 상세 설명\n",
    "\n",
    "\n",
    "\n",
    "| 피쳐이름 | 설명  |\n",
    "|------------|---|\n",
    "|  TEST_SEX |                  측정회원성별                  |\n",
    "| ITEM_F001 |            측정항목값 : 신장   : cm            |\n",
    "| ITEM_F002 |            측정항목값 : 체중   : kg            |\n",
    "| ITEM_F003 |           측정항목값 :   체지방율 : %          |\n",
    "| ITEM_F004 |          측정항목값 :   허리둘레 : cm          |\n",
    "| ITEM_F005 |     측정항목값 :   이완기혈압(최저) : mmHg     |\n",
    "| ITEM_F006 |     측정항목값 :   수축기혈압(최고) : mmHg     |\n",
    "| ITEM_F007 |            측정항목값 : 악력D   : kg           |\n",
    "| ITEM_F008 |           측정항목값 :   악력ND : kg           |\n",
    "| ITEM_F009 |       측정항목값 :   윗몸말아올리기 : 회       |\n",
    "| ITEM_F010 |          측정항목값 :   반복점프 : 회          |\n",
    "| ITEM_F011 |                      미정                      |\n",
    "| ITEM_F012 |    측정항목값 :   앉아윗몸앞으로굽히기 : cm    |\n",
    "| ITEM_F013 |          측정항목값 :   일리노이 : 초          |\n",
    "| ITEM_F014 |          측정항목값 :   체공시간 : 초          |\n",
    "| ITEM_F015 |         측정항목값 :   협응력시간 : 초         |\n",
    "| ITEM_F016 |       측정항목값 :   협응력실수횟수 : 회       |\n",
    "| ITEM_F017 |      측정항목값 :   협응력계산결과값 : 초      |\n",
    "| ITEM_F018 |           측정항목값 : BMI   : kg/㎡           |\n",
    "| ITEM_F019 |      측정항목값 :   교차윗몸일으키기 : 회      |\n",
    "| ITEM_F020 |       측정항목값 :   왕복오래달리기 : 회       |\n",
    "| ITEM_F021 |     측정항목값 : 10M   4회 왕복달리기 : 초     |\n",
    "| ITEM_F022 |       측정항목값 : 제자리   멀리뛰기 : cm      |\n",
    "| ITEM_F023 |    측정항목값 :   의자에앉았다일어서기 : 회    |\n",
    "| ITEM_F024 |           측정항목값 :   6분걷기 : m           |\n",
    "| ITEM_F025 |        측정항목값 :   2분제자리걷기 : 회       |\n",
    "| ITEM_F026 | 측정항목값 :   의자에앉아 3M표적 돌아오기 : 초 |\n",
    "| ITEM_F027 |           측정항목값 :   8자보행 : 초          |\n",
    "| ITEM_F028 |           측정항목값 :   상대악력 : %          |\n",
    "| ITEM_F029 |            측정항목값 :   피두부겹합           |\n",
    "| ITEM_F030 |  측정항목값 :   왕복오래달리기(출력) : VO₂max  |\n",
    "| ITEM_F031 |      측정항목값 :   트레드밀_안정시 : bpm      |\n",
    "| ITEM_F032 |        측정항목값 :   트레드밀_3분 : bpm       |\n",
    "| ITEM_F033 |        측정항목값 :   트레드밀_6분 : bpm       |\n",
    "| ITEM_F034 |        측정항목값 :   트레드밀_9분 : bpm       |\n",
    "| ITEM_F035 |     측정항목값 :   트레드밀(출력) : VO₂max     |\n",
    "| ITEM_F036 |   측정항목값 :   스텝검사_회복시 심박수 : bpm  |\n",
    "| ITEM_F037 |     측정항목값 :   스텝검사(출력) : VO₂max     |\n",
    "| ITEM_F038 |            측정항목값 :   허벅지(좌)           |\n",
    "| ITEM_F039 |            측정항목값 :   허벅지(우)           |\n",
    "| ITEM_F040 |          측정항목값 :   전신반응 : 초          |\n",
    "| ITEM_F041 |          측정항목값 :   체공시간2 : 초         |"
   ]
  },
  {
   "cell_type": "code",
   "execution_count": null,
   "metadata": {
    "id": "R23RS013Ykrk"
   },
   "outputs": [],
   "source": []
  },
  {
   "cell_type": "markdown",
   "metadata": {
    "id": "QESiTchDQ2If"
   },
   "source": [
    " ## 📌 평가방법\n",
    "\n",
    "- 이후 다른 실험자들의 데이터로 나이와 등급을 예측하는것이 목표입니다, kaggle 에서 제공하는 결과로 평가할것입니다\n",
    "\n",
    "```\n",
    "\n",
    "예측 하여야 되는 값 \n",
    "나이: [10,20,30,40,50대]\n",
    "등급: [1등급,2등급,3등급,참가증]\n",
    "\n",
    "```\n",
    "\n",
    "- classification_report 이란?  \n",
    "\n",
    "```\n",
    "sklearn.metrics.classification_report\n",
    "```\n",
    "에서 나오는 결과값으로 분류에서 나오는 precision/recall 그리고 F1 score를 제공합니다. [링크](https://scikit-learn.org/stable/modules/generated/sklearn.metrics.classification_report.html)\n"
   ]
  },
  {
   "cell_type": "markdown",
   "metadata": {
    "id": "tydD55_gQ0bF"
   },
   "source": []
  },
  {
   "cell_type": "markdown",
   "metadata": {
    "id": "lVXBkhug-iyG"
   },
   "source": [
    "# 베이스라인 코드(BaseLine Code)"
   ]
  },
  {
   "cell_type": "markdown",
   "metadata": {
    "id": "nbNuz7Fs7JT6"
   },
   "source": [
    "##  🖥 라이브러리 불러오기(import)"
   ]
  },
  {
   "cell_type": "code",
   "execution_count": null,
   "metadata": {
    "id": "1fLg7qetFhf0"
   },
   "outputs": [],
   "source": [
    "import numpy as np  #형렬 처리에 필요한 라이브러리입니다\n",
    "import pandas as pd #데이터 관리 툴\n",
    "import seaborn as sns #시각적 툴\n",
    "import matplotlib.pyplot as plt ##시각적 툴\n",
    "from datetime import datetime\n",
    "\n",
    "import warnings\n",
    "warnings.filterwarnings(\"ignore\")\n",
    "import importlib\n",
    "\n",
    "\n",
    "import sklearn\n",
    "from sklearn.pipeline import Pipeline\n",
    "from sklearn.model_selection import train_test_split\n",
    "from sklearn.feature_selection import SelectKBest, f_regression\n",
    "from sklearn.metrics import confusion_matrix, accuracy_score, classification_report\n",
    "\n",
    "from glob import glob #디렉토리 검색\n",
    "import os\n",
    "plt.rc('font', family='NanumBarunGothic') \n",
    "\n",
    "%matplotlib inline "
   ]
  },
  {
   "cell_type": "markdown",
   "metadata": {
    "id": "Tr6vGrbSJ7vP"
   },
   "source": [
    "##  🖥 사용자 함수(user_defined functions)"
   ]
  },
  {
   "cell_type": "code",
   "execution_count": 7,
   "metadata": {
    "id": "X5ZTxyknDZ9S"
   },
   "outputs": [],
   "source": [
    "def get_model(model_name):\n",
    "    model_dict = {\"LogisticRegression\": \"sklearn.linear_model\",\n",
    "                  \"LogisticRegressionCV\": \"sklearn.linear_model\",\n",
    "                  \"PassiveAggressiveClassifier\": \"sklearn.linear_model\",\n",
    "                  \"Perceptron\": \"sklearn.linear_model\",\n",
    "                  \"RidgeClassifier\": \"sklearn.linear_model\",\n",
    "                  \"SGDClassifier\": \"sklearn.ensemble\",\n",
    "                  \"AdaBoostClassifier\": \"sklearn.ensemble\",\n",
    "                  \"BaggingClassifier\": \"sklearn.ensemble\",\n",
    "                  \"ExtraTreesClassifier\": \"sklearn.ensemble\",\n",
    "                  \"GradientBoostingClassifier\": \"sklearn.ensemble\",\n",
    "                  \"RandomForestClassifier\": \"sklearn.ensemble\",\n",
    "                  }\n",
    "    return model_dict[model_name] \n",
    "\n",
    "def plot_result(y_true, y_pred):\n",
    "    print(classification_report(y_true, y_pred,digits=4))\n",
    "\n",
    "# Preprocessing \n",
    "def get_preprocess(module_name):\n",
    "    preprocess_dict = {\n",
    "        # scaler\n",
    "        \"PCA\": \"sklearn.decomposition\",\n",
    "        \"NMF\": \"sklearn.decomposition\",\n",
    "        # scaler\n",
    "        \"StandardScaler\": \"sklearn.preprocessing\",\n",
    "        \"MinMaxScaler\": \"sklearn.preprocessing\",\n",
    "        \"MaxAbsScaler\": \"sklearn.preprocessing\",\n",
    "        \"RobustScaler\": \"sklearn.preprocessing\",\n",
    "    }\n",
    "    return preprocess_dict[module_name]\n",
    "\n",
    "def pprint(preprocess_list):\n",
    "    print('='*40)\n",
    "    print('[INFO] Details ...')\n",
    "    for key,value in preprocess_list:\n",
    "        print(f'{key:<10s}: {value:}')\n",
    "    print('='*40)\n",
    "    return None \n",
    "\n",
    "\n",
    "# Submmision \n",
    "def submmision(config,pred_y_1,pred_y_2,index):\n",
    "    \n",
    "    PATH = config.SYSTEM.SAVE_DIR\n",
    "    TEAM_NAME = config.SYSTEM.TEAM_NAME.replace(\" \",\"\") # 공백제거\n",
    "    \n",
    "    # Make output directory\n",
    "#     SAVE_PATH = os.path.join(PATH)\n",
    "    os.makedirs(PATH, exist_ok=True)\n",
    "\n",
    "    today = datetime.now().strftime(\"%Y%m%d_%H%M%S\")\n",
    "    csv_name = os.path.join(PATH, f'{TEAM_NAME}_{today}.csv')\n",
    "    index+=1\n",
    "    # 결과 파일 저장 \n",
    "    submmision = pd.DataFrame(data=index,columns=['NAME'])\n",
    "    submmision['AGE_GROUP'] = pred_y_1\n",
    "    submmision['CERT_GBN'] = pred_y_2\n",
    "    submmision.to_csv(csv_name,index=False)\n",
    "    \n",
    "    display(submmision)\n",
    "    print(f'[INFO] DATE: {today}')\n",
    "    print(f'[INFO] 제출 파일 저장 완료: {csv_name}')\n",
    "    \n",
    "# Config\n",
    "class AttributeDict(dict):\n",
    "    def __init__(self):\n",
    "        self.__dict__ = self\n",
    "class ConfigTree:\n",
    "    def __init__(self):\n",
    "        self.DATAPATH = AttributeDict()\n",
    "        self.SYSTEM = AttributeDict()\n",
    "\n",
    "        self.MODEL = AttributeDict()\n",
    "        self.PREPROCESS = AttributeDict()\n",
    "        \n",
    "# Pipeline \n",
    "class HealthClass():\n",
    "    def __init__(self, cfg, module_params=None):\n",
    "        self.model_name = cfg.MODEL.NAME\n",
    "        self.preprocess_dict = self.update_dict()\n",
    "    \n",
    "    def update_dict(self):\n",
    "        preprocess_dict = {}\n",
    "        try:\n",
    "            if config.PREPROCESS.reduce_dim:\n",
    "                preprocess_dict.update(config.PREPROCESS.reduce_dim)\n",
    "        except:\n",
    "            pass\n",
    "        try:\n",
    "            if config.PREPROCESS.SCALER:\n",
    "                preprocess_dict.update(config.PREPROCESS.SCALER)\n",
    "        except:\n",
    "            pass\n",
    "            \n",
    "        return preprocess_dict\n",
    "  \n",
    "    def get_string(self, module_name: str, import_module: str, module_params=None):\n",
    "        \"\"\"Returns a scikit-learn module from string.\"\"\"\n",
    "        module_class = getattr(importlib.import_module(import_module), module_name)\n",
    "        if module_params:  \n",
    "            module = module_class(**module_params)\n",
    "        else:\n",
    "            module = module_class()\n",
    "        return module\n",
    "    \n",
    "    def build_pipline(self, reduce_dim_params=None, scaler_params=None, model_params=None):\n",
    "        preprocess_list = []\n",
    "        pipe = None\n",
    "        try:\n",
    "            model = self.get_string(self.model_name, get_model(self.model_name), model_params)\n",
    "            for key, value in self.preprocess_dict.items():\n",
    "                if key =='reduce_dim' and value:\n",
    "                    module = self.get_string(value, get_preprocess(value), reduce_dim_params)\n",
    "                elif key == 'scaler' and value:\n",
    "                    module = self.get_string(value, get_preprocess(value), scaler_params)\n",
    "                preprocess_list.append((key, module))\n",
    "                    \n",
    "            preprocess_list.append(('model', model))\n",
    "\n",
    "            pipe = Pipeline(preprocess_list)\n",
    "\n",
    "            print(f'[INFO] PIPELINE SETUP SUCCESS')\n",
    "            pprint(preprocess_list)\n",
    "        except:\n",
    "            print('해당 모델을 제공하지 않습니다.')\n",
    "        return pipe"
   ]
  },
  {
   "cell_type": "markdown",
   "metadata": {
    "id": "fjuKSMJ8MPG4"
   },
   "source": [
    "<hr style=\"height:3px;border:none;color:#5F71F7;background-color:#5F71F7;\" />\n",
    "\n",
    "## 🖥 EDA(Exploratory Data Analysis)"
   ]
  },
  {
   "cell_type": "code",
   "execution_count": 8,
   "metadata": {
    "colab": {
     "base_uri": "https://localhost:8080/",
     "height": 443
    },
    "id": "ymzcHj4sMMly",
    "outputId": "ea329a74-d288-433a-e296-b82e1419c068"
   },
   "outputs": [
    {
     "ename": "FileNotFoundError",
     "evalue": "ignored",
     "output_type": "error",
     "traceback": [
      "\u001b[0;31m---------------------------------------------------------------------------\u001b[0m",
      "\u001b[0;31mFileNotFoundError\u001b[0m                         Traceback (most recent call last)",
      "\u001b[0;32m<ipython-input-8-dbf2f62e59e3>\u001b[0m in \u001b[0;36m<module>\u001b[0;34m()\u001b[0m\n\u001b[1;32m      1\u001b[0m \u001b[0;31m# TRAIN 데이터 불러오기\u001b[0m\u001b[0;34m\u001b[0m\u001b[0;34m\u001b[0m\u001b[0;34m\u001b[0m\u001b[0m\n\u001b[0;32m----> 2\u001b[0;31m \u001b[0mdf\u001b[0m \u001b[0;34m=\u001b[0m \u001b[0mpd\u001b[0m\u001b[0;34m.\u001b[0m\u001b[0mread_csv\u001b[0m\u001b[0;34m(\u001b[0m\u001b[0mos\u001b[0m\u001b[0;34m.\u001b[0m\u001b[0mpath\u001b[0m\u001b[0;34m.\u001b[0m\u001b[0mjoin\u001b[0m\u001b[0;34m(\u001b[0m\u001b[0;34m'train1.csv'\u001b[0m\u001b[0;34m)\u001b[0m\u001b[0;34m)\u001b[0m\u001b[0;34m\u001b[0m\u001b[0;34m\u001b[0m\u001b[0m\n\u001b[0m\u001b[1;32m      3\u001b[0m \u001b[0;31m# TRAIN 데이터 형태 확인하기\u001b[0m\u001b[0;34m\u001b[0m\u001b[0;34m\u001b[0m\u001b[0;34m\u001b[0m\u001b[0m\n\u001b[1;32m      4\u001b[0m \u001b[0mprint\u001b[0m\u001b[0;34m(\u001b[0m\u001b[0;34m'전체 데이터 행:{}, 열:{}'\u001b[0m\u001b[0;34m.\u001b[0m\u001b[0mformat\u001b[0m\u001b[0;34m(\u001b[0m\u001b[0;34m*\u001b[0m\u001b[0mdf\u001b[0m\u001b[0;34m.\u001b[0m\u001b[0mshape\u001b[0m\u001b[0;34m)\u001b[0m\u001b[0;34m)\u001b[0m\u001b[0;34m\u001b[0m\u001b[0;34m\u001b[0m\u001b[0m\n\u001b[1;32m      5\u001b[0m \u001b[0mdisplay\u001b[0m\u001b[0;34m(\u001b[0m\u001b[0mdf\u001b[0m\u001b[0;34m.\u001b[0m\u001b[0mhead\u001b[0m\u001b[0;34m(\u001b[0m\u001b[0;34m)\u001b[0m\u001b[0;34m)\u001b[0m\u001b[0;34m\u001b[0m\u001b[0;34m\u001b[0m\u001b[0m\n",
      "\u001b[0;32m/usr/local/lib/python3.7/dist-packages/pandas/io/parsers.py\u001b[0m in \u001b[0;36mread_csv\u001b[0;34m(filepath_or_buffer, sep, delimiter, header, names, index_col, usecols, squeeze, prefix, mangle_dupe_cols, dtype, engine, converters, true_values, false_values, skipinitialspace, skiprows, skipfooter, nrows, na_values, keep_default_na, na_filter, verbose, skip_blank_lines, parse_dates, infer_datetime_format, keep_date_col, date_parser, dayfirst, cache_dates, iterator, chunksize, compression, thousands, decimal, lineterminator, quotechar, quoting, doublequote, escapechar, comment, encoding, dialect, error_bad_lines, warn_bad_lines, delim_whitespace, low_memory, memory_map, float_precision)\u001b[0m\n\u001b[1;32m    686\u001b[0m     )\n\u001b[1;32m    687\u001b[0m \u001b[0;34m\u001b[0m\u001b[0m\n\u001b[0;32m--> 688\u001b[0;31m     \u001b[0;32mreturn\u001b[0m \u001b[0m_read\u001b[0m\u001b[0;34m(\u001b[0m\u001b[0mfilepath_or_buffer\u001b[0m\u001b[0;34m,\u001b[0m \u001b[0mkwds\u001b[0m\u001b[0;34m)\u001b[0m\u001b[0;34m\u001b[0m\u001b[0;34m\u001b[0m\u001b[0m\n\u001b[0m\u001b[1;32m    689\u001b[0m \u001b[0;34m\u001b[0m\u001b[0m\n\u001b[1;32m    690\u001b[0m \u001b[0;34m\u001b[0m\u001b[0m\n",
      "\u001b[0;32m/usr/local/lib/python3.7/dist-packages/pandas/io/parsers.py\u001b[0m in \u001b[0;36m_read\u001b[0;34m(filepath_or_buffer, kwds)\u001b[0m\n\u001b[1;32m    452\u001b[0m \u001b[0;34m\u001b[0m\u001b[0m\n\u001b[1;32m    453\u001b[0m     \u001b[0;31m# Create the parser.\u001b[0m\u001b[0;34m\u001b[0m\u001b[0;34m\u001b[0m\u001b[0;34m\u001b[0m\u001b[0m\n\u001b[0;32m--> 454\u001b[0;31m     \u001b[0mparser\u001b[0m \u001b[0;34m=\u001b[0m \u001b[0mTextFileReader\u001b[0m\u001b[0;34m(\u001b[0m\u001b[0mfp_or_buf\u001b[0m\u001b[0;34m,\u001b[0m \u001b[0;34m**\u001b[0m\u001b[0mkwds\u001b[0m\u001b[0;34m)\u001b[0m\u001b[0;34m\u001b[0m\u001b[0;34m\u001b[0m\u001b[0m\n\u001b[0m\u001b[1;32m    455\u001b[0m \u001b[0;34m\u001b[0m\u001b[0m\n\u001b[1;32m    456\u001b[0m     \u001b[0;32mif\u001b[0m \u001b[0mchunksize\u001b[0m \u001b[0;32mor\u001b[0m \u001b[0miterator\u001b[0m\u001b[0;34m:\u001b[0m\u001b[0;34m\u001b[0m\u001b[0;34m\u001b[0m\u001b[0m\n",
      "\u001b[0;32m/usr/local/lib/python3.7/dist-packages/pandas/io/parsers.py\u001b[0m in \u001b[0;36m__init__\u001b[0;34m(self, f, engine, **kwds)\u001b[0m\n\u001b[1;32m    946\u001b[0m             \u001b[0mself\u001b[0m\u001b[0;34m.\u001b[0m\u001b[0moptions\u001b[0m\u001b[0;34m[\u001b[0m\u001b[0;34m\"has_index_names\"\u001b[0m\u001b[0;34m]\u001b[0m \u001b[0;34m=\u001b[0m \u001b[0mkwds\u001b[0m\u001b[0;34m[\u001b[0m\u001b[0;34m\"has_index_names\"\u001b[0m\u001b[0;34m]\u001b[0m\u001b[0;34m\u001b[0m\u001b[0;34m\u001b[0m\u001b[0m\n\u001b[1;32m    947\u001b[0m \u001b[0;34m\u001b[0m\u001b[0m\n\u001b[0;32m--> 948\u001b[0;31m         \u001b[0mself\u001b[0m\u001b[0;34m.\u001b[0m\u001b[0m_make_engine\u001b[0m\u001b[0;34m(\u001b[0m\u001b[0mself\u001b[0m\u001b[0;34m.\u001b[0m\u001b[0mengine\u001b[0m\u001b[0;34m)\u001b[0m\u001b[0;34m\u001b[0m\u001b[0;34m\u001b[0m\u001b[0m\n\u001b[0m\u001b[1;32m    949\u001b[0m \u001b[0;34m\u001b[0m\u001b[0m\n\u001b[1;32m    950\u001b[0m     \u001b[0;32mdef\u001b[0m \u001b[0mclose\u001b[0m\u001b[0;34m(\u001b[0m\u001b[0mself\u001b[0m\u001b[0;34m)\u001b[0m\u001b[0;34m:\u001b[0m\u001b[0;34m\u001b[0m\u001b[0;34m\u001b[0m\u001b[0m\n",
      "\u001b[0;32m/usr/local/lib/python3.7/dist-packages/pandas/io/parsers.py\u001b[0m in \u001b[0;36m_make_engine\u001b[0;34m(self, engine)\u001b[0m\n\u001b[1;32m   1178\u001b[0m     \u001b[0;32mdef\u001b[0m \u001b[0m_make_engine\u001b[0m\u001b[0;34m(\u001b[0m\u001b[0mself\u001b[0m\u001b[0;34m,\u001b[0m \u001b[0mengine\u001b[0m\u001b[0;34m=\u001b[0m\u001b[0;34m\"c\"\u001b[0m\u001b[0;34m)\u001b[0m\u001b[0;34m:\u001b[0m\u001b[0;34m\u001b[0m\u001b[0;34m\u001b[0m\u001b[0m\n\u001b[1;32m   1179\u001b[0m         \u001b[0;32mif\u001b[0m \u001b[0mengine\u001b[0m \u001b[0;34m==\u001b[0m \u001b[0;34m\"c\"\u001b[0m\u001b[0;34m:\u001b[0m\u001b[0;34m\u001b[0m\u001b[0;34m\u001b[0m\u001b[0m\n\u001b[0;32m-> 1180\u001b[0;31m             \u001b[0mself\u001b[0m\u001b[0;34m.\u001b[0m\u001b[0m_engine\u001b[0m \u001b[0;34m=\u001b[0m \u001b[0mCParserWrapper\u001b[0m\u001b[0;34m(\u001b[0m\u001b[0mself\u001b[0m\u001b[0;34m.\u001b[0m\u001b[0mf\u001b[0m\u001b[0;34m,\u001b[0m \u001b[0;34m**\u001b[0m\u001b[0mself\u001b[0m\u001b[0;34m.\u001b[0m\u001b[0moptions\u001b[0m\u001b[0;34m)\u001b[0m\u001b[0;34m\u001b[0m\u001b[0;34m\u001b[0m\u001b[0m\n\u001b[0m\u001b[1;32m   1181\u001b[0m         \u001b[0;32melse\u001b[0m\u001b[0;34m:\u001b[0m\u001b[0;34m\u001b[0m\u001b[0;34m\u001b[0m\u001b[0m\n\u001b[1;32m   1182\u001b[0m             \u001b[0;32mif\u001b[0m \u001b[0mengine\u001b[0m \u001b[0;34m==\u001b[0m \u001b[0;34m\"python\"\u001b[0m\u001b[0;34m:\u001b[0m\u001b[0;34m\u001b[0m\u001b[0;34m\u001b[0m\u001b[0m\n",
      "\u001b[0;32m/usr/local/lib/python3.7/dist-packages/pandas/io/parsers.py\u001b[0m in \u001b[0;36m__init__\u001b[0;34m(self, src, **kwds)\u001b[0m\n\u001b[1;32m   2008\u001b[0m         \u001b[0mkwds\u001b[0m\u001b[0;34m[\u001b[0m\u001b[0;34m\"usecols\"\u001b[0m\u001b[0;34m]\u001b[0m \u001b[0;34m=\u001b[0m \u001b[0mself\u001b[0m\u001b[0;34m.\u001b[0m\u001b[0musecols\u001b[0m\u001b[0;34m\u001b[0m\u001b[0;34m\u001b[0m\u001b[0m\n\u001b[1;32m   2009\u001b[0m \u001b[0;34m\u001b[0m\u001b[0m\n\u001b[0;32m-> 2010\u001b[0;31m         \u001b[0mself\u001b[0m\u001b[0;34m.\u001b[0m\u001b[0m_reader\u001b[0m \u001b[0;34m=\u001b[0m \u001b[0mparsers\u001b[0m\u001b[0;34m.\u001b[0m\u001b[0mTextReader\u001b[0m\u001b[0;34m(\u001b[0m\u001b[0msrc\u001b[0m\u001b[0;34m,\u001b[0m \u001b[0;34m**\u001b[0m\u001b[0mkwds\u001b[0m\u001b[0;34m)\u001b[0m\u001b[0;34m\u001b[0m\u001b[0;34m\u001b[0m\u001b[0m\n\u001b[0m\u001b[1;32m   2011\u001b[0m         \u001b[0mself\u001b[0m\u001b[0;34m.\u001b[0m\u001b[0munnamed_cols\u001b[0m \u001b[0;34m=\u001b[0m \u001b[0mself\u001b[0m\u001b[0;34m.\u001b[0m\u001b[0m_reader\u001b[0m\u001b[0;34m.\u001b[0m\u001b[0munnamed_cols\u001b[0m\u001b[0;34m\u001b[0m\u001b[0;34m\u001b[0m\u001b[0m\n\u001b[1;32m   2012\u001b[0m \u001b[0;34m\u001b[0m\u001b[0m\n",
      "\u001b[0;32mpandas/_libs/parsers.pyx\u001b[0m in \u001b[0;36mpandas._libs.parsers.TextReader.__cinit__\u001b[0;34m()\u001b[0m\n",
      "\u001b[0;32mpandas/_libs/parsers.pyx\u001b[0m in \u001b[0;36mpandas._libs.parsers.TextReader._setup_parser_source\u001b[0;34m()\u001b[0m\n",
      "\u001b[0;31mFileNotFoundError\u001b[0m: [Errno 2] No such file or directory: 'train1.csv'"
     ]
    }
   ],
   "source": [
    "# TRAIN 데이터 불러오기\n",
    "df = pd.read_csv(os.path.join('train1.csv'))\n",
    "# TRAIN 데이터 형태 확인하기\n",
    "print('전체 데이터 행:{}, 열:{}'.format(*df.shape))\n",
    "display(df.head())"
   ]
  },
  {
   "cell_type": "markdown",
   "metadata": {
    "id": "2LLNxn6PMi5R"
   },
   "source": [
    "<div class=\"alert alert-success\">\n",
    "    <b>테스트 데이터와 트레인 데이터를 비교해봅시다. </b>:\n",
    "    <ul>\n",
    "        <li>\n",
    "        우리가 예측해야되는 나이,등급 변수가 테스트에는 존재 안하는 것을 확인\n",
    "        트레인같은경우 지금은 트레인 파일 5개중 한개만 사용하고 있습니다\n",
    "        </li>\n",
    "    </ul>\n",
    "</div>"
   ]
  },
  {
   "cell_type": "code",
   "execution_count": 9,
   "metadata": {
    "colab": {
     "base_uri": "https://localhost:8080/",
     "height": 443
    },
    "id": "vuzltkR5MahQ",
    "outputId": "60c0e626-4335-419c-8e47-d9b38748cf40"
   },
   "outputs": [
    {
     "ename": "FileNotFoundError",
     "evalue": "ignored",
     "output_type": "error",
     "traceback": [
      "\u001b[0;31m---------------------------------------------------------------------------\u001b[0m",
      "\u001b[0;31mFileNotFoundError\u001b[0m                         Traceback (most recent call last)",
      "\u001b[0;32m<ipython-input-9-13c038312c6e>\u001b[0m in \u001b[0;36m<module>\u001b[0;34m()\u001b[0m\n\u001b[1;32m      1\u001b[0m \u001b[0;31m# TEST 데이터 불러오기\u001b[0m\u001b[0;34m\u001b[0m\u001b[0;34m\u001b[0m\u001b[0;34m\u001b[0m\u001b[0m\n\u001b[0;32m----> 2\u001b[0;31m \u001b[0mtest_df\u001b[0m \u001b[0;34m=\u001b[0m \u001b[0mpd\u001b[0m\u001b[0;34m.\u001b[0m\u001b[0mread_csv\u001b[0m\u001b[0;34m(\u001b[0m\u001b[0mos\u001b[0m\u001b[0;34m.\u001b[0m\u001b[0mpath\u001b[0m\u001b[0;34m.\u001b[0m\u001b[0mjoin\u001b[0m\u001b[0;34m(\u001b[0m\u001b[0;34m'final_test.csv'\u001b[0m\u001b[0;34m)\u001b[0m\u001b[0;34m)\u001b[0m\u001b[0;34m\u001b[0m\u001b[0;34m\u001b[0m\u001b[0m\n\u001b[0m\u001b[1;32m      3\u001b[0m \u001b[0;31m# TEST 데이터 형태 확인하기\u001b[0m\u001b[0;34m\u001b[0m\u001b[0;34m\u001b[0m\u001b[0;34m\u001b[0m\u001b[0m\n\u001b[1;32m      4\u001b[0m \u001b[0mprint\u001b[0m\u001b[0;34m(\u001b[0m\u001b[0;34m'전체 데이터 행:{}, 열:{}'\u001b[0m\u001b[0;34m.\u001b[0m\u001b[0mformat\u001b[0m\u001b[0;34m(\u001b[0m\u001b[0;34m*\u001b[0m\u001b[0mtest_df\u001b[0m\u001b[0;34m.\u001b[0m\u001b[0mshape\u001b[0m\u001b[0;34m)\u001b[0m\u001b[0;34m)\u001b[0m\u001b[0;34m\u001b[0m\u001b[0;34m\u001b[0m\u001b[0m\n\u001b[1;32m      5\u001b[0m \u001b[0mdisplay\u001b[0m\u001b[0;34m(\u001b[0m\u001b[0mtest_df\u001b[0m\u001b[0;34m.\u001b[0m\u001b[0mhead\u001b[0m\u001b[0;34m(\u001b[0m\u001b[0;34m)\u001b[0m\u001b[0;34m)\u001b[0m\u001b[0;34m\u001b[0m\u001b[0;34m\u001b[0m\u001b[0m\n",
      "\u001b[0;32m/usr/local/lib/python3.7/dist-packages/pandas/io/parsers.py\u001b[0m in \u001b[0;36mread_csv\u001b[0;34m(filepath_or_buffer, sep, delimiter, header, names, index_col, usecols, squeeze, prefix, mangle_dupe_cols, dtype, engine, converters, true_values, false_values, skipinitialspace, skiprows, skipfooter, nrows, na_values, keep_default_na, na_filter, verbose, skip_blank_lines, parse_dates, infer_datetime_format, keep_date_col, date_parser, dayfirst, cache_dates, iterator, chunksize, compression, thousands, decimal, lineterminator, quotechar, quoting, doublequote, escapechar, comment, encoding, dialect, error_bad_lines, warn_bad_lines, delim_whitespace, low_memory, memory_map, float_precision)\u001b[0m\n\u001b[1;32m    686\u001b[0m     )\n\u001b[1;32m    687\u001b[0m \u001b[0;34m\u001b[0m\u001b[0m\n\u001b[0;32m--> 688\u001b[0;31m     \u001b[0;32mreturn\u001b[0m \u001b[0m_read\u001b[0m\u001b[0;34m(\u001b[0m\u001b[0mfilepath_or_buffer\u001b[0m\u001b[0;34m,\u001b[0m \u001b[0mkwds\u001b[0m\u001b[0;34m)\u001b[0m\u001b[0;34m\u001b[0m\u001b[0;34m\u001b[0m\u001b[0m\n\u001b[0m\u001b[1;32m    689\u001b[0m \u001b[0;34m\u001b[0m\u001b[0m\n\u001b[1;32m    690\u001b[0m \u001b[0;34m\u001b[0m\u001b[0m\n",
      "\u001b[0;32m/usr/local/lib/python3.7/dist-packages/pandas/io/parsers.py\u001b[0m in \u001b[0;36m_read\u001b[0;34m(filepath_or_buffer, kwds)\u001b[0m\n\u001b[1;32m    452\u001b[0m \u001b[0;34m\u001b[0m\u001b[0m\n\u001b[1;32m    453\u001b[0m     \u001b[0;31m# Create the parser.\u001b[0m\u001b[0;34m\u001b[0m\u001b[0;34m\u001b[0m\u001b[0;34m\u001b[0m\u001b[0m\n\u001b[0;32m--> 454\u001b[0;31m     \u001b[0mparser\u001b[0m \u001b[0;34m=\u001b[0m \u001b[0mTextFileReader\u001b[0m\u001b[0;34m(\u001b[0m\u001b[0mfp_or_buf\u001b[0m\u001b[0;34m,\u001b[0m \u001b[0;34m**\u001b[0m\u001b[0mkwds\u001b[0m\u001b[0;34m)\u001b[0m\u001b[0;34m\u001b[0m\u001b[0;34m\u001b[0m\u001b[0m\n\u001b[0m\u001b[1;32m    455\u001b[0m \u001b[0;34m\u001b[0m\u001b[0m\n\u001b[1;32m    456\u001b[0m     \u001b[0;32mif\u001b[0m \u001b[0mchunksize\u001b[0m \u001b[0;32mor\u001b[0m \u001b[0miterator\u001b[0m\u001b[0;34m:\u001b[0m\u001b[0;34m\u001b[0m\u001b[0;34m\u001b[0m\u001b[0m\n",
      "\u001b[0;32m/usr/local/lib/python3.7/dist-packages/pandas/io/parsers.py\u001b[0m in \u001b[0;36m__init__\u001b[0;34m(self, f, engine, **kwds)\u001b[0m\n\u001b[1;32m    946\u001b[0m             \u001b[0mself\u001b[0m\u001b[0;34m.\u001b[0m\u001b[0moptions\u001b[0m\u001b[0;34m[\u001b[0m\u001b[0;34m\"has_index_names\"\u001b[0m\u001b[0;34m]\u001b[0m \u001b[0;34m=\u001b[0m \u001b[0mkwds\u001b[0m\u001b[0;34m[\u001b[0m\u001b[0;34m\"has_index_names\"\u001b[0m\u001b[0;34m]\u001b[0m\u001b[0;34m\u001b[0m\u001b[0;34m\u001b[0m\u001b[0m\n\u001b[1;32m    947\u001b[0m \u001b[0;34m\u001b[0m\u001b[0m\n\u001b[0;32m--> 948\u001b[0;31m         \u001b[0mself\u001b[0m\u001b[0;34m.\u001b[0m\u001b[0m_make_engine\u001b[0m\u001b[0;34m(\u001b[0m\u001b[0mself\u001b[0m\u001b[0;34m.\u001b[0m\u001b[0mengine\u001b[0m\u001b[0;34m)\u001b[0m\u001b[0;34m\u001b[0m\u001b[0;34m\u001b[0m\u001b[0m\n\u001b[0m\u001b[1;32m    949\u001b[0m \u001b[0;34m\u001b[0m\u001b[0m\n\u001b[1;32m    950\u001b[0m     \u001b[0;32mdef\u001b[0m \u001b[0mclose\u001b[0m\u001b[0;34m(\u001b[0m\u001b[0mself\u001b[0m\u001b[0;34m)\u001b[0m\u001b[0;34m:\u001b[0m\u001b[0;34m\u001b[0m\u001b[0;34m\u001b[0m\u001b[0m\n",
      "\u001b[0;32m/usr/local/lib/python3.7/dist-packages/pandas/io/parsers.py\u001b[0m in \u001b[0;36m_make_engine\u001b[0;34m(self, engine)\u001b[0m\n\u001b[1;32m   1178\u001b[0m     \u001b[0;32mdef\u001b[0m \u001b[0m_make_engine\u001b[0m\u001b[0;34m(\u001b[0m\u001b[0mself\u001b[0m\u001b[0;34m,\u001b[0m \u001b[0mengine\u001b[0m\u001b[0;34m=\u001b[0m\u001b[0;34m\"c\"\u001b[0m\u001b[0;34m)\u001b[0m\u001b[0;34m:\u001b[0m\u001b[0;34m\u001b[0m\u001b[0;34m\u001b[0m\u001b[0m\n\u001b[1;32m   1179\u001b[0m         \u001b[0;32mif\u001b[0m \u001b[0mengine\u001b[0m \u001b[0;34m==\u001b[0m \u001b[0;34m\"c\"\u001b[0m\u001b[0;34m:\u001b[0m\u001b[0;34m\u001b[0m\u001b[0;34m\u001b[0m\u001b[0m\n\u001b[0;32m-> 1180\u001b[0;31m             \u001b[0mself\u001b[0m\u001b[0;34m.\u001b[0m\u001b[0m_engine\u001b[0m \u001b[0;34m=\u001b[0m \u001b[0mCParserWrapper\u001b[0m\u001b[0;34m(\u001b[0m\u001b[0mself\u001b[0m\u001b[0;34m.\u001b[0m\u001b[0mf\u001b[0m\u001b[0;34m,\u001b[0m \u001b[0;34m**\u001b[0m\u001b[0mself\u001b[0m\u001b[0;34m.\u001b[0m\u001b[0moptions\u001b[0m\u001b[0;34m)\u001b[0m\u001b[0;34m\u001b[0m\u001b[0;34m\u001b[0m\u001b[0m\n\u001b[0m\u001b[1;32m   1181\u001b[0m         \u001b[0;32melse\u001b[0m\u001b[0;34m:\u001b[0m\u001b[0;34m\u001b[0m\u001b[0;34m\u001b[0m\u001b[0m\n\u001b[1;32m   1182\u001b[0m             \u001b[0;32mif\u001b[0m \u001b[0mengine\u001b[0m \u001b[0;34m==\u001b[0m \u001b[0;34m\"python\"\u001b[0m\u001b[0;34m:\u001b[0m\u001b[0;34m\u001b[0m\u001b[0;34m\u001b[0m\u001b[0m\n",
      "\u001b[0;32m/usr/local/lib/python3.7/dist-packages/pandas/io/parsers.py\u001b[0m in \u001b[0;36m__init__\u001b[0;34m(self, src, **kwds)\u001b[0m\n\u001b[1;32m   2008\u001b[0m         \u001b[0mkwds\u001b[0m\u001b[0;34m[\u001b[0m\u001b[0;34m\"usecols\"\u001b[0m\u001b[0;34m]\u001b[0m \u001b[0;34m=\u001b[0m \u001b[0mself\u001b[0m\u001b[0;34m.\u001b[0m\u001b[0musecols\u001b[0m\u001b[0;34m\u001b[0m\u001b[0;34m\u001b[0m\u001b[0m\n\u001b[1;32m   2009\u001b[0m \u001b[0;34m\u001b[0m\u001b[0m\n\u001b[0;32m-> 2010\u001b[0;31m         \u001b[0mself\u001b[0m\u001b[0;34m.\u001b[0m\u001b[0m_reader\u001b[0m \u001b[0;34m=\u001b[0m \u001b[0mparsers\u001b[0m\u001b[0;34m.\u001b[0m\u001b[0mTextReader\u001b[0m\u001b[0;34m(\u001b[0m\u001b[0msrc\u001b[0m\u001b[0;34m,\u001b[0m \u001b[0;34m**\u001b[0m\u001b[0mkwds\u001b[0m\u001b[0;34m)\u001b[0m\u001b[0;34m\u001b[0m\u001b[0;34m\u001b[0m\u001b[0m\n\u001b[0m\u001b[1;32m   2011\u001b[0m         \u001b[0mself\u001b[0m\u001b[0;34m.\u001b[0m\u001b[0munnamed_cols\u001b[0m \u001b[0;34m=\u001b[0m \u001b[0mself\u001b[0m\u001b[0;34m.\u001b[0m\u001b[0m_reader\u001b[0m\u001b[0;34m.\u001b[0m\u001b[0munnamed_cols\u001b[0m\u001b[0;34m\u001b[0m\u001b[0;34m\u001b[0m\u001b[0m\n\u001b[1;32m   2012\u001b[0m \u001b[0;34m\u001b[0m\u001b[0m\n",
      "\u001b[0;32mpandas/_libs/parsers.pyx\u001b[0m in \u001b[0;36mpandas._libs.parsers.TextReader.__cinit__\u001b[0;34m()\u001b[0m\n",
      "\u001b[0;32mpandas/_libs/parsers.pyx\u001b[0m in \u001b[0;36mpandas._libs.parsers.TextReader._setup_parser_source\u001b[0;34m()\u001b[0m\n",
      "\u001b[0;31mFileNotFoundError\u001b[0m: [Errno 2] No such file or directory: 'final_test.csv'"
     ]
    }
   ],
   "source": [
    "# TEST 데이터 불러오기\n",
    "test_df = pd.read_csv(os.path.join('final_test.csv'))\n",
    "# TEST 데이터 형태 확인하기\n",
    "print('전체 데이터 행:{}, 열:{}'.format(*test_df.shape))\n",
    "display(test_df.head())"
   ]
  },
  {
   "cell_type": "code",
   "execution_count": null,
   "metadata": {
    "colab": {
     "base_uri": "https://localhost:8080/"
    },
    "id": "4Yk6aLawM5VC",
    "outputId": "a5a4898b-2063-48f0-cc5b-7d71c880df76"
   },
   "outputs": [
    {
     "name": "stdout",
     "output_type": "stream",
     "text": [
      "<class 'pandas.core.frame.DataFrame'>\n",
      "RangeIndex: 17198 entries, 0 to 17197\n",
      "Data columns (total 44 columns):\n",
      " #   Column     Non-Null Count  Dtype  \n",
      "---  ------     --------------  -----  \n",
      " 0   TEST_SEX   17198 non-null  object \n",
      " 1   ITEM_F001  17197 non-null  float64\n",
      " 2   ITEM_F002  17196 non-null  float64\n",
      " 3   ITEM_F003  15545 non-null  float64\n",
      " 4   ITEM_F004  9370 non-null   float64\n",
      " 5   ITEM_F005  17197 non-null  float64\n",
      " 6   ITEM_F006  17197 non-null  float64\n",
      " 7   ITEM_F007  17164 non-null  float64\n",
      " 8   ITEM_F008  17168 non-null  float64\n",
      " 9   ITEM_F009  4445 non-null   float64\n",
      " 10  ITEM_F010  3566 non-null   float64\n",
      " 11  ITEM_F011  0 non-null      float64\n",
      " 12  ITEM_F012  17141 non-null  float64\n",
      " 13  ITEM_F013  6094 non-null   float64\n",
      " 14  ITEM_F014  6054 non-null   float64\n",
      " 15  ITEM_F015  6201 non-null   float64\n",
      " 16  ITEM_F016  6201 non-null   float64\n",
      " 17  ITEM_F017  6200 non-null   float64\n",
      " 18  ITEM_F018  17197 non-null  float64\n",
      " 19  ITEM_F019  8361 non-null   float64\n",
      " 20  ITEM_F020  5495 non-null   float64\n",
      " 21  ITEM_F021  687 non-null    float64\n",
      " 22  ITEM_F022  13637 non-null  float64\n",
      " 23  ITEM_F023  0 non-null      float64\n",
      " 24  ITEM_F024  0 non-null      float64\n",
      " 25  ITEM_F025  0 non-null      float64\n",
      " 26  ITEM_F026  0 non-null      float64\n",
      " 27  ITEM_F027  0 non-null      float64\n",
      " 28  ITEM_F028  17191 non-null  float64\n",
      " 29  ITEM_F029  0 non-null      float64\n",
      " 30  ITEM_F030  4886 non-null   float64\n",
      " 31  ITEM_F031  1292 non-null   float64\n",
      " 32  ITEM_F032  1290 non-null   float64\n",
      " 33  ITEM_F033  1292 non-null   float64\n",
      " 34  ITEM_F034  331 non-null    float64\n",
      " 35  ITEM_F035  1289 non-null   float64\n",
      " 36  ITEM_F036  9272 non-null   float64\n",
      " 37  ITEM_F037  9272 non-null   float64\n",
      " 38  ITEM_F038  0 non-null      float64\n",
      " 39  ITEM_F039  0 non-null      float64\n",
      " 40  ITEM_F040  7254 non-null   float64\n",
      " 41  ITEM_F041  836 non-null    float64\n",
      " 42  AGE_GROUP  17198 non-null  object \n",
      " 43  CERT_GBN   17198 non-null  object \n",
      "dtypes: float64(41), object(3)\n",
      "memory usage: 5.8+ MB\n"
     ]
    }
   ],
   "source": [
    "# 트레인 데이터 타입 확인하기\n",
    "df.info()"
   ]
  },
  {
   "cell_type": "markdown",
   "metadata": {
    "id": "0yUJy1kt7Mwe"
   },
   "source": [
    "### 데이터 불러오기"
   ]
  },
  {
   "cell_type": "code",
   "execution_count": null,
   "metadata": {
    "colab": {
     "base_uri": "https://localhost:8080/",
     "height": 317
    },
    "id": "qw7lofrABmVo",
    "outputId": "9f5494e9-cb8b-4e14-e29b-c66294b4595f"
   },
   "outputs": [
    {
     "data": {
      "text/html": [
       "<div>\n",
       "<style scoped>\n",
       "    .dataframe tbody tr th:only-of-type {\n",
       "        vertical-align: middle;\n",
       "    }\n",
       "\n",
       "    .dataframe tbody tr th {\n",
       "        vertical-align: top;\n",
       "    }\n",
       "\n",
       "    .dataframe thead th {\n",
       "        text-align: right;\n",
       "    }\n",
       "</style>\n",
       "<table border=\"1\" class=\"dataframe\">\n",
       "  <thead>\n",
       "    <tr style=\"text-align: right;\">\n",
       "      <th></th>\n",
       "      <th>ITEM_F001</th>\n",
       "      <th>ITEM_F002</th>\n",
       "      <th>ITEM_F003</th>\n",
       "      <th>ITEM_F004</th>\n",
       "      <th>ITEM_F005</th>\n",
       "      <th>ITEM_F006</th>\n",
       "      <th>ITEM_F007</th>\n",
       "      <th>ITEM_F008</th>\n",
       "      <th>ITEM_F009</th>\n",
       "      <th>ITEM_F010</th>\n",
       "      <th>ITEM_F011</th>\n",
       "      <th>ITEM_F012</th>\n",
       "      <th>ITEM_F013</th>\n",
       "      <th>ITEM_F014</th>\n",
       "      <th>ITEM_F015</th>\n",
       "      <th>ITEM_F016</th>\n",
       "      <th>ITEM_F017</th>\n",
       "      <th>ITEM_F018</th>\n",
       "      <th>ITEM_F019</th>\n",
       "      <th>ITEM_F020</th>\n",
       "      <th>ITEM_F021</th>\n",
       "      <th>ITEM_F022</th>\n",
       "      <th>ITEM_F023</th>\n",
       "      <th>ITEM_F024</th>\n",
       "      <th>ITEM_F025</th>\n",
       "      <th>ITEM_F026</th>\n",
       "      <th>ITEM_F027</th>\n",
       "      <th>ITEM_F028</th>\n",
       "      <th>ITEM_F029</th>\n",
       "      <th>ITEM_F030</th>\n",
       "      <th>ITEM_F031</th>\n",
       "      <th>ITEM_F032</th>\n",
       "      <th>ITEM_F033</th>\n",
       "      <th>ITEM_F034</th>\n",
       "      <th>ITEM_F035</th>\n",
       "      <th>ITEM_F036</th>\n",
       "      <th>ITEM_F037</th>\n",
       "      <th>ITEM_F038</th>\n",
       "      <th>ITEM_F039</th>\n",
       "      <th>ITEM_F040</th>\n",
       "      <th>ITEM_F041</th>\n",
       "    </tr>\n",
       "  </thead>\n",
       "  <tbody>\n",
       "    <tr>\n",
       "      <th>count</th>\n",
       "      <td>17197.000000</td>\n",
       "      <td>17196.000000</td>\n",
       "      <td>15545.000000</td>\n",
       "      <td>9370.000000</td>\n",
       "      <td>17197.000000</td>\n",
       "      <td>17197.000000</td>\n",
       "      <td>17164.000000</td>\n",
       "      <td>17168.000000</td>\n",
       "      <td>4445.000000</td>\n",
       "      <td>3566.000000</td>\n",
       "      <td>0.0</td>\n",
       "      <td>17141.000000</td>\n",
       "      <td>6094.000000</td>\n",
       "      <td>6054.000000</td>\n",
       "      <td>6201.000000</td>\n",
       "      <td>6201.000000</td>\n",
       "      <td>6200.000000</td>\n",
       "      <td>17197.000000</td>\n",
       "      <td>8361.000000</td>\n",
       "      <td>5495.000000</td>\n",
       "      <td>687.000000</td>\n",
       "      <td>13637.000000</td>\n",
       "      <td>0.0</td>\n",
       "      <td>0.0</td>\n",
       "      <td>0.0</td>\n",
       "      <td>0.0</td>\n",
       "      <td>0.0</td>\n",
       "      <td>17191.000000</td>\n",
       "      <td>0.0</td>\n",
       "      <td>4886.000000</td>\n",
       "      <td>1292.000000</td>\n",
       "      <td>1290.000000</td>\n",
       "      <td>1292.000000</td>\n",
       "      <td>331.000000</td>\n",
       "      <td>1289.000000</td>\n",
       "      <td>9272.000000</td>\n",
       "      <td>9272.000000</td>\n",
       "      <td>0.0</td>\n",
       "      <td>0.0</td>\n",
       "      <td>7254.000000</td>\n",
       "      <td>836.00000</td>\n",
       "    </tr>\n",
       "    <tr>\n",
       "      <th>mean</th>\n",
       "      <td>168.163372</td>\n",
       "      <td>67.294823</td>\n",
       "      <td>24.299191</td>\n",
       "      <td>78.997773</td>\n",
       "      <td>75.850137</td>\n",
       "      <td>125.237948</td>\n",
       "      <td>33.904939</td>\n",
       "      <td>36.274791</td>\n",
       "      <td>31.411564</td>\n",
       "      <td>42.007572</td>\n",
       "      <td>NaN</td>\n",
       "      <td>11.107534</td>\n",
       "      <td>20.818889</td>\n",
       "      <td>0.493520</td>\n",
       "      <td>52.744908</td>\n",
       "      <td>10.510885</td>\n",
       "      <td>50.733153</td>\n",
       "      <td>23.597494</td>\n",
       "      <td>39.782466</td>\n",
       "      <td>39.768080</td>\n",
       "      <td>10.887786</td>\n",
       "      <td>186.243171</td>\n",
       "      <td>NaN</td>\n",
       "      <td>NaN</td>\n",
       "      <td>NaN</td>\n",
       "      <td>NaN</td>\n",
       "      <td>NaN</td>\n",
       "      <td>54.855500</td>\n",
       "      <td>NaN</td>\n",
       "      <td>20.042079</td>\n",
       "      <td>103.759288</td>\n",
       "      <td>123.266667</td>\n",
       "      <td>138.061146</td>\n",
       "      <td>141.755287</td>\n",
       "      <td>44.164546</td>\n",
       "      <td>120.034297</td>\n",
       "      <td>40.983164</td>\n",
       "      <td>NaN</td>\n",
       "      <td>NaN</td>\n",
       "      <td>0.365015</td>\n",
       "      <td>0.92764</td>\n",
       "    </tr>\n",
       "    <tr>\n",
       "      <th>std</th>\n",
       "      <td>9.840836</td>\n",
       "      <td>15.441664</td>\n",
       "      <td>8.496384</td>\n",
       "      <td>11.794652</td>\n",
       "      <td>10.542719</td>\n",
       "      <td>21.181169</td>\n",
       "      <td>11.351094</td>\n",
       "      <td>13.833132</td>\n",
       "      <td>22.761691</td>\n",
       "      <td>13.006599</td>\n",
       "      <td>NaN</td>\n",
       "      <td>9.989621</td>\n",
       "      <td>3.496684</td>\n",
       "      <td>0.132758</td>\n",
       "      <td>196.743174</td>\n",
       "      <td>11.330999</td>\n",
       "      <td>10.013541</td>\n",
       "      <td>4.454577</td>\n",
       "      <td>12.883929</td>\n",
       "      <td>21.022427</td>\n",
       "      <td>1.417303</td>\n",
       "      <td>40.701606</td>\n",
       "      <td>NaN</td>\n",
       "      <td>NaN</td>\n",
       "      <td>NaN</td>\n",
       "      <td>NaN</td>\n",
       "      <td>NaN</td>\n",
       "      <td>22.305051</td>\n",
       "      <td>NaN</td>\n",
       "      <td>130.051814</td>\n",
       "      <td>29.846550</td>\n",
       "      <td>16.867858</td>\n",
       "      <td>17.635745</td>\n",
       "      <td>61.337150</td>\n",
       "      <td>6.309520</td>\n",
       "      <td>23.147110</td>\n",
       "      <td>32.027411</td>\n",
       "      <td>NaN</td>\n",
       "      <td>NaN</td>\n",
       "      <td>0.705987</td>\n",
       "      <td>8.58143</td>\n",
       "    </tr>\n",
       "    <tr>\n",
       "      <th>min</th>\n",
       "      <td>51.900000</td>\n",
       "      <td>18.500000</td>\n",
       "      <td>3.100000</td>\n",
       "      <td>40.000000</td>\n",
       "      <td>0.000000</td>\n",
       "      <td>0.000000</td>\n",
       "      <td>0.000000</td>\n",
       "      <td>0.000000</td>\n",
       "      <td>0.000000</td>\n",
       "      <td>0.000000</td>\n",
       "      <td>NaN</td>\n",
       "      <td>-31.000000</td>\n",
       "      <td>0.000000</td>\n",
       "      <td>0.000000</td>\n",
       "      <td>3.462000</td>\n",
       "      <td>0.000000</td>\n",
       "      <td>4.520000</td>\n",
       "      <td>0.500000</td>\n",
       "      <td>0.000000</td>\n",
       "      <td>0.000000</td>\n",
       "      <td>0.000000</td>\n",
       "      <td>0.000000</td>\n",
       "      <td>NaN</td>\n",
       "      <td>NaN</td>\n",
       "      <td>NaN</td>\n",
       "      <td>NaN</td>\n",
       "      <td>NaN</td>\n",
       "      <td>3.400000</td>\n",
       "      <td>NaN</td>\n",
       "      <td>-8709.600000</td>\n",
       "      <td>51.000000</td>\n",
       "      <td>11.000000</td>\n",
       "      <td>8.000000</td>\n",
       "      <td>0.000000</td>\n",
       "      <td>25.200000</td>\n",
       "      <td>0.000000</td>\n",
       "      <td>-2347.200000</td>\n",
       "      <td>NaN</td>\n",
       "      <td>NaN</td>\n",
       "      <td>0.179000</td>\n",
       "      <td>0.00000</td>\n",
       "    </tr>\n",
       "    <tr>\n",
       "      <th>25%</th>\n",
       "      <td>161.900000</td>\n",
       "      <td>56.300000</td>\n",
       "      <td>18.000000</td>\n",
       "      <td>71.000000</td>\n",
       "      <td>69.000000</td>\n",
       "      <td>116.000000</td>\n",
       "      <td>24.600000</td>\n",
       "      <td>26.500000</td>\n",
       "      <td>16.000000</td>\n",
       "      <td>33.000000</td>\n",
       "      <td>NaN</td>\n",
       "      <td>5.400000</td>\n",
       "      <td>18.320000</td>\n",
       "      <td>0.427000</td>\n",
       "      <td>44.728000</td>\n",
       "      <td>7.000000</td>\n",
       "      <td>45.195500</td>\n",
       "      <td>20.700000</td>\n",
       "      <td>32.000000</td>\n",
       "      <td>22.000000</td>\n",
       "      <td>10.190000</td>\n",
       "      <td>156.000000</td>\n",
       "      <td>NaN</td>\n",
       "      <td>NaN</td>\n",
       "      <td>NaN</td>\n",
       "      <td>NaN</td>\n",
       "      <td>NaN</td>\n",
       "      <td>45.500000</td>\n",
       "      <td>NaN</td>\n",
       "      <td>-26.600000</td>\n",
       "      <td>84.000000</td>\n",
       "      <td>112.000000</td>\n",
       "      <td>127.000000</td>\n",
       "      <td>148.000000</td>\n",
       "      <td>40.000000</td>\n",
       "      <td>104.000000</td>\n",
       "      <td>37.500000</td>\n",
       "      <td>NaN</td>\n",
       "      <td>NaN</td>\n",
       "      <td>0.317000</td>\n",
       "      <td>0.46500</td>\n",
       "    </tr>\n",
       "    <tr>\n",
       "      <th>50%</th>\n",
       "      <td>169.700000</td>\n",
       "      <td>66.900000</td>\n",
       "      <td>24.000000</td>\n",
       "      <td>78.100000</td>\n",
       "      <td>76.000000</td>\n",
       "      <td>123.000000</td>\n",
       "      <td>34.500000</td>\n",
       "      <td>37.000000</td>\n",
       "      <td>26.000000</td>\n",
       "      <td>44.000000</td>\n",
       "      <td>NaN</td>\n",
       "      <td>11.800000</td>\n",
       "      <td>20.160000</td>\n",
       "      <td>0.502000</td>\n",
       "      <td>48.960000</td>\n",
       "      <td>9.000000</td>\n",
       "      <td>49.410000</td>\n",
       "      <td>23.300000</td>\n",
       "      <td>41.000000</td>\n",
       "      <td>37.000000</td>\n",
       "      <td>10.780000</td>\n",
       "      <td>190.000000</td>\n",
       "      <td>NaN</td>\n",
       "      <td>NaN</td>\n",
       "      <td>NaN</td>\n",
       "      <td>NaN</td>\n",
       "      <td>NaN</td>\n",
       "      <td>54.600000</td>\n",
       "      <td>NaN</td>\n",
       "      <td>39.400000</td>\n",
       "      <td>94.000000</td>\n",
       "      <td>123.000000</td>\n",
       "      <td>138.000000</td>\n",
       "      <td>165.000000</td>\n",
       "      <td>44.900000</td>\n",
       "      <td>119.000000</td>\n",
       "      <td>41.500000</td>\n",
       "      <td>NaN</td>\n",
       "      <td>NaN</td>\n",
       "      <td>0.348000</td>\n",
       "      <td>0.53500</td>\n",
       "    </tr>\n",
       "    <tr>\n",
       "      <th>75%</th>\n",
       "      <td>175.200000</td>\n",
       "      <td>77.300000</td>\n",
       "      <td>30.300000</td>\n",
       "      <td>86.200000</td>\n",
       "      <td>83.000000</td>\n",
       "      <td>133.000000</td>\n",
       "      <td>42.500000</td>\n",
       "      <td>45.300000</td>\n",
       "      <td>40.000000</td>\n",
       "      <td>52.000000</td>\n",
       "      <td>NaN</td>\n",
       "      <td>17.700000</td>\n",
       "      <td>22.780000</td>\n",
       "      <td>0.576000</td>\n",
       "      <td>54.460000</td>\n",
       "      <td>12.000000</td>\n",
       "      <td>54.962500</td>\n",
       "      <td>26.000000</td>\n",
       "      <td>49.000000</td>\n",
       "      <td>54.000000</td>\n",
       "      <td>11.530000</td>\n",
       "      <td>218.000000</td>\n",
       "      <td>NaN</td>\n",
       "      <td>NaN</td>\n",
       "      <td>NaN</td>\n",
       "      <td>NaN</td>\n",
       "      <td>NaN</td>\n",
       "      <td>63.700000</td>\n",
       "      <td>NaN</td>\n",
       "      <td>43.800000</td>\n",
       "      <td>112.250000</td>\n",
       "      <td>134.000000</td>\n",
       "      <td>149.000000</td>\n",
       "      <td>176.000000</td>\n",
       "      <td>48.600000</td>\n",
       "      <td>136.000000</td>\n",
       "      <td>45.700000</td>\n",
       "      <td>NaN</td>\n",
       "      <td>NaN</td>\n",
       "      <td>0.382000</td>\n",
       "      <td>0.58300</td>\n",
       "    </tr>\n",
       "    <tr>\n",
       "      <th>max</th>\n",
       "      <td>196.000000</td>\n",
       "      <td>146.500000</td>\n",
       "      <td>121.000000</td>\n",
       "      <td>140.500000</td>\n",
       "      <td>135.000000</td>\n",
       "      <td>1330.000000</td>\n",
       "      <td>132.800000</td>\n",
       "      <td>929.400000</td>\n",
       "      <td>120.000000</td>\n",
       "      <td>83.000000</td>\n",
       "      <td>NaN</td>\n",
       "      <td>299.000000</td>\n",
       "      <td>62.000000</td>\n",
       "      <td>6.276000</td>\n",
       "      <td>15523.000000</td>\n",
       "      <td>758.000000</td>\n",
       "      <td>455.790000</td>\n",
       "      <td>171.900000</td>\n",
       "      <td>78.000000</td>\n",
       "      <td>132.000000</td>\n",
       "      <td>18.250000</td>\n",
       "      <td>307.000000</td>\n",
       "      <td>NaN</td>\n",
       "      <td>NaN</td>\n",
       "      <td>NaN</td>\n",
       "      <td>NaN</td>\n",
       "      <td>NaN</td>\n",
       "      <td>2109.100000</td>\n",
       "      <td>NaN</td>\n",
       "      <td>60.100000</td>\n",
       "      <td>211.000000</td>\n",
       "      <td>185.000000</td>\n",
       "      <td>192.000000</td>\n",
       "      <td>209.000000</td>\n",
       "      <td>68.500000</td>\n",
       "      <td>239.000000</td>\n",
       "      <td>62.600000</td>\n",
       "      <td>NaN</td>\n",
       "      <td>NaN</td>\n",
       "      <td>60.000000</td>\n",
       "      <td>217.00000</td>\n",
       "    </tr>\n",
       "  </tbody>\n",
       "</table>\n",
       "</div>"
      ],
      "text/plain": [
       "          ITEM_F001     ITEM_F002  ...    ITEM_F040  ITEM_F041\n",
       "count  17197.000000  17196.000000  ...  7254.000000  836.00000\n",
       "mean     168.163372     67.294823  ...     0.365015    0.92764\n",
       "std        9.840836     15.441664  ...     0.705987    8.58143\n",
       "min       51.900000     18.500000  ...     0.179000    0.00000\n",
       "25%      161.900000     56.300000  ...     0.317000    0.46500\n",
       "50%      169.700000     66.900000  ...     0.348000    0.53500\n",
       "75%      175.200000     77.300000  ...     0.382000    0.58300\n",
       "max      196.000000    146.500000  ...    60.000000  217.00000\n",
       "\n",
       "[8 rows x 41 columns]"
      ]
     },
     "execution_count": 38,
     "metadata": {},
     "output_type": "execute_result"
    }
   ],
   "source": [
    "#양적자료 에대한 통계분석\n",
    "df.describe()"
   ]
  },
  {
   "cell_type": "code",
   "execution_count": null,
   "metadata": {
    "colab": {
     "base_uri": "https://localhost:8080/"
    },
    "id": "uiZ8P9tvpSZw",
    "outputId": "f3899885-8ba5-4437-b467-7d4ad6fbb84f"
   },
   "outputs": [
    {
     "name": "stdout",
     "output_type": "stream",
     "text": [
      "TEST_SEX\n",
      "ITEM_F001\n",
      "ITEM_F002\n",
      "ITEM_F003\n",
      "ITEM_F005\n",
      "ITEM_F006\n",
      "ITEM_F007\n",
      "ITEM_F008\n",
      "ITEM_F012\n",
      "ITEM_F018\n",
      "ITEM_F022\n",
      "ITEM_F028\n",
      "AGE_GROUP\n",
      "CERT_GBN\n"
     ]
    }
   ],
   "source": [
    "keep_columns=[]\n",
    "na_info=df.isna().sum()\n",
    "for index,data in enumerate(na_info):\n",
    "  if data< 0.3*len(df):    #베이스라인에서는 총 데이터 량의 30%가 NA값일 경우 평균으로 채우려고 합니다 \n",
    "    keep_columns.append(na_info.index[index])\n",
    "\n",
    "df=df[keep_columns]\n",
    "MEAN_INFO=df.mean()\n",
    "df=df.fillna(MEAN_INFO)\n",
    "print(*keep_columns,sep=\"\\n\")"
   ]
  },
  {
   "cell_type": "code",
   "execution_count": null,
   "metadata": {
    "colab": {
     "base_uri": "https://localhost:8080/",
     "height": 592
    },
    "id": "gEwytAcaIYir",
    "outputId": "8e2e4061-b22a-43a3-c722-1d0fc3683fd2"
   },
   "outputs": [
    {
     "data": {
      "text/plain": [
       "Text(0.5, 1.0, '성별 vs 등급')"
      ]
     },
     "execution_count": 40,
     "metadata": {},
     "output_type": "execute_result"
    },
    {
     "data": {
      "image/png": "[encoded data removed]",
      "text/plain": [
       "<Figure size 432x288 with 1 Axes>"
      ]
     },
     "metadata": {
      "needs_background": "light"
     },
     "output_type": "display_data"
    },
    {
     "data": {
      "image/png": "[encoded data removed]",
      "text/plain": [
       "<Figure size 432x288 with 1 Axes>"
      ]
     },
     "metadata": {
      "needs_background": "light"
     },
     "output_type": "display_data"
    }
   ],
   "source": [
    "# 그래프를 사용한 시각적 분석\n",
    "\n",
    "plt.figure()\n",
    "sns.color_palette(\"hls\", 8)\n",
    "sns.countplot(x=\"TEST_SEX\",data=df, hue = \"AGE_GROUP\") #이외에도, job,education,contact 등 object로 되어있는 부분에 사용가능\n",
    "plt.title(\"성별 vs 연령\")\n",
    " #이외에도, job,education,contact 등 object로 되어있는 부분에 사용가능\n",
    "\n",
    "plt.figure()\n",
    "sns.countplot(x=\"TEST_SEX\",data=df, hue = \"CERT_GBN\") #이외에도, job,education,contact 등 object로 되어있는 부분에 사용가능\n",
    "plt.title(\"성별 vs 등급\")"
   ]
  },
  {
   "cell_type": "code",
   "execution_count": null,
   "metadata": {
    "colab": {
     "base_uri": "https://localhost:8080/",
     "height": 592
    },
    "id": "3WnzyWFlfgCp",
    "outputId": "f4962e90-353c-46fa-f56c-c9924af6762f"
   },
   "outputs": [
    {
     "data": {
      "text/plain": [
       "Text(0.5, 1.0, 'Weight Status')"
      ]
     },
     "execution_count": 41,
     "metadata": {},
     "output_type": "execute_result"
    },
    {
     "data": {
      "image/png": "[encoded data removed]",
      "text/plain": [
       "<Figure size 432x288 with 1 Axes>"
      ]
     },
     "metadata": {
      "needs_background": "light"
     },
     "output_type": "display_data"
    },
    {
     "data": {
      "image/png": "[encoded data removed]",
      "text/plain": [
       "<Figure size 432x288 with 1 Axes>"
      ]
     },
     "metadata": {
      "needs_background": "light"
     },
     "output_type": "display_data"
    }
   ],
   "source": [
    "# 그래프를 사용한 시각적 분석\n",
    "plt.figure()\n",
    "\n",
    "#plt.ylim([-5,5]) #y최솟값 설정\n",
    "sns.boxplot(x=\"ITEM_F001\",y=\"TEST_SEX\",data=df) \n",
    "plt.title(\"Height Status\")\n",
    "\n",
    "plt.figure()\n",
    "sns.boxplot(x=\"ITEM_F002\",y=\"TEST_SEX\",data=df) \n",
    "plt.title(\"Weight Status\")\n"
   ]
  },
  {
   "cell_type": "code",
   "execution_count": null,
   "metadata": {
    "colab": {
     "base_uri": "https://localhost:8080/",
     "height": 702
    },
    "id": "9aPq-dBKy7oi",
    "outputId": "75cfc526-c2d0-40b5-f3f3-4bb0eff6407f"
   },
   "outputs": [
    {
     "data": {
      "text/plain": [
       "Text(0.5, 1.0, '몸무게 분포')"
      ]
     },
     "execution_count": 42,
     "metadata": {},
     "output_type": "execute_result"
    },
    {
     "data": {
      "image/png": "[encoded data removed]",
      "text/plain": [
       "<Figure size 1224x360 with 1 Axes>"
      ]
     },
     "metadata": {
      "needs_background": "light"
     },
     "output_type": "display_data"
    },
    {
     "data": {
      "image/png": "[encoded data removed]",
      "text/plain": [
       "<Figure size 1224x360 with 1 Axes>"
      ]
     },
     "metadata": {
      "needs_background": "light"
     },
     "output_type": "display_data"
    }
   ],
   "source": [
    "plt.figure(figsize = (17, 5))\n",
    "sns.distplot(df.loc[df.AGE_GROUP == \"10대\", 'ITEM_F001'], label = \"10대 키 분포\", hist = False)\n",
    "sns.distplot(df.loc[df.CERT_GBN == \"1등급\", 'ITEM_F001'], label= \"1등급 키 분포\", hist = False)\n",
    "\n",
    "plt.legend()\n",
    "plt.xlim([-1,200]) #x범위 설정\n",
    "plt.title(\"키 분포\")\n",
    "\n",
    "plt.figure(figsize = (17, 5))\n",
    "sns.distplot(df.loc[df.AGE_GROUP == \"10대\", 'ITEM_F002'], label = \"10대 키 분포\", hist = False)\n",
    "sns.distplot(df.loc[df.CERT_GBN == \"1등급\", 'ITEM_F002'], label= \"1등급 키 분포\", hist = False)\n",
    "\n",
    "plt.legend()\n",
    "plt.xlim([-1,150]) #x범위 설정\n",
    "plt.title(\"몸무게 분포\")\n",
    "#이외에도, age,\tbalance\t,day,\tduration,\tcampaign,\tpdays\t,previous 등 숫자로 되어있는 부분에 사용가능"
   ]
  },
  {
   "cell_type": "code",
   "execution_count": null,
   "metadata": {
    "colab": {
     "base_uri": "https://localhost:8080/",
     "height": 313
    },
    "id": "F1naa26UWPpI",
    "outputId": "8f9794b8-52f8-4e2b-95d9-17b9ca14c9ad"
   },
   "outputs": [
    {
     "data": {
      "text/plain": [
       "Counter({'10대': 10550, '20대': 2945, '30대': 1529, '40대': 1244, '50대': 930})"
      ]
     },
     "execution_count": 43,
     "metadata": {},
     "output_type": "execute_result"
    },
    {
     "data": {
      "image/png": "[encoded data removed]",
      "text/plain": [
       "<Figure size 432x288 with 1 Axes>"
      ]
     },
     "metadata": {
      "needs_background": "light"
     },
     "output_type": "display_data"
    }
   ],
   "source": [
    "#예측값에 대한 분포\n",
    "plt.figure()\n",
    "sns.histplot(x=\"AGE_GROUP\",data=df)\n",
    "plt.title(\"나이\")\n",
    "\n",
    "from collections import Counter\n",
    "Counter(df['AGE_GROUP'].values)"
   ]
  },
  {
   "cell_type": "code",
   "execution_count": null,
   "metadata": {
    "colab": {
     "base_uri": "https://localhost:8080/",
     "height": 313
    },
    "id": "bzB_2IpPvkXS",
    "outputId": "d10fd092-3145-4862-d4d4-786fad11d053"
   },
   "outputs": [
    {
     "data": {
      "text/plain": [
       "Counter({'1등급': 1051, '2등급': 2274, '3등급': 3327, '참가증': 10546})"
      ]
     },
     "execution_count": 44,
     "metadata": {},
     "output_type": "execute_result"
    },
    {
     "data": {
      "image/png": "[encoded data removed]",
      "text/plain": [
       "<Figure size 432x288 with 1 Axes>"
      ]
     },
     "metadata": {
      "needs_background": "light"
     },
     "output_type": "display_data"
    }
   ],
   "source": [
    "plt.figure()\n",
    "sns.histplot(x=\"CERT_GBN\",data=df)\n",
    "plt.title(\"등급\")\n",
    "\n",
    "from collections import Counter\n",
    "Counter(df['CERT_GBN'].values)"
   ]
  },
  {
   "cell_type": "code",
   "execution_count": null,
   "metadata": {
    "colab": {
     "base_uri": "https://localhost:8080/",
     "height": 330
    },
    "id": "M9xS-DrgBQgc",
    "outputId": "eba6d359-b38d-4cb6-aeee-03892713ad1e"
   },
   "outputs": [
    {
     "data": {
      "text/plain": [
       "<matplotlib.axes._subplots.AxesSubplot at 0x7f7943db2a50>"
      ]
     },
     "execution_count": 45,
     "metadata": {},
     "output_type": "execute_result"
    },
    {
     "data": {
      "image/png": "[encoded data removed]",
      "text/plain": [
       "<Figure size 432x288 with 2 Axes>"
      ]
     },
     "metadata": {
      "needs_background": "light"
     },
     "output_type": "display_data"
    }
   ],
   "source": [
    "# 상관관계 분석\n",
    "corr = df.corr()\n",
    "sns.heatmap(corr)"
   ]
  },
  {
   "cell_type": "markdown",
   "metadata": {
    "id": "P1TMegzsLQWE"
   },
   "source": [
    "<hr style=\"height:3px;border:none;color:#5F71F7;background-color:#5F71F7;\" />\n",
    "\n",
    "# 머신러닝 분류 진행"
   ]
  },
  {
   "cell_type": "markdown",
   "metadata": {
    "id": "egpW-OpHQcsJ"
   },
   "source": [
    "## 🛠 Config\n",
    "\n",
    "밑에 있는 **보기**에서 학습에 필요한 변수들을 `선택`하고 `입력`한다.\n",
    "\n",
    "### 사용가능한 모델 \n",
    "```\n",
    "\n",
    "#Models\n",
    "\"LogisticRegression\"\n",
    "\"LogisticRegressionCV\"\n",
    "\"PassiveAggressiveClassifier\"\n",
    "\"Perceptron\"\n",
    "\"RidgeClassifier\"\n",
    "\"SGDClassifier\"\n",
    "\"AdaBoostClassifier\"\n",
    "\"BaggingClassifier\"\n",
    "\"ExtraTreesClassifier\"\n",
    "\"GradientBoostingClassifier\"\n",
    "\"RandomForestClassifier\"\n",
    " \n",
    "\n",
    "# Reduce_dimensionality\n",
    "    1. PCA\n",
    "# scaler\n",
    "    1. StandardScaler\n",
    "    2. MinMaxScaler\n",
    "    3. MaxAbsScaler\n",
    "    4. RobustScaler\n",
    "```"
   ]
  },
  {
   "cell_type": "markdown",
   "metadata": {
    "id": "8HW9LIsAQcjy"
   },
   "source": [
    "<img src='https://iaml.it/blog/optimizing-sklearn-pipelines/images/pipeline-diagram.png' width=60%>"
   ]
  },
  {
   "cell_type": "code",
   "execution_count": null,
   "metadata": {
    "id": "ot09SMdMQngh"
   },
   "outputs": [],
   "source": [
    "# Configuration\n",
    "# 경로 설정\n",
    "config = ConfigTree()\n",
    "\n",
    "# Data PATH\n",
    "config.DATAPATH.ROOT = \"\"\n",
    "config.DATAPATH.TEST = os.path.join('final_test.csv')\n",
    "\n",
    "# sys\n",
    "config.SYSTEM.SAVE_DIR = os.path.join('submission') # 저장되는 위치\n",
    "\n",
    "# -------------------------------\n",
    "# 1. 본인의 팀 이름을 영어로 입력해주세요. \n",
    "# -------------------------------\n",
    "config.SYSTEM.TEAM_NAME = 'LHS' # 팀 이름\n",
    "\n",
    "\n",
    "# -------------------------------\n",
    "# 2. 사용한 모델 이름을 입력해주세요.(대소문자 지키기)\n",
    "# -------------------------------\n",
    "config.MODEL.NAME = \"LogisticRegression\" # 모델이름\n",
    "\n",
    "# -------------------------------\n",
    "# 3. 사용할 데이터를 선택하세요. (['train1','train2','train3',train4',train5']\n",
    "# -------------------------------\n",
    "config.DATAPATH.TRAIN = ['train1']#,'train2','train3','train4','train5']\n",
    "\n",
    "train_df=None\n",
    "for i in config.DATAPATH.TRAIN:\n",
    "  df=pd.read_csv(os.path.join(i+'.csv'))\n",
    "  if train_df is None:\n",
    "    train_df=df\n",
    "  else: \n",
    "    train_df=train_df.append(df)\n",
    "\n",
    "# -------------------------------\n",
    "# 4. NULL/N/A 처리. (['train1','train2','train3',train4',train5']\n",
    "# -------------------------------\n",
    "keep_columns=[]\n",
    "na_info=train_df.isna().sum()\n",
    "for index,data in enumerate(na_info):\n",
    "  if data< 0.3*len(df):    #베이스라인에서는 총 데이터 량의 30%가 NA값일 경우 평균으로 채우려고 합니다 \n",
    "    keep_columns.append(na_info.index[index])\n",
    "\n",
    "keep_columns.remove('AGE_GROUP')\n",
    "keep_columns.remove('CERT_GBN')\n",
    "MEAN_INFO=train_df.mean() \n",
    "train_df=train_df.fillna(MEAN_INFO)\n",
    "#-------------------------"
   ]
  },
  {
   "cell_type": "code",
   "execution_count": null,
   "metadata": {
    "id": "eWa8seQnSuNB"
   },
   "outputs": [],
   "source": [
    "# --- 추가사항.. (원치 않는다면 주석처리하기)--- #\n",
    "\n",
    "# -------------------------------\n",
    "# 3. 차원축소 방법 과 스케일링 방법 선택하기 \n",
    "# -------------------------------\n",
    "config.PREPROCESS.reduce_dim=None\n",
    "#config.PREPROCESS.reduce_dim = {'reduce_dim':'PCA'} # 차원축소 기법사용\n",
    "config.PREPROCESS.SCALER=None\n",
    "#config.PREPROCESS.SCALER = {'scaler':'MinMaxScaler'} # 스케일링 기법사용\n",
    "\n"
   ]
  },
  {
   "cell_type": "code",
   "execution_count": null,
   "metadata": {
    "id": "J71QMiV4RW-x"
   },
   "outputs": [],
   "source": [
    "X = train_df.drop(['AGE_GROUP', 'CERT_GBN'], axis=1) # 독립변수 \n",
    "Y = train_df[['AGE_GROUP','CERT_GBN']]"
   ]
  },
  {
   "cell_type": "code",
   "execution_count": null,
   "metadata": {
    "colab": {
     "base_uri": "https://localhost:8080/"
    },
    "id": "x3fVpOIpWEfN",
    "outputId": "7ae12c75-da89-46bc-fcc8-6a7a94f79f5d"
   },
   "outputs": [
    {
     "name": "stdout",
     "output_type": "stream",
     "text": [
      "[INFO] 성공적으로 변수가 선택되었습니다. \n"
     ]
    }
   ],
   "source": [
    "try:\n",
    "    if len(keep_columns)!=0:\n",
    "        X = X.loc[:,keep_columns]\n",
    "    print('[INFO] 성공적으로 변수가 선택되었습니다. ')\n",
    "    #남녀 데이터-> [1,0]\n",
    "    categorical_data=['TEST_SEX']\n",
    "    X = pd.get_dummies(X,columns =categorical_data , drop_first = True)\n",
    "    \n",
    "except:\n",
    "    print('[INFO] 변수이름을 다시 확인해주세요.')"
   ]
  },
  {
   "cell_type": "code",
   "execution_count": null,
   "metadata": {
    "id": "i7Tcg1jvKLH1"
   },
   "outputs": [],
   "source": [
    "from sklearn import preprocessing \n",
    "#해당 코드 (순서를) 변경하시면 submission 할때 문제가 생길수도 있습니다 \n",
    "AGE_LABEL=preprocessing.LabelEncoder().fit(['10대','20대','30대','40대','50대']) #Class 를 숫자로 변환  \n",
    "CERT_LABEL=preprocessing.LabelEncoder().fit(['1등급','2등급','3등급','참가증'])\n",
    "## 데이터 레이블과 Feature 분할\n",
    "Y1 = AGE_LABEL.transform(Y['AGE_GROUP'] )\n",
    "Y2 = CERT_LABEL.transform(Y['CERT_GBN'] )\n"
   ]
  },
  {
   "cell_type": "markdown",
   "metadata": {
    "id": "djR_dwWakIGL"
   },
   "source": [
    "# 모델 학습과 평가"
   ]
  },
  {
   "cell_type": "markdown",
   "metadata": {
    "id": "Vk5I4FJF3TaY"
   },
   "source": [
    "## Train Valid 분할\n",
    "\n",
    "<img src=\"https://upload.wikimedia.org/wikipedia/commons/thumb/b/bb/ML_dataset_training_validation_test_sets.png/330px-ML_dataset_training_validation_test_sets.png\" alt=\"Drawing\" height=\"200\">"
   ]
  },
  {
   "cell_type": "code",
   "execution_count": null,
   "metadata": {
    "colab": {
     "base_uri": "https://localhost:8080/"
    },
    "id": "D9hEXZG-Y4Ea",
    "outputId": "82f1ff95-be37-4e41-9899-6571aabc7fa1"
   },
   "outputs": [
    {
     "name": "stdout",
     "output_type": "stream",
     "text": [
      "[INFO] PIPELINE SETUP SUCCESS\n",
      "========================================\n",
      "[INFO] Details ...\n",
      "model     : LogisticRegression(C=1.0, class_weight=None, dual=False, fit_intercept=True,\n",
      "                   intercept_scaling=1, l1_ratio=None, max_iter=100,\n",
      "                   multi_class='auto', n_jobs=None, penalty='l2',\n",
      "                   random_state=None, solver='lbfgs', tol=0.0001, verbose=0,\n",
      "                   warm_start=False)\n",
      "========================================\n"
     ]
    }
   ],
   "source": [
    "# -------------------------------\n",
    "# 6. 나눌 비율을 설정해주세요. \n",
    "# -------------------------------\n",
    "RATIO = 0.2\n",
    "\n",
    "\n",
    "assert  0<RATIO<1, '비율의 범위를 확인하십시요. 0부터 1 사이의 실수여야됩니다.'\n",
    "\n",
    "# -------------------------------\n",
    "# 7. 나이예측\n",
    "# -------------------------------\n",
    "\n",
    "X_train, X_valid, y_train, y_valid = train_test_split(X, pd.DataFrame({'age':Y1,'cert':Y2}), test_size=RATIO)\n",
    "\n",
    "#SMOTE를 사용하는 방법도 있습니다 SMOTE가 무엇인지 직접 한번 찾아보세요\n",
    "from imblearn.over_sampling import SMOTE\n",
    "#sm = SMOTE(ratio='auto', kind='regular')\n",
    "#X_resampled_age, y_resampled_age = sm.fit_sample(X_train,y_train['age'])\n",
    "#X_resampled_cert, y_resampled_cert = sm.fit_sample(X_train,y_train['cert'])                                                      \n",
    "# 모델설정\n",
    "pipe = HealthClass(config).build_pipline(reduce_dim_params=None,\n",
    "                                            model_params=None)"
   ]
  },
  {
   "cell_type": "code",
   "execution_count": null,
   "metadata": {
    "id": "Q2LRp7GkCxpO"
   },
   "outputs": [],
   "source": [
    "#파이프라인 사용 안할시 해당 아래 코드 참고 \n",
    "#from sklearn.linear_model import LogisticRegression\n",
    "#model=LogisticRegression(penalty='l2', dual=False, tol=0.0001, C=1.0, fit_intercept=True, intercept_scaling=1, class_weight=None, random_state=None, \n",
    "#                         solver='lbfgs',max_iter=100, multi_class='auto', verbose=0, \n",
    "#                         warm_start=False, n_jobs=None, l1_ratio=None)\n",
    "#model.fit(X_train,y_train['age'])\n"
   ]
  },
  {
   "cell_type": "code",
   "execution_count": null,
   "metadata": {
    "id": "XXQTsBy5DPYk"
   },
   "outputs": [],
   "source": []
  },
  {
   "cell_type": "code",
   "execution_count": null,
   "metadata": {
    "id": "pfihC8rxDCzu"
   },
   "outputs": [],
   "source": []
  },
  {
   "cell_type": "code",
   "execution_count": null,
   "metadata": {
    "id": "nT2w9VaHdLVf"
   },
   "outputs": [],
   "source": [
    "# train data 를 사용하여 모델 학습하기 \n",
    "model1 = pipe.fit(X_train, y_train['age'])\n",
    "model2 = pipe.fit(X_train, y_train['cert'])\n",
    "#SMOTE DATA 로 사용하여 학습하기\n",
    "#model1 = pipe.fit(X_resampled_age, y_resampled_age)\n",
    "#model2 = pipe.fit(X_resampled_cert, y_resampled_cert)"
   ]
  },
  {
   "cell_type": "code",
   "execution_count": null,
   "metadata": {
    "colab": {
     "base_uri": "https://localhost:8080/"
    },
    "id": "lxzDKT_Mdnhp",
    "outputId": "e7a10b9c-4568-4d82-b62c-f8ebe2a2afa1"
   },
   "outputs": [
    {
     "name": "stdout",
     "output_type": "stream",
     "text": [
      "              precision    recall  f1-score   support\n",
      "\n",
      "           0     0.6602    0.0321    0.0613      2117\n",
      "           1     0.2680    0.1716    0.2093       606\n",
      "           2     0.1057    0.1254    0.1147       295\n",
      "           3     0.0712    0.7741    0.1304       239\n",
      "           4     0.0000    0.0000    0.0000       183\n",
      "\n",
      "    accuracy                         0.1145      3440\n",
      "   macro avg     0.2210    0.2206    0.1031      3440\n",
      "weighted avg     0.4675    0.1145    0.0935      3440\n",
      "\n"
     ]
    }
   ],
   "source": [
    "plot_result(y_valid['age'], pipe.predict(X_valid))"
   ]
  },
  {
   "cell_type": "code",
   "execution_count": null,
   "metadata": {
    "colab": {
     "base_uri": "https://localhost:8080/"
    },
    "id": "3teMgb2Hd90S",
    "outputId": "4b3c02f9-a650-4f58-8f5d-56ffbf8e2df2"
   },
   "outputs": [
    {
     "name": "stdout",
     "output_type": "stream",
     "text": [
      "              precision    recall  f1-score   support\n",
      "\n",
      "           0     0.3981    0.1872    0.2547       219\n",
      "           1     0.3170    0.2691    0.2911       457\n",
      "           2     0.3343    0.1746    0.2294       670\n",
      "           3     0.7387    0.9169    0.8182      2094\n",
      "\n",
      "    accuracy                         0.6398      3440\n",
      "   macro avg     0.4470    0.3870    0.3984      3440\n",
      "weighted avg     0.5823    0.6398    0.5976      3440\n",
      "\n"
     ]
    }
   ],
   "source": [
    "plot_result(y_valid['cert'], pipe.predict(X_valid))"
   ]
  },
  {
   "cell_type": "markdown",
   "metadata": {
    "id": "Ippmn450WBQK"
   },
   "source": [
    "<hr style=\"height:3px;border:none;color:#5F71F7;background-color:#5F71F7;\" />\n",
    "\n",
    "## 🛠 학습된 모델로 예측하기 \n",
    "\n"
   ]
  },
  {
   "cell_type": "code",
   "execution_count": null,
   "metadata": {
    "colab": {
     "base_uri": "https://localhost:8080/"
    },
    "id": "8yQRvkhB74TU",
    "outputId": "9d695bbe-be83-426e-87e7-910e50e9b348"
   },
   "outputs": [
    {
     "name": "stdout",
     "output_type": "stream",
     "text": [
      "[INFO] 성공적으로 변수가 선택되었습니다. \n"
     ]
    }
   ],
   "source": [
    "# 예측할 테스트(Test) 데이터 셋 불러오기\n",
    "\n",
    "\n",
    "test = pd.read_csv(config.DATAPATH.TEST)\n",
    "test.head()\n",
    "X_test = test.loc[:,keep_columns]\n",
    "print('[INFO] 성공적으로 변수가 선택되었습니다. ')\n",
    "#남녀 데이터-> [1,0]\n",
    "categorical_data=['TEST_SEX']\n",
    "X_test = pd.get_dummies(X_test,columns =categorical_data , drop_first = True)\n",
    "\n",
    "MEAN_INFO=X_test.mean()\n",
    "X_test=X_test.fillna(MEAN_INFO)"
   ]
  },
  {
   "cell_type": "code",
   "execution_count": null,
   "metadata": {
    "id": "1x2OGqPmkcTy"
   },
   "outputs": [],
   "source": [
    "pred_y_1 = pipe.predict(X_test)\n",
    "pred_y_2 = pipe.predict(X_test)"
   ]
  },
  {
   "cell_type": "code",
   "execution_count": null,
   "metadata": {
    "colab": {
     "base_uri": "https://localhost:8080/",
     "height": 453
    },
    "id": "EnLgvOb8knrP",
    "outputId": "a41b85d6-7460-4893-f667-2dbec7728f1e"
   },
   "outputs": [
    {
     "data": {
      "text/html": [
       "<div>\n",
       "<style scoped>\n",
       "    .dataframe tbody tr th:only-of-type {\n",
       "        vertical-align: middle;\n",
       "    }\n",
       "\n",
       "    .dataframe tbody tr th {\n",
       "        vertical-align: top;\n",
       "    }\n",
       "\n",
       "    .dataframe thead th {\n",
       "        text-align: right;\n",
       "    }\n",
       "</style>\n",
       "<table border=\"1\" class=\"dataframe\">\n",
       "  <thead>\n",
       "    <tr style=\"text-align: right;\">\n",
       "      <th></th>\n",
       "      <th>NAME</th>\n",
       "      <th>AGE_GROUP</th>\n",
       "      <th>CERT_GBN</th>\n",
       "    </tr>\n",
       "  </thead>\n",
       "  <tbody>\n",
       "    <tr>\n",
       "      <th>0</th>\n",
       "      <td>1</td>\n",
       "      <td>3</td>\n",
       "      <td>3</td>\n",
       "    </tr>\n",
       "    <tr>\n",
       "      <th>1</th>\n",
       "      <td>2</td>\n",
       "      <td>3</td>\n",
       "      <td>3</td>\n",
       "    </tr>\n",
       "    <tr>\n",
       "      <th>2</th>\n",
       "      <td>3</td>\n",
       "      <td>3</td>\n",
       "      <td>3</td>\n",
       "    </tr>\n",
       "    <tr>\n",
       "      <th>3</th>\n",
       "      <td>4</td>\n",
       "      <td>3</td>\n",
       "      <td>3</td>\n",
       "    </tr>\n",
       "    <tr>\n",
       "      <th>4</th>\n",
       "      <td>5</td>\n",
       "      <td>3</td>\n",
       "      <td>3</td>\n",
       "    </tr>\n",
       "    <tr>\n",
       "      <th>...</th>\n",
       "      <td>...</td>\n",
       "      <td>...</td>\n",
       "      <td>...</td>\n",
       "    </tr>\n",
       "    <tr>\n",
       "      <th>1095</th>\n",
       "      <td>1096</td>\n",
       "      <td>3</td>\n",
       "      <td>3</td>\n",
       "    </tr>\n",
       "    <tr>\n",
       "      <th>1096</th>\n",
       "      <td>1097</td>\n",
       "      <td>3</td>\n",
       "      <td>3</td>\n",
       "    </tr>\n",
       "    <tr>\n",
       "      <th>1097</th>\n",
       "      <td>1098</td>\n",
       "      <td>3</td>\n",
       "      <td>3</td>\n",
       "    </tr>\n",
       "    <tr>\n",
       "      <th>1098</th>\n",
       "      <td>1099</td>\n",
       "      <td>2</td>\n",
       "      <td>2</td>\n",
       "    </tr>\n",
       "    <tr>\n",
       "      <th>1099</th>\n",
       "      <td>1100</td>\n",
       "      <td>3</td>\n",
       "      <td>3</td>\n",
       "    </tr>\n",
       "  </tbody>\n",
       "</table>\n",
       "<p>1100 rows × 3 columns</p>\n",
       "</div>"
      ],
      "text/plain": [
       "      NAME  AGE_GROUP  CERT_GBN\n",
       "0        1          3         3\n",
       "1        2          3         3\n",
       "2        3          3         3\n",
       "3        4          3         3\n",
       "4        5          3         3\n",
       "...    ...        ...       ...\n",
       "1095  1096          3         3\n",
       "1096  1097          3         3\n",
       "1097  1098          3         3\n",
       "1098  1099          2         2\n",
       "1099  1100          3         3\n",
       "\n",
       "[1100 rows x 3 columns]"
      ]
     },
     "metadata": {},
     "output_type": "display_data"
    },
    {
     "name": "stdout",
     "output_type": "stream",
     "text": [
      "[INFO] DATE: 20211030_035752\n",
      "[INFO] 제출 파일 저장 완료: submission/LHS_20211030_035752.csv\n"
     ]
    }
   ],
   "source": [
    "submmision(config, pred_y_1,pred_y_2 ,test.index)"
   ]
  },
  {
   "cell_type": "markdown",
   "metadata": {
    "id": "JjkR4WNDz63p"
   },
   "source": [
    "캐글/데이터 링크: https://www.kaggle.com/t/f480b32d2b834986bb725ac491f78d9d\n"
   ]
  },
  {
   "cell_type": "code",
   "execution_count": null,
   "metadata": {
    "id": "CBhmq1mQ4lKV"
   },
   "outputs": [],
   "source": []
  }
 ],
 "metadata": {
  "colab": {
   "collapsed_sections": [],
   "name": "2021년 10월 30일 예선 문제의 사본",
   "provenance": []
  },
  "kernelspec": {
   "display_name": "Python 3",
   "language": "python",
   "name": "python3"
  },
  "language_info": {
   "codemirror_mode": {
    "name": "ipython",
    "version": 3
   },
   "file_extension": ".py",
   "mimetype": "text/x-python",
   "name": "python",
   "nbconvert_exporter": "python",
   "pygments_lexer": "ipython3",
   "version": "3.9.0"
  }
 },
 "nbformat": 4,
 "nbformat_minor": 4
}
