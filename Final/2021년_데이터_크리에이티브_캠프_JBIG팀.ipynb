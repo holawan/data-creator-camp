{
 "cells": [
  {
   "cell_type": "markdown",
   "metadata": {
    "id": "5fce47db"
   },
   "source": [
    "<img src=\"https://i.imgur.com/fVakQcm.png\">\n",
    "\n",
    "# 2021년 데이터 크리에이티브 캠프 - 본선 A팀\n",
    "장소:   \n",
    "날짜: 2021년 11월 20일 (토)  \n",
    "\n",
    "<br>\n",
    "<br>\n",
    "\n",
    "<div align='right'>출제자: <b>성민석</b></div>\n",
    "<div align='right'>minsuksung@korea.ac.kr</div>\n",
    "\n",
    "<br>\n",
    "<br>"
   ]
  },
  {
   "cell_type": "markdown",
   "metadata": {
    "id": "8fb1ae81",
    "toc": true
   },
   "source": [
    "<h1>Table of Contents<span class=\"tocSkip\"></span></h1>\n",
    "<div class=\"toc\"><ul class=\"toc-item\"><li><span><a href=\"#대회-소개\" data-toc-modified-id=\"대회-소개-1\"><span class=\"toc-item-num\">1&nbsp;&nbsp;</span>대회 소개</a></span></li><li><span><a href=\"#라이브러리-및-옵션\" data-toc-modified-id=\"라이브러리-및-옵션-2\"><span class=\"toc-item-num\">2&nbsp;&nbsp;</span>라이브러리 및 옵션</a></span></li><li><span><a href=\"#데이터-불러오기\" data-toc-modified-id=\"데이터-불러오기-3\"><span class=\"toc-item-num\">3&nbsp;&nbsp;</span>데이터 불러오기</a></span></li><li><span><a href=\"#EDA\" data-toc-modified-id=\"EDA-4\"><span class=\"toc-item-num\">4&nbsp;&nbsp;</span>EDA</a></span></li><li><span><a href=\"#학습-및-검증-데이터-분리\" data-toc-modified-id=\"학습-및-검증-데이터-분리-5\"><span class=\"toc-item-num\">5&nbsp;&nbsp;</span>학습 및 검증 데이터 분리</a></span></li><li><span><a href=\"#모델링\" data-toc-modified-id=\"모델링-6\"><span class=\"toc-item-num\">6&nbsp;&nbsp;</span>모델링</a></span></li><li><span><a href=\"#학습-및-평가\" data-toc-modified-id=\"학습-및-평가-7\"><span class=\"toc-item-num\">7&nbsp;&nbsp;</span>학습 및 평가</a></span></li><li><span><a href=\"#결과-제출하기\" data-toc-modified-id=\"결과-제출하기-8\"><span class=\"toc-item-num\">8&nbsp;&nbsp;</span>결과 제출하기</a></span></li><li><span><a href=\"#참고자료\" data-toc-modified-id=\"참고자료-9\"><span class=\"toc-item-num\">9&nbsp;&nbsp;</span>참고자료</a></span></li></ul></div>"
   ]
  },
  {
   "cell_type": "markdown",
   "metadata": {
    "id": "9dbacbad"
   },
   "source": [
    "## 대회 소개\n",
    "<hr style=\"height:3px;border:none;color:#5F71F7;background-color:#203E60;\" />\n",
    "\n",
    "<img src=\"https://cdn.pixabay.com/photo/2016/11/02/14/32/lotte-world-tower-1791802_1280.jpg\" width=50%>\n",
    "\n",
    "국내에는 도시별로 다양한 종류의 랜드마크가 있습니다. 그 중 잘 설계해둔 랜드마크 하나는 열 관광지 부럽지 않은 경제효과를 줍니다. 랜드마크를 통한 관광 수입은 연간 수조에 이를 만큼 국가 경제에 막대한 영향을 끼칩니다. "
   ]
  },
  {
   "cell_type": "markdown",
   "metadata": {
    "id": "c28a1e40"
   },
   "source": [
    "## 라이브러리 및 옵션\n",
    "<hr style=\"height:3px;border:none;color:#5F71F7;background-color:#203E60;\" />\n",
    "\n"
   ]
  },
  {
   "cell_type": "code",
   "execution_count": 1,
   "metadata": {
    "ExecuteTime": {
     "end_time": "2021-11-18T06:43:32.504902Z",
     "start_time": "2021-11-18T06:43:30.473638Z"
    },
    "id": "bc368f45"
   },
   "outputs": [],
   "source": [
    "import os\n",
    "import sys\n",
    "import glob\n",
    "import time\n",
    "import cv2                                           # pip install opencv-python\n",
    "import torch\n",
    "import torch.nn as nn\n",
    "import torch.optim as optim\n",
    "import torch.nn.functional as F\n",
    "import numpy as np\n",
    "import pandas as pd\n",
    "import matplotlib as mpl\n",
    "import matplotlib.pyplot as plt\n",
    "# import albumentations as A\n",
    "from tqdm.notebook import tqdm                       # pip install tqdm\n",
    "from PIL import Image, ImageOps\n",
    "from scipy.spatial import ConvexHull\n",
    "from torch.utils.data import Dataset\n",
    "from torch.utils.data import DataLoader\n",
    "# from albumentations.pytorch import ToTensorV2        # pip install albumentations\n",
    "from sklearn.model_selection import train_test_split"
   ]
  },
  {
   "cell_type": "code",
   "execution_count": 2,
   "metadata": {
    "id": "MpokFb4exUly"
   },
   "outputs": [],
   "source": [
    "import torch\n",
    "import torch.nn as nn\n",
    "import torch.optim as optim\n",
    "import torchvision\n",
    "\n",
    "from torch.utils.data import DataLoader\n",
    "from torch.optim import lr_scheduler\n",
    "from torchvision import datasets, models, transforms\n",
    "\n",
    "import numpy as np\n",
    "import matplotlib.pyplot as plt\n",
    "plt.style.use('seaborn-white')\n",
    "\n",
    "import time\n",
    "import os\n",
    "import copy"
   ]
  },
  {
   "cell_type": "code",
   "execution_count": null,
   "metadata": {
    "id": "EjM9KahMure0"
   },
   "outputs": [],
   "source": []
  },
  {
   "cell_type": "code",
   "execution_count": null,
   "metadata": {
    "id": "b8AIPeBFuu-3"
   },
   "outputs": [],
   "source": []
  },
  {
   "cell_type": "code",
   "execution_count": 3,
   "metadata": {
    "colab": {
     "base_uri": "https://localhost:8080/"
    },
    "id": "u7aqlcitsAPi",
    "outputId": "80dc9f85-6d57-40bf-961c-ece717b88225"
   },
   "outputs": [
    {
     "name": "stdout",
     "output_type": "stream",
     "text": [
      "Drive already mounted at /content/drive; to attempt to forcibly remount, call drive.mount(\"/content/drive\", force_remount=True).\n"
     ]
    }
   ],
   "source": [
    "from google.colab import drive\n",
    "drive.mount('/content/drive')  # 데이터와 "
   ]
  },
  {
   "cell_type": "code",
   "execution_count": 4,
   "metadata": {
    "ExecuteTime": {
     "end_time": "2021-11-18T06:43:32.509318Z",
     "start_time": "2021-11-18T06:43:32.506897Z"
    },
    "id": "b0f13c57"
   },
   "outputs": [],
   "source": [
    "# 유니코드 깨짐현상 해결\n",
    "mpl.rcParams['axes.unicode_minus'] = False\n",
    "\n",
    "# 나눔고딕 폰트 적용\n",
    "plt.rcParams[\"font.family\"] = 'NanumGothic'"
   ]
  },
  {
   "cell_type": "code",
   "execution_count": 5,
   "metadata": {
    "id": "YwSIeUmvyeuM"
   },
   "outputs": [],
   "source": [
    "cp /content/drive/MyDrive/data.zip data.zip"
   ]
  },
  {
   "cell_type": "code",
   "execution_count": null,
   "metadata": {
    "id": "PVmg4tkNymlp"
   },
   "outputs": [],
   "source": [
    "!unzip data.zip"
   ]
  },
  {
   "cell_type": "code",
   "execution_count": 7,
   "metadata": {
    "id": "QMi6c89Lyr2W"
   },
   "outputs": [],
   "source": [
    "!mkdir data"
   ]
  },
  {
   "cell_type": "markdown",
   "metadata": {
    "id": "f24a3c39"
   },
   "source": [
    "나눔 글꼴 설치  \n",
    "apt-get 명령으로 나눔글꼴(fonts-nanum)을 설치하고, fc-cache 명령으로 폰트 캐시 삭제\n",
    "```bash\n",
    "$ sudo apt-get install fonts-nanum*\n",
    "$ sudo fc-cache -fv\n",
    "```\n",
    "\n",
    "만일 다른 ttf 폰트를 가져왔다면 다음과 같이 복사하고, fc-cache 명령으로 폰트 캐시 삭제\n",
    "```bash\n",
    "$ sudo cp new_font.ttf /usr/share/fonts/\n",
    "$ sudo fc-cache -fv\n",
    "```\n",
    "\n",
    "matplotlib 나눔 글꼴을 추가\n",
    "나눔 글꼴을 matplotlib 에 복사하고, matplotlib의 폰트 캐시를 삭제\n",
    "```bash\n",
    "$ sudo cp /usr/share/fonts/truetype/nanum/Nanum* /usr/local/lib/python3.4/dist-packages/matplotlib/mpl-data/fonts/ttf/\n",
    "$ rm -rf /home/ubuntu/.cache/matplotlib/*\n",
    "```"
   ]
  },
  {
   "cell_type": "code",
   "execution_count": 4,
   "metadata": {
    "colab": {
     "base_uri": "https://localhost:8080/",
     "height": 35
    },
    "id": "vEwkArG3vX2E",
    "outputId": "00ff350d-2ac8-417e-9cda-3dff329a325e"
   },
   "outputs": [
    {
     "data": {
      "application/vnd.google.colaboratory.intrinsic+json": {
       "type": "string"
      },
      "text/plain": [
       "'/content'"
      ]
     },
     "execution_count": 4,
     "metadata": {},
     "output_type": "execute_result"
    }
   ],
   "source": [
    "pwd"
   ]
  },
  {
   "cell_type": "markdown",
   "metadata": {
    "id": "257aa200"
   },
   "source": [
    "## 데이터 불러오기\n",
    "<hr style=\"height:3px;border:none;color:#5F71F7;background-color:#203E60;\" />\n",
    "\n",
    "주어진 데이터는 391종의 서울시 랜드마크가 있습니다. 그 중에서 임의로 30종의 랜드마크만 샘플링되어 데이터가 제공됩니다. 각 랜드마크당 100여장의 데이터가 제공됩니다. 그렇게 총 3,000장의 데이터가 주어집니다.\n"
   ]
  },
  {
   "cell_type": "code",
   "execution_count": 7,
   "metadata": {
    "ExecuteTime": {
     "end_time": "2021-11-18T06:43:32.552509Z",
     "start_time": "2021-11-18T06:43:32.510808Z"
    },
    "colab": {
     "base_uri": "https://localhost:8080/",
     "height": 424
    },
    "id": "236acc53",
    "outputId": "27951d95-d811-4ef9-e77d-78b28249e943"
   },
   "outputs": [
    {
     "data": {
      "text/html": [
       "<div>\n",
       "<style scoped>\n",
       "    .dataframe tbody tr th:only-of-type {\n",
       "        vertical-align: middle;\n",
       "    }\n",
       "\n",
       "    .dataframe tbody tr th {\n",
       "        vertical-align: top;\n",
       "    }\n",
       "\n",
       "    .dataframe thead th {\n",
       "        text-align: right;\n",
       "    }\n",
       "</style>\n",
       "<table border=\"1\" class=\"dataframe\">\n",
       "  <thead>\n",
       "    <tr style=\"text-align: right;\">\n",
       "      <th></th>\n",
       "      <th>path</th>\n",
       "      <th>class</th>\n",
       "    </tr>\n",
       "  </thead>\n",
       "  <tbody>\n",
       "    <tr>\n",
       "      <th>0</th>\n",
       "      <td>./data/train/5I096DQEE2.jpg</td>\n",
       "      <td>3</td>\n",
       "    </tr>\n",
       "    <tr>\n",
       "      <th>1</th>\n",
       "      <td>./data/train/1NV9ZMEIB5.jpg</td>\n",
       "      <td>0</td>\n",
       "    </tr>\n",
       "    <tr>\n",
       "      <th>2</th>\n",
       "      <td>./data/train/M9VLJNHD38.jpg</td>\n",
       "      <td>7</td>\n",
       "    </tr>\n",
       "    <tr>\n",
       "      <th>3</th>\n",
       "      <td>./data/train/R411LJY55S.jpg</td>\n",
       "      <td>6</td>\n",
       "    </tr>\n",
       "    <tr>\n",
       "      <th>4</th>\n",
       "      <td>./data/train/A5G82IF4MX.jpg</td>\n",
       "      <td>0</td>\n",
       "    </tr>\n",
       "    <tr>\n",
       "      <th>...</th>\n",
       "      <td>...</td>\n",
       "      <td>...</td>\n",
       "    </tr>\n",
       "    <tr>\n",
       "      <th>730</th>\n",
       "      <td>./data/train/RFU3JMRTW7.jpg</td>\n",
       "      <td>3</td>\n",
       "    </tr>\n",
       "    <tr>\n",
       "      <th>731</th>\n",
       "      <td>./data/train/MG88J89S82.jpg</td>\n",
       "      <td>8</td>\n",
       "    </tr>\n",
       "    <tr>\n",
       "      <th>732</th>\n",
       "      <td>./data/train/PKCRXALLS6.jpg</td>\n",
       "      <td>5</td>\n",
       "    </tr>\n",
       "    <tr>\n",
       "      <th>733</th>\n",
       "      <td>./data/train/Z21XYXVAQD.jpg</td>\n",
       "      <td>3</td>\n",
       "    </tr>\n",
       "    <tr>\n",
       "      <th>734</th>\n",
       "      <td>./data/train/0PH5F2AZ1T.jpg</td>\n",
       "      <td>5</td>\n",
       "    </tr>\n",
       "  </tbody>\n",
       "</table>\n",
       "<p>735 rows × 2 columns</p>\n",
       "</div>"
      ],
      "text/plain": [
       "                            path  class\n",
       "0    ./data/train/5I096DQEE2.jpg      3\n",
       "1    ./data/train/1NV9ZMEIB5.jpg      0\n",
       "2    ./data/train/M9VLJNHD38.jpg      7\n",
       "3    ./data/train/R411LJY55S.jpg      6\n",
       "4    ./data/train/A5G82IF4MX.jpg      0\n",
       "..                           ...    ...\n",
       "730  ./data/train/RFU3JMRTW7.jpg      3\n",
       "731  ./data/train/MG88J89S82.jpg      8\n",
       "732  ./data/train/PKCRXALLS6.jpg      5\n",
       "733  ./data/train/Z21XYXVAQD.jpg      3\n",
       "734  ./data/train/0PH5F2AZ1T.jpg      5\n",
       "\n",
       "[735 rows x 2 columns]"
      ]
     },
     "execution_count": 7,
     "metadata": {},
     "output_type": "execute_result"
    }
   ],
   "source": [
    "data = pd.read_csv('/content/train.csv',encoding='utf8')\n",
    "data"
   ]
  },
  {
   "cell_type": "code",
   "execution_count": 8,
   "metadata": {
    "ExecuteTime": {
     "end_time": "2021-11-18T06:43:32.562712Z",
     "start_time": "2021-11-18T06:43:32.553761Z"
    },
    "colab": {
     "base_uri": "https://localhost:8080/",
     "height": 424
    },
    "id": "4c1ffa68",
    "outputId": "4da00f3c-229b-4891-dd19-75f7a735fdb4"
   },
   "outputs": [
    {
     "data": {
      "text/html": [
       "<div>\n",
       "<style scoped>\n",
       "    .dataframe tbody tr th:only-of-type {\n",
       "        vertical-align: middle;\n",
       "    }\n",
       "\n",
       "    .dataframe tbody tr th {\n",
       "        vertical-align: top;\n",
       "    }\n",
       "\n",
       "    .dataframe thead th {\n",
       "        text-align: right;\n",
       "    }\n",
       "</style>\n",
       "<table border=\"1\" class=\"dataframe\">\n",
       "  <thead>\n",
       "    <tr style=\"text-align: right;\">\n",
       "      <th></th>\n",
       "      <th>path</th>\n",
       "      <th>class</th>\n",
       "    </tr>\n",
       "  </thead>\n",
       "  <tbody>\n",
       "    <tr>\n",
       "      <th>0</th>\n",
       "      <td>./data/test/258YQ4X7F7.jpg</td>\n",
       "      <td>0</td>\n",
       "    </tr>\n",
       "    <tr>\n",
       "      <th>1</th>\n",
       "      <td>./data/test/WETTACUP8N.jpg</td>\n",
       "      <td>0</td>\n",
       "    </tr>\n",
       "    <tr>\n",
       "      <th>2</th>\n",
       "      <td>./data/test/ZKU5T5ECEE.jpg</td>\n",
       "      <td>0</td>\n",
       "    </tr>\n",
       "    <tr>\n",
       "      <th>3</th>\n",
       "      <td>./data/test/R105VOAVXA.jpg</td>\n",
       "      <td>0</td>\n",
       "    </tr>\n",
       "    <tr>\n",
       "      <th>4</th>\n",
       "      <td>./data/test/ZJSO03ZXTO.jpg</td>\n",
       "      <td>0</td>\n",
       "    </tr>\n",
       "    <tr>\n",
       "      <th>...</th>\n",
       "      <td>...</td>\n",
       "      <td>...</td>\n",
       "    </tr>\n",
       "    <tr>\n",
       "      <th>179</th>\n",
       "      <td>./data/test/3BQWFYQT54.jpg</td>\n",
       "      <td>0</td>\n",
       "    </tr>\n",
       "    <tr>\n",
       "      <th>180</th>\n",
       "      <td>./data/test/899NFYC3TN.jpg</td>\n",
       "      <td>0</td>\n",
       "    </tr>\n",
       "    <tr>\n",
       "      <th>181</th>\n",
       "      <td>./data/test/ZRO60FUB4V.jpg</td>\n",
       "      <td>0</td>\n",
       "    </tr>\n",
       "    <tr>\n",
       "      <th>182</th>\n",
       "      <td>./data/test/0MULBS2ZLZ.jpg</td>\n",
       "      <td>0</td>\n",
       "    </tr>\n",
       "    <tr>\n",
       "      <th>183</th>\n",
       "      <td>./data/test/OLJL5984TQ.jpg</td>\n",
       "      <td>0</td>\n",
       "    </tr>\n",
       "  </tbody>\n",
       "</table>\n",
       "<p>184 rows × 2 columns</p>\n",
       "</div>"
      ],
      "text/plain": [
       "                           path  class\n",
       "0    ./data/test/258YQ4X7F7.jpg      0\n",
       "1    ./data/test/WETTACUP8N.jpg      0\n",
       "2    ./data/test/ZKU5T5ECEE.jpg      0\n",
       "3    ./data/test/R105VOAVXA.jpg      0\n",
       "4    ./data/test/ZJSO03ZXTO.jpg      0\n",
       "..                          ...    ...\n",
       "179  ./data/test/3BQWFYQT54.jpg      0\n",
       "180  ./data/test/899NFYC3TN.jpg      0\n",
       "181  ./data/test/ZRO60FUB4V.jpg      0\n",
       "182  ./data/test/0MULBS2ZLZ.jpg      0\n",
       "183  ./data/test/OLJL5984TQ.jpg      0\n",
       "\n",
       "[184 rows x 2 columns]"
      ]
     },
     "execution_count": 8,
     "metadata": {},
     "output_type": "execute_result"
    }
   ],
   "source": [
    "test = pd.read_csv('/content/test.csv',encoding='utf8')\n",
    "test"
   ]
  },
  {
   "cell_type": "code",
   "execution_count": 9,
   "metadata": {
    "ExecuteTime": {
     "end_time": "2021-11-18T06:43:32.576909Z",
     "start_time": "2021-11-18T06:43:32.563812Z"
    },
    "colab": {
     "base_uri": "https://localhost:8080/",
     "height": 424
    },
    "id": "ec6bb2b2",
    "outputId": "a17f30a3-825e-427e-d878-681ea0f25e66"
   },
   "outputs": [
    {
     "data": {
      "text/html": [
       "<div>\n",
       "<style scoped>\n",
       "    .dataframe tbody tr th:only-of-type {\n",
       "        vertical-align: middle;\n",
       "    }\n",
       "\n",
       "    .dataframe tbody tr th {\n",
       "        vertical-align: top;\n",
       "    }\n",
       "\n",
       "    .dataframe thead th {\n",
       "        text-align: right;\n",
       "    }\n",
       "</style>\n",
       "<table border=\"1\" class=\"dataframe\">\n",
       "  <thead>\n",
       "    <tr style=\"text-align: right;\">\n",
       "      <th></th>\n",
       "      <th>path</th>\n",
       "      <th>class</th>\n",
       "    </tr>\n",
       "  </thead>\n",
       "  <tbody>\n",
       "    <tr>\n",
       "      <th>0</th>\n",
       "      <td>./data/test/258YQ4X7F7.jpg</td>\n",
       "      <td>0</td>\n",
       "    </tr>\n",
       "    <tr>\n",
       "      <th>1</th>\n",
       "      <td>./data/test/WETTACUP8N.jpg</td>\n",
       "      <td>0</td>\n",
       "    </tr>\n",
       "    <tr>\n",
       "      <th>2</th>\n",
       "      <td>./data/test/ZKU5T5ECEE.jpg</td>\n",
       "      <td>0</td>\n",
       "    </tr>\n",
       "    <tr>\n",
       "      <th>3</th>\n",
       "      <td>./data/test/R105VOAVXA.jpg</td>\n",
       "      <td>0</td>\n",
       "    </tr>\n",
       "    <tr>\n",
       "      <th>4</th>\n",
       "      <td>./data/test/ZJSO03ZXTO.jpg</td>\n",
       "      <td>0</td>\n",
       "    </tr>\n",
       "    <tr>\n",
       "      <th>...</th>\n",
       "      <td>...</td>\n",
       "      <td>...</td>\n",
       "    </tr>\n",
       "    <tr>\n",
       "      <th>179</th>\n",
       "      <td>./data/test/3BQWFYQT54.jpg</td>\n",
       "      <td>0</td>\n",
       "    </tr>\n",
       "    <tr>\n",
       "      <th>180</th>\n",
       "      <td>./data/test/899NFYC3TN.jpg</td>\n",
       "      <td>0</td>\n",
       "    </tr>\n",
       "    <tr>\n",
       "      <th>181</th>\n",
       "      <td>./data/test/ZRO60FUB4V.jpg</td>\n",
       "      <td>0</td>\n",
       "    </tr>\n",
       "    <tr>\n",
       "      <th>182</th>\n",
       "      <td>./data/test/0MULBS2ZLZ.jpg</td>\n",
       "      <td>0</td>\n",
       "    </tr>\n",
       "    <tr>\n",
       "      <th>183</th>\n",
       "      <td>./data/test/OLJL5984TQ.jpg</td>\n",
       "      <td>0</td>\n",
       "    </tr>\n",
       "  </tbody>\n",
       "</table>\n",
       "<p>184 rows × 2 columns</p>\n",
       "</div>"
      ],
      "text/plain": [
       "                           path  class\n",
       "0    ./data/test/258YQ4X7F7.jpg      0\n",
       "1    ./data/test/WETTACUP8N.jpg      0\n",
       "2    ./data/test/ZKU5T5ECEE.jpg      0\n",
       "3    ./data/test/R105VOAVXA.jpg      0\n",
       "4    ./data/test/ZJSO03ZXTO.jpg      0\n",
       "..                          ...    ...\n",
       "179  ./data/test/3BQWFYQT54.jpg      0\n",
       "180  ./data/test/899NFYC3TN.jpg      0\n",
       "181  ./data/test/ZRO60FUB4V.jpg      0\n",
       "182  ./data/test/0MULBS2ZLZ.jpg      0\n",
       "183  ./data/test/OLJL5984TQ.jpg      0\n",
       "\n",
       "[184 rows x 2 columns]"
      ]
     },
     "execution_count": 9,
     "metadata": {},
     "output_type": "execute_result"
    }
   ],
   "source": [
    "submission = pd.read_csv('/content/sample_submission.csv',encoding='utf8')\n",
    "submission"
   ]
  },
  {
   "cell_type": "code",
   "execution_count": 10,
   "metadata": {
    "ExecuteTime": {
     "end_time": "2021-11-18T06:43:32.588357Z",
     "start_time": "2021-11-18T06:43:32.578246Z"
    },
    "id": "b2157646"
   },
   "outputs": [],
   "source": [
    "landmarks_class = [\n",
    "    '서울한양도성',\n",
    "    '충무공 이순신 동상',\n",
    "    '김포국제공항',\n",
    "    '세빛섬',\n",
    "    '정릉',\n",
    "    '양화대교',\n",
    "    '서울광장',\n",
    "    '북촌 한옥마을',\n",
    "    '롯데월드타워',\n",
    "    '경복궁'\n",
    "]"
   ]
  },
  {
   "cell_type": "markdown",
   "metadata": {
    "id": "5fedd452"
   },
   "source": [
    "## EDA\n",
    "<hr style=\"height:3px;border:none;color:#5F71F7;background-color:#203E60;\" />"
   ]
  },
  {
   "cell_type": "code",
   "execution_count": null,
   "metadata": {
    "ExecuteTime": {
     "end_time": "2021-11-18T06:43:34.300548Z",
     "start_time": "2021-11-18T06:43:32.590240Z"
    },
    "id": "b350309d"
   },
   "outputs": [],
   "source": [
    "plt.figure(figsize=(12,8))\n",
    "for n, (idx, row) in enumerate(data.sample(16).iterrows(), start=1):\n",
    "    plt.subplot(4,4, n)\n",
    "    img = plt.imread(row['path'])\n",
    "    plt.imshow(img)\n",
    "    plt.title(landmarks_class[row['class']])\n",
    "    plt.axis('off')\n",
    "plt.tight_layout()\n",
    "plt.show()"
   ]
  },
  {
   "cell_type": "markdown",
   "metadata": {
    "id": "7d8b251a"
   },
   "source": [
    "## 학습 및 검증 데이터 분리\n",
    "<hr style=\"height:3px;border:none;color:#5F71F7;background-color:#203E60;\" />"
   ]
  },
  {
   "cell_type": "code",
   "execution_count": 252,
   "metadata": {
    "ExecuteTime": {
     "end_time": "2021-11-18T06:43:34.306524Z",
     "start_time": "2021-11-18T06:43:34.303034Z"
    },
    "id": "2f1dcdf5"
   },
   "outputs": [],
   "source": [
    "train, valid = train_test_split(data,\n",
    "                                test_size=0.2,\n",
    "                                random_state=42)"
   ]
  },
  {
   "cell_type": "code",
   "execution_count": 253,
   "metadata": {
    "ExecuteTime": {
     "end_time": "2021-11-18T06:43:34.330077Z",
     "start_time": "2021-11-18T06:43:34.308226Z"
    },
    "colab": {
     "base_uri": "https://localhost:8080/",
     "height": 424
    },
    "id": "af2b9e60",
    "outputId": "f16fdea8-95bb-4632-945f-ff41f529e225"
   },
   "outputs": [
    {
     "data": {
      "text/html": [
       "<div>\n",
       "<style scoped>\n",
       "    .dataframe tbody tr th:only-of-type {\n",
       "        vertical-align: middle;\n",
       "    }\n",
       "\n",
       "    .dataframe tbody tr th {\n",
       "        vertical-align: top;\n",
       "    }\n",
       "\n",
       "    .dataframe thead th {\n",
       "        text-align: right;\n",
       "    }\n",
       "</style>\n",
       "<table border=\"1\" class=\"dataframe\">\n",
       "  <thead>\n",
       "    <tr style=\"text-align: right;\">\n",
       "      <th></th>\n",
       "      <th>path</th>\n",
       "      <th>class</th>\n",
       "    </tr>\n",
       "  </thead>\n",
       "  <tbody>\n",
       "    <tr>\n",
       "      <th>135</th>\n",
       "      <td>./data/train/ONZHQZFUUL.jpg</td>\n",
       "      <td>5</td>\n",
       "    </tr>\n",
       "    <tr>\n",
       "      <th>473</th>\n",
       "      <td>./data/train/AXWZ4X974B.jpg</td>\n",
       "      <td>6</td>\n",
       "    </tr>\n",
       "    <tr>\n",
       "      <th>254</th>\n",
       "      <td>./data/train/MHYXWSBOIL.jpg</td>\n",
       "      <td>2</td>\n",
       "    </tr>\n",
       "    <tr>\n",
       "      <th>525</th>\n",
       "      <td>./data/train/32DJV8BN9Q.jpg</td>\n",
       "      <td>0</td>\n",
       "    </tr>\n",
       "    <tr>\n",
       "      <th>164</th>\n",
       "      <td>./data/train/UWW030QCCO.jpg</td>\n",
       "      <td>7</td>\n",
       "    </tr>\n",
       "    <tr>\n",
       "      <th>...</th>\n",
       "      <td>...</td>\n",
       "      <td>...</td>\n",
       "    </tr>\n",
       "    <tr>\n",
       "      <th>71</th>\n",
       "      <td>./data/train/3ZOPD7UHXH.jpg</td>\n",
       "      <td>8</td>\n",
       "    </tr>\n",
       "    <tr>\n",
       "      <th>106</th>\n",
       "      <td>./data/train/W579CRLAYG.jpg</td>\n",
       "      <td>0</td>\n",
       "    </tr>\n",
       "    <tr>\n",
       "      <th>270</th>\n",
       "      <td>./data/train/20TD3EKO2M.jpg</td>\n",
       "      <td>2</td>\n",
       "    </tr>\n",
       "    <tr>\n",
       "      <th>435</th>\n",
       "      <td>./data/train/XJBUXFU5UY.jpg</td>\n",
       "      <td>5</td>\n",
       "    </tr>\n",
       "    <tr>\n",
       "      <th>102</th>\n",
       "      <td>./data/train/996YVL5SLU.jpg</td>\n",
       "      <td>7</td>\n",
       "    </tr>\n",
       "  </tbody>\n",
       "</table>\n",
       "<p>588 rows × 2 columns</p>\n",
       "</div>"
      ],
      "text/plain": [
       "                            path  class\n",
       "135  ./data/train/ONZHQZFUUL.jpg      5\n",
       "473  ./data/train/AXWZ4X974B.jpg      6\n",
       "254  ./data/train/MHYXWSBOIL.jpg      2\n",
       "525  ./data/train/32DJV8BN9Q.jpg      0\n",
       "164  ./data/train/UWW030QCCO.jpg      7\n",
       "..                           ...    ...\n",
       "71   ./data/train/3ZOPD7UHXH.jpg      8\n",
       "106  ./data/train/W579CRLAYG.jpg      0\n",
       "270  ./data/train/20TD3EKO2M.jpg      2\n",
       "435  ./data/train/XJBUXFU5UY.jpg      5\n",
       "102  ./data/train/996YVL5SLU.jpg      7\n",
       "\n",
       "[588 rows x 2 columns]"
      ]
     },
     "execution_count": 253,
     "metadata": {},
     "output_type": "execute_result"
    }
   ],
   "source": [
    "train"
   ]
  },
  {
   "cell_type": "code",
   "execution_count": 254,
   "metadata": {
    "ExecuteTime": {
     "end_time": "2021-11-18T06:43:34.352717Z",
     "start_time": "2021-11-18T06:43:34.331841Z"
    },
    "colab": {
     "base_uri": "https://localhost:8080/",
     "height": 424
    },
    "id": "5e8488b9",
    "outputId": "fe692d7d-3257-4210-8063-2cd4eb22d4f8"
   },
   "outputs": [
    {
     "data": {
      "text/html": [
       "<div>\n",
       "<style scoped>\n",
       "    .dataframe tbody tr th:only-of-type {\n",
       "        vertical-align: middle;\n",
       "    }\n",
       "\n",
       "    .dataframe tbody tr th {\n",
       "        vertical-align: top;\n",
       "    }\n",
       "\n",
       "    .dataframe thead th {\n",
       "        text-align: right;\n",
       "    }\n",
       "</style>\n",
       "<table border=\"1\" class=\"dataframe\">\n",
       "  <thead>\n",
       "    <tr style=\"text-align: right;\">\n",
       "      <th></th>\n",
       "      <th>path</th>\n",
       "      <th>class</th>\n",
       "    </tr>\n",
       "  </thead>\n",
       "  <tbody>\n",
       "    <tr>\n",
       "      <th>559</th>\n",
       "      <td>./data/train/12MGBHODVW.jpg</td>\n",
       "      <td>6</td>\n",
       "    </tr>\n",
       "    <tr>\n",
       "      <th>33</th>\n",
       "      <td>./data/train/FNXANHA18V.jpg</td>\n",
       "      <td>5</td>\n",
       "    </tr>\n",
       "    <tr>\n",
       "      <th>275</th>\n",
       "      <td>./data/train/S37EJRUYO3.jpg</td>\n",
       "      <td>8</td>\n",
       "    </tr>\n",
       "    <tr>\n",
       "      <th>198</th>\n",
       "      <td>./data/train/OJJT64BYO3.jpg</td>\n",
       "      <td>5</td>\n",
       "    </tr>\n",
       "    <tr>\n",
       "      <th>192</th>\n",
       "      <td>./data/train/A1JE2TWCPY.jpg</td>\n",
       "      <td>0</td>\n",
       "    </tr>\n",
       "    <tr>\n",
       "      <th>...</th>\n",
       "      <td>...</td>\n",
       "      <td>...</td>\n",
       "    </tr>\n",
       "    <tr>\n",
       "      <th>44</th>\n",
       "      <td>./data/train/E6J6K77904.jpg</td>\n",
       "      <td>0</td>\n",
       "    </tr>\n",
       "    <tr>\n",
       "      <th>70</th>\n",
       "      <td>./data/train/YRIN0W3V85.jpg</td>\n",
       "      <td>2</td>\n",
       "    </tr>\n",
       "    <tr>\n",
       "      <th>196</th>\n",
       "      <td>./data/train/JXAUU15CXC.jpg</td>\n",
       "      <td>6</td>\n",
       "    </tr>\n",
       "    <tr>\n",
       "      <th>576</th>\n",
       "      <td>./data/train/XI43SN0WOU.jpg</td>\n",
       "      <td>8</td>\n",
       "    </tr>\n",
       "    <tr>\n",
       "      <th>568</th>\n",
       "      <td>./data/train/GFYX10EZHU.jpg</td>\n",
       "      <td>6</td>\n",
       "    </tr>\n",
       "  </tbody>\n",
       "</table>\n",
       "<p>147 rows × 2 columns</p>\n",
       "</div>"
      ],
      "text/plain": [
       "                            path  class\n",
       "559  ./data/train/12MGBHODVW.jpg      6\n",
       "33   ./data/train/FNXANHA18V.jpg      5\n",
       "275  ./data/train/S37EJRUYO3.jpg      8\n",
       "198  ./data/train/OJJT64BYO3.jpg      5\n",
       "192  ./data/train/A1JE2TWCPY.jpg      0\n",
       "..                           ...    ...\n",
       "44   ./data/train/E6J6K77904.jpg      0\n",
       "70   ./data/train/YRIN0W3V85.jpg      2\n",
       "196  ./data/train/JXAUU15CXC.jpg      6\n",
       "576  ./data/train/XI43SN0WOU.jpg      8\n",
       "568  ./data/train/GFYX10EZHU.jpg      6\n",
       "\n",
       "[147 rows x 2 columns]"
      ]
     },
     "execution_count": 254,
     "metadata": {},
     "output_type": "execute_result"
    }
   ],
   "source": [
    "valid"
   ]
  },
  {
   "cell_type": "code",
   "execution_count": 255,
   "metadata": {
    "ExecuteTime": {
     "end_time": "2021-11-18T06:43:34.366911Z",
     "start_time": "2021-11-18T06:43:34.354531Z"
    },
    "id": "c323908c"
   },
   "outputs": [],
   "source": [
    "class LandmarksDataset(Dataset):\n",
    "    def __init__(self, data, transforms):\n",
    "        self.data = data\n",
    "        self.transforms = transforms\n",
    "\n",
    "    def __len__(self):\n",
    "        return self.data.shape[0]\n",
    "\n",
    "    def __getitem__(self, index: int):\n",
    "        assert index <= len(self), 'index range error'\n",
    "\n",
    "        image = plt.imread(self.data.iloc[index, ]['path']) ## PIL 불러오기\n",
    "        image = transforms.ToPILImage()(image)\n",
    "        \n",
    "        target = torch.as_tensor(self.data.iloc[index, ]['class'])\n",
    "\n",
    "        if self.transforms is not None:\n",
    "            image = self.transforms(image)\n",
    "\n",
    "  #      image = image/255.0\n",
    "\n",
    "        return image, target"
   ]
  },
  {
   "cell_type": "code",
   "execution_count": 255,
   "metadata": {
    "ExecuteTime": {
     "end_time": "2021-11-18T06:43:34.385606Z",
     "start_time": "2021-11-18T06:43:34.368727Z"
    },
    "id": "eb048fa2"
   },
   "outputs": [],
   "source": []
  },
  {
   "cell_type": "code",
   "execution_count": 256,
   "metadata": {
    "id": "kDl87Wz-EZ4W"
   },
   "outputs": [],
   "source": [
    "transforms_train = transforms.Compose([        ### torch vision transform\n",
    "    transforms.Resize(256),\n",
    "    transforms.RandomHorizontalFlip(),\n",
    "    transforms.RandomCrop(224),\n",
    "    transforms.ToTensor(),\n",
    "    transforms.Normalize((0.485, 0.456, 0.406), (0.229, 0.224, 0.225))\n",
    "])\n",
    "\n",
    "transforms_valid = transforms.Compose([\n",
    "    transforms.Resize(256),\n",
    "    transforms.RandomCrop(224),\n",
    "    transforms.ToTensor(),\n",
    "    transforms.Normalize((0.485, 0.456, 0.406), (0.229, 0.224, 0.225))\n",
    "])"
   ]
  },
  {
   "cell_type": "code",
   "execution_count": 257,
   "metadata": {
    "ExecuteTime": {
     "end_time": "2021-11-18T06:43:34.399624Z",
     "start_time": "2021-11-18T06:43:34.387823Z"
    },
    "id": "a37f284e"
   },
   "outputs": [],
   "source": [
    "train_dataset = LandmarksDataset(data=train, transforms=transforms_train)\n",
    "valid_dataset = LandmarksDataset(data=valid, transforms=transforms_valid)"
   ]
  },
  {
   "cell_type": "code",
   "execution_count": 258,
   "metadata": {
    "colab": {
     "base_uri": "https://localhost:8080/"
    },
    "id": "9xW_YFnB1QvX",
    "outputId": "6e100cee-cfca-4d45-eedb-0bcea659c713"
   },
   "outputs": [
    {
     "data": {
      "text/plain": [
       "(tensor([[[-1.5357, -1.6042, -1.7069,  ..., -1.9467, -1.9809, -2.0152],\n",
       "          [-1.6213, -1.6898, -1.7240,  ..., -1.9467, -1.9809, -2.0323],\n",
       "          [-1.6727, -1.6898, -1.7069,  ..., -1.9809, -1.9809, -2.0152],\n",
       "          ...,\n",
       "          [-0.4397, -0.5082, -0.5253,  ..., -0.9705, -0.9534, -0.9192],\n",
       "          [-0.4397, -0.4911, -0.5082,  ..., -0.9192, -0.9192, -0.9192],\n",
       "          [-0.4226, -0.5082, -0.5596,  ..., -0.8164, -0.7993, -0.7650]],\n",
       " \n",
       "         [[-1.1954, -1.3004, -1.4405,  ..., -1.8256, -1.8606, -1.9132],\n",
       "          [-1.3004, -1.4230, -1.4755,  ..., -1.8431, -1.8782, -1.9307],\n",
       "          [-1.4055, -1.4755, -1.4930,  ..., -1.8957, -1.8957, -1.9307],\n",
       "          ...,\n",
       "          [-0.1625, -0.2325, -0.2500,  ..., -0.7577, -0.7752, -0.7577],\n",
       "          [-0.1450, -0.2150, -0.2325,  ..., -0.7577, -0.7752, -0.7752],\n",
       "          [-0.1450, -0.2325, -0.2850,  ..., -0.6877, -0.6702, -0.6527]],\n",
       " \n",
       "         [[-0.9853, -1.0550, -1.1770,  ..., -1.6127, -1.6476, -1.6999],\n",
       "          [-1.0550, -1.1421, -1.1596,  ..., -1.6127, -1.6476, -1.6999],\n",
       "          [-1.1247, -1.1247, -1.1421,  ..., -1.6650, -1.6650, -1.6999],\n",
       "          ...,\n",
       "          [ 0.0082, -0.0615, -0.0790,  ..., -0.6541, -0.6541, -0.6367],\n",
       "          [ 0.0082, -0.0441, -0.0615,  ..., -0.6367, -0.6367, -0.6541],\n",
       "          [ 0.0082, -0.0615, -0.1138,  ..., -0.5495, -0.5495, -0.5147]]]),\n",
       " tensor(5))"
      ]
     },
     "execution_count": 258,
     "metadata": {},
     "output_type": "execute_result"
    }
   ],
   "source": [
    "next(iter(train_dataset))"
   ]
  },
  {
   "cell_type": "code",
   "execution_count": 259,
   "metadata": {
    "ExecuteTime": {
     "end_time": "2021-11-18T06:43:34.414686Z",
     "start_time": "2021-11-18T06:43:34.401915Z"
    },
    "id": "c1b358bf"
   },
   "outputs": [],
   "source": [
    "batch_size = 4"
   ]
  },
  {
   "cell_type": "code",
   "execution_count": 260,
   "metadata": {
    "ExecuteTime": {
     "end_time": "2021-11-18T06:43:34.429823Z",
     "start_time": "2021-11-18T06:43:34.416576Z"
    },
    "id": "55601e72"
   },
   "outputs": [],
   "source": [
    "train_dataloader = DataLoader(\n",
    "    train_dataset, batch_size=batch_size, shuffle=True, num_workers=4)\n",
    "valid_dataloader = DataLoader(\n",
    "    valid_dataset, batch_size=batch_size, shuffle=True, num_workers=4)"
   ]
  },
  {
   "cell_type": "code",
   "execution_count": 261,
   "metadata": {
    "colab": {
     "base_uri": "https://localhost:8080/",
     "height": 174
    },
    "id": "kVkxo7LP4O4n",
    "outputId": "ae2bc38f-dfe1-4482-e9f3-0352d3428594"
   },
   "outputs": [
    {
     "ename": "TypeError",
     "evalue": "ignored",
     "output_type": "error",
     "traceback": [
      "\u001b[0;31m---------------------------------------------------------------------------\u001b[0m",
      "\u001b[0;31mTypeError\u001b[0m                                 Traceback (most recent call last)",
      "\u001b[0;32m<ipython-input-261-71b96c638fdf>\u001b[0m in \u001b[0;36m<module>\u001b[0;34m()\u001b[0m\n\u001b[0;32m----> 1\u001b[0;31m \u001b[0mimages\u001b[0m\u001b[0;34m[\u001b[0m\u001b[0;36m0\u001b[0m\u001b[0;34m]\u001b[0m\u001b[0;34m.\u001b[0m\u001b[0mnumpy\u001b[0m\u001b[0;34m(\u001b[0m\u001b[0;34m)\u001b[0m\u001b[0;34m.\u001b[0m\u001b[0mshape\u001b[0m\u001b[0;34m\u001b[0m\u001b[0;34m\u001b[0m\u001b[0m\n\u001b[0m",
      "\u001b[0;31mTypeError\u001b[0m: can't convert cuda:0 device type tensor to numpy. Use Tensor.cpu() to copy the tensor to host memory first."
     ]
    }
   ],
   "source": [
    "images[0].numpy().shape"
   ]
  },
  {
   "cell_type": "code",
   "execution_count": 262,
   "metadata": {
    "ExecuteTime": {
     "end_time": "2021-11-18T06:43:35.375458Z",
     "start_time": "2021-11-18T06:43:34.432064Z"
    },
    "colab": {
     "base_uri": "https://localhost:8080/",
     "height": 723
    },
    "id": "58c44483",
    "outputId": "cd0e9a4b-f990-4847-9eb1-f8e30bc59867"
   },
   "outputs": [
    {
     "name": "stderr",
     "output_type": "stream",
     "text": [
      "Clipping input data to the valid range for imshow with RGB data ([0..1] for floats or [0..255] for integers).\n",
      "/usr/local/lib/python3.7/dist-packages/matplotlib/backends/backend_agg.py:214: RuntimeWarning: Glyph 47215 missing from current font.\n",
      "  font.set_text(s, 0.0, flags=flags)\n",
      "/usr/local/lib/python3.7/dist-packages/matplotlib/backends/backend_agg.py:214: RuntimeWarning: Glyph 45936 missing from current font.\n",
      "  font.set_text(s, 0.0, flags=flags)\n",
      "/usr/local/lib/python3.7/dist-packages/matplotlib/backends/backend_agg.py:214: RuntimeWarning: Glyph 50900 missing from current font.\n",
      "  font.set_text(s, 0.0, flags=flags)\n",
      "/usr/local/lib/python3.7/dist-packages/matplotlib/backends/backend_agg.py:214: RuntimeWarning: Glyph 46300 missing from current font.\n",
      "  font.set_text(s, 0.0, flags=flags)\n",
      "/usr/local/lib/python3.7/dist-packages/matplotlib/backends/backend_agg.py:214: RuntimeWarning: Glyph 53440 missing from current font.\n",
      "  font.set_text(s, 0.0, flags=flags)\n",
      "/usr/local/lib/python3.7/dist-packages/matplotlib/backends/backend_agg.py:214: RuntimeWarning: Glyph 50892 missing from current font.\n",
      "  font.set_text(s, 0.0, flags=flags)\n",
      "/usr/local/lib/python3.7/dist-packages/matplotlib/backends/backend_agg.py:183: RuntimeWarning: Glyph 47215 missing from current font.\n",
      "  font.set_text(s, 0, flags=flags)\n",
      "/usr/local/lib/python3.7/dist-packages/matplotlib/backends/backend_agg.py:183: RuntimeWarning: Glyph 45936 missing from current font.\n",
      "  font.set_text(s, 0, flags=flags)\n",
      "/usr/local/lib/python3.7/dist-packages/matplotlib/backends/backend_agg.py:183: RuntimeWarning: Glyph 50900 missing from current font.\n",
      "  font.set_text(s, 0, flags=flags)\n",
      "/usr/local/lib/python3.7/dist-packages/matplotlib/backends/backend_agg.py:183: RuntimeWarning: Glyph 46300 missing from current font.\n",
      "  font.set_text(s, 0, flags=flags)\n",
      "/usr/local/lib/python3.7/dist-packages/matplotlib/backends/backend_agg.py:183: RuntimeWarning: Glyph 53440 missing from current font.\n",
      "  font.set_text(s, 0, flags=flags)\n",
      "/usr/local/lib/python3.7/dist-packages/matplotlib/backends/backend_agg.py:183: RuntimeWarning: Glyph 50892 missing from current font.\n",
      "  font.set_text(s, 0, flags=flags)\n"
     ]
    },
    {
     "data": {
      "image/png": "[encoded data removed]",
      "text/plain": [
       "<Figure size 432x288 with 1 Axes>"
      ]
     },
     "metadata": {},
     "output_type": "display_data"
    }
   ],
   "source": [
    "images, targets = next(iter(train_dataloader))\n",
    "plt.imshow(images[0].numpy().transpose(1,2,0))\n",
    "plt.title(landmarks_class[targets[0]])\n",
    "plt.axis('off')\n",
    "plt.show()"
   ]
  },
  {
   "cell_type": "markdown",
   "metadata": {
    "id": "2b490065"
   },
   "source": [
    "## 모델링\n",
    "<hr style=\"height:3px;border:none;color:#5F71F7;background-color:#203E60;\" />"
   ]
  },
  {
   "cell_type": "code",
   "execution_count": 263,
   "metadata": {
    "ExecuteTime": {
     "end_time": "2021-11-18T06:43:35.383215Z",
     "start_time": "2021-11-18T06:43:35.377080Z"
    },
    "id": "34a97928"
   },
   "outputs": [],
   "source": [
    "class SimpleCNN(nn.Module):\n",
    "    def __init__(self):\n",
    "        super(SimpleCNN, self).__init__()\n",
    "        self.conv1 = nn.Conv2d(3, 32, 3, 1)\n",
    "        self.conv2 = nn.Conv2d(32, 32, 3, 1)\n",
    "        self.conv3 = nn.Conv2d(32, 32, 3, 1)\n",
    "        self.conv4 = nn.Conv2d(32, 32, 3, 1)\n",
    "        \n",
    "        self.fc1 = nn.Linear(26912, 128)\n",
    "        self.fc2 = nn.Linear(128, 10)\n",
    "\n",
    "    def forward(self, x):\n",
    "        \n",
    "        x = self.conv1(x)\n",
    "        x = F.relu(x)\n",
    "        x = self.conv2(x)\n",
    "        x = F.relu(x)\n",
    "        x = F.max_pool2d(x, 2)\n",
    "        \n",
    "        x = self.conv3(x)\n",
    "        x = F.relu(x)\n",
    "        x = self.conv4(x)\n",
    "        x = F.relu(x)\n",
    "        x = F.max_pool2d(x, 2)\n",
    "        \n",
    "        x = torch.flatten(x, 1)\n",
    "        x = self.fc1(x)\n",
    "        x = F.relu(x)\n",
    "        x = self.fc2(x)\n",
    "\n",
    "        # Apply softmax to x\n",
    "        output = F.softmax(x, dim=1)\n",
    "        return output\n",
    "\n",
    "\n",
    "class Select_model(nn.Module):\n",
    "    def __init__(self, model_name, num_classes=10, pretrained=False):\n",
    "        super(Select_model, self).__init__()\n",
    "\n",
    "        # Use a pretrained model\n",
    "        if model_name == \"vgg\":\n",
    "            self.network = models.vgg16(pretrained=pretrained)\n",
    "            # Replace last layer\n",
    "            num_ftrs = self.network.classifier[6].in_features\n",
    "            self.network.fc = nn.Linear(num_ftrs, num_classes)\n",
    "        elif model_name == \"resnet\":  \n",
    "            self.network = models.resnet18(pretrained=pretrained)\n",
    "            # Replace last layer\n",
    "            num_ftrs = self.network.fc.in_features\n",
    "            self.network.fc = nn.Linear(num_ftrs, num_classes)\n",
    "        elif model_name == \"googlenet\":\n",
    "            self.network = models.googlenet(pretrained=pretrained, aux_logits=False)\n",
    "            # Replace last layer\n",
    "            num_ftrs = self.network.fc.in_features\n",
    "            self.network.fc = nn.Linear(num_ftrs, num_classes)\n",
    "        elif model_name == \"efficientnet_b0\":\n",
    "            self.network = models.efficientnet_b0(pretrained=pretrained, aux_logits=False)\n",
    "            # Replace last layer\n",
    "            num_ftrs = self.network.classifier[1].in_features\n",
    "            self.network.fc = nn.Linear(num_ftrs, num_classes)\n",
    "\n",
    "    def forward(self, xb):\n",
    "        return self.network(xb)"
   ]
  },
  {
   "cell_type": "code",
   "execution_count": 264,
   "metadata": {
    "ExecuteTime": {
     "end_time": "2021-11-18T06:43:37.328138Z",
     "start_time": "2021-11-18T06:43:35.384574Z"
    },
    "colab": {
     "base_uri": "https://localhost:8080/"
    },
    "id": "e1ddd13d",
    "outputId": "2fff0098-c258-417d-8176-9d567dfe0917"
   },
   "outputs": [
    {
     "name": "stdout",
     "output_type": "stream",
     "text": [
      "Select_model(\n",
      "  (network): EfficientNet(\n",
      "    (features): Sequential(\n",
      "      (0): ConvNormActivation(\n",
      "        (0): Conv2d(3, 32, kernel_size=(3, 3), stride=(2, 2), padding=(1, 1), bias=False)\n",
      "        (1): BatchNorm2d(32, eps=1e-05, momentum=0.1, affine=True, track_running_stats=True)\n",
      "        (2): SiLU(inplace=True)\n",
      "      )\n",
      "      (1): Sequential(\n",
      "        (0): MBConv(\n",
      "          (block): Sequential(\n",
      "            (0): ConvNormActivation(\n",
      "              (0): Conv2d(32, 32, kernel_size=(3, 3), stride=(1, 1), padding=(1, 1), groups=32, bias=False)\n",
      "              (1): BatchNorm2d(32, eps=1e-05, momentum=0.1, affine=True, track_running_stats=True)\n",
      "              (2): SiLU(inplace=True)\n",
      "            )\n",
      "            (1): SqueezeExcitation(\n",
      "              (avgpool): AdaptiveAvgPool2d(output_size=1)\n",
      "              (fc1): Conv2d(32, 8, kernel_size=(1, 1), stride=(1, 1))\n",
      "              (fc2): Conv2d(8, 32, kernel_size=(1, 1), stride=(1, 1))\n",
      "              (activation): SiLU(inplace=True)\n",
      "              (scale_activation): Sigmoid()\n",
      "            )\n",
      "            (2): ConvNormActivation(\n",
      "              (0): Conv2d(32, 16, kernel_size=(1, 1), stride=(1, 1), bias=False)\n",
      "              (1): BatchNorm2d(16, eps=1e-05, momentum=0.1, affine=True, track_running_stats=True)\n",
      "            )\n",
      "          )\n",
      "          (stochastic_depth): StochasticDepth(p=0.0, mode=row)\n",
      "        )\n",
      "      )\n",
      "      (2): Sequential(\n",
      "        (0): MBConv(\n",
      "          (block): Sequential(\n",
      "            (0): ConvNormActivation(\n",
      "              (0): Conv2d(16, 96, kernel_size=(1, 1), stride=(1, 1), bias=False)\n",
      "              (1): BatchNorm2d(96, eps=1e-05, momentum=0.1, affine=True, track_running_stats=True)\n",
      "              (2): SiLU(inplace=True)\n",
      "            )\n",
      "            (1): ConvNormActivation(\n",
      "              (0): Conv2d(96, 96, kernel_size=(3, 3), stride=(2, 2), padding=(1, 1), groups=96, bias=False)\n",
      "              (1): BatchNorm2d(96, eps=1e-05, momentum=0.1, affine=True, track_running_stats=True)\n",
      "              (2): SiLU(inplace=True)\n",
      "            )\n",
      "            (2): SqueezeExcitation(\n",
      "              (avgpool): AdaptiveAvgPool2d(output_size=1)\n",
      "              (fc1): Conv2d(96, 4, kernel_size=(1, 1), stride=(1, 1))\n",
      "              (fc2): Conv2d(4, 96, kernel_size=(1, 1), stride=(1, 1))\n",
      "              (activation): SiLU(inplace=True)\n",
      "              (scale_activation): Sigmoid()\n",
      "            )\n",
      "            (3): ConvNormActivation(\n",
      "              (0): Conv2d(96, 24, kernel_size=(1, 1), stride=(1, 1), bias=False)\n",
      "              (1): BatchNorm2d(24, eps=1e-05, momentum=0.1, affine=True, track_running_stats=True)\n",
      "            )\n",
      "          )\n",
      "          (stochastic_depth): StochasticDepth(p=0.0125, mode=row)\n",
      "        )\n",
      "        (1): MBConv(\n",
      "          (block): Sequential(\n",
      "            (0): ConvNormActivation(\n",
      "              (0): Conv2d(24, 144, kernel_size=(1, 1), stride=(1, 1), bias=False)\n",
      "              (1): BatchNorm2d(144, eps=1e-05, momentum=0.1, affine=True, track_running_stats=True)\n",
      "              (2): SiLU(inplace=True)\n",
      "            )\n",
      "            (1): ConvNormActivation(\n",
      "              (0): Conv2d(144, 144, kernel_size=(3, 3), stride=(1, 1), padding=(1, 1), groups=144, bias=False)\n",
      "              (1): BatchNorm2d(144, eps=1e-05, momentum=0.1, affine=True, track_running_stats=True)\n",
      "              (2): SiLU(inplace=True)\n",
      "            )\n",
      "            (2): SqueezeExcitation(\n",
      "              (avgpool): AdaptiveAvgPool2d(output_size=1)\n",
      "              (fc1): Conv2d(144, 6, kernel_size=(1, 1), stride=(1, 1))\n",
      "              (fc2): Conv2d(6, 144, kernel_size=(1, 1), stride=(1, 1))\n",
      "              (activation): SiLU(inplace=True)\n",
      "              (scale_activation): Sigmoid()\n",
      "            )\n",
      "            (3): ConvNormActivation(\n",
      "              (0): Conv2d(144, 24, kernel_size=(1, 1), stride=(1, 1), bias=False)\n",
      "              (1): BatchNorm2d(24, eps=1e-05, momentum=0.1, affine=True, track_running_stats=True)\n",
      "            )\n",
      "          )\n",
      "          (stochastic_depth): StochasticDepth(p=0.025, mode=row)\n",
      "        )\n",
      "      )\n",
      "      (3): Sequential(\n",
      "        (0): MBConv(\n",
      "          (block): Sequential(\n",
      "            (0): ConvNormActivation(\n",
      "              (0): Conv2d(24, 144, kernel_size=(1, 1), stride=(1, 1), bias=False)\n",
      "              (1): BatchNorm2d(144, eps=1e-05, momentum=0.1, affine=True, track_running_stats=True)\n",
      "              (2): SiLU(inplace=True)\n",
      "            )\n",
      "            (1): ConvNormActivation(\n",
      "              (0): Conv2d(144, 144, kernel_size=(5, 5), stride=(2, 2), padding=(2, 2), groups=144, bias=False)\n",
      "              (1): BatchNorm2d(144, eps=1e-05, momentum=0.1, affine=True, track_running_stats=True)\n",
      "              (2): SiLU(inplace=True)\n",
      "            )\n",
      "            (2): SqueezeExcitation(\n",
      "              (avgpool): AdaptiveAvgPool2d(output_size=1)\n",
      "              (fc1): Conv2d(144, 6, kernel_size=(1, 1), stride=(1, 1))\n",
      "              (fc2): Conv2d(6, 144, kernel_size=(1, 1), stride=(1, 1))\n",
      "              (activation): SiLU(inplace=True)\n",
      "              (scale_activation): Sigmoid()\n",
      "            )\n",
      "            (3): ConvNormActivation(\n",
      "              (0): Conv2d(144, 40, kernel_size=(1, 1), stride=(1, 1), bias=False)\n",
      "              (1): BatchNorm2d(40, eps=1e-05, momentum=0.1, affine=True, track_running_stats=True)\n",
      "            )\n",
      "          )\n",
      "          (stochastic_depth): StochasticDepth(p=0.037500000000000006, mode=row)\n",
      "        )\n",
      "        (1): MBConv(\n",
      "          (block): Sequential(\n",
      "            (0): ConvNormActivation(\n",
      "              (0): Conv2d(40, 240, kernel_size=(1, 1), stride=(1, 1), bias=False)\n",
      "              (1): BatchNorm2d(240, eps=1e-05, momentum=0.1, affine=True, track_running_stats=True)\n",
      "              (2): SiLU(inplace=True)\n",
      "            )\n",
      "            (1): ConvNormActivation(\n",
      "              (0): Conv2d(240, 240, kernel_size=(5, 5), stride=(1, 1), padding=(2, 2), groups=240, bias=False)\n",
      "              (1): BatchNorm2d(240, eps=1e-05, momentum=0.1, affine=True, track_running_stats=True)\n",
      "              (2): SiLU(inplace=True)\n",
      "            )\n",
      "            (2): SqueezeExcitation(\n",
      "              (avgpool): AdaptiveAvgPool2d(output_size=1)\n",
      "              (fc1): Conv2d(240, 10, kernel_size=(1, 1), stride=(1, 1))\n",
      "              (fc2): Conv2d(10, 240, kernel_size=(1, 1), stride=(1, 1))\n",
      "              (activation): SiLU(inplace=True)\n",
      "              (scale_activation): Sigmoid()\n",
      "            )\n",
      "            (3): ConvNormActivation(\n",
      "              (0): Conv2d(240, 40, kernel_size=(1, 1), stride=(1, 1), bias=False)\n",
      "              (1): BatchNorm2d(40, eps=1e-05, momentum=0.1, affine=True, track_running_stats=True)\n",
      "            )\n",
      "          )\n",
      "          (stochastic_depth): StochasticDepth(p=0.05, mode=row)\n",
      "        )\n",
      "      )\n",
      "      (4): Sequential(\n",
      "        (0): MBConv(\n",
      "          (block): Sequential(\n",
      "            (0): ConvNormActivation(\n",
      "              (0): Conv2d(40, 240, kernel_size=(1, 1), stride=(1, 1), bias=False)\n",
      "              (1): BatchNorm2d(240, eps=1e-05, momentum=0.1, affine=True, track_running_stats=True)\n",
      "              (2): SiLU(inplace=True)\n",
      "            )\n",
      "            (1): ConvNormActivation(\n",
      "              (0): Conv2d(240, 240, kernel_size=(3, 3), stride=(2, 2), padding=(1, 1), groups=240, bias=False)\n",
      "              (1): BatchNorm2d(240, eps=1e-05, momentum=0.1, affine=True, track_running_stats=True)\n",
      "              (2): SiLU(inplace=True)\n",
      "            )\n",
      "            (2): SqueezeExcitation(\n",
      "              (avgpool): AdaptiveAvgPool2d(output_size=1)\n",
      "              (fc1): Conv2d(240, 10, kernel_size=(1, 1), stride=(1, 1))\n",
      "              (fc2): Conv2d(10, 240, kernel_size=(1, 1), stride=(1, 1))\n",
      "              (activation): SiLU(inplace=True)\n",
      "              (scale_activation): Sigmoid()\n",
      "            )\n",
      "            (3): ConvNormActivation(\n",
      "              (0): Conv2d(240, 80, kernel_size=(1, 1), stride=(1, 1), bias=False)\n",
      "              (1): BatchNorm2d(80, eps=1e-05, momentum=0.1, affine=True, track_running_stats=True)\n",
      "            )\n",
      "          )\n",
      "          (stochastic_depth): StochasticDepth(p=0.0625, mode=row)\n",
      "        )\n",
      "        (1): MBConv(\n",
      "          (block): Sequential(\n",
      "            (0): ConvNormActivation(\n",
      "              (0): Conv2d(80, 480, kernel_size=(1, 1), stride=(1, 1), bias=False)\n",
      "              (1): BatchNorm2d(480, eps=1e-05, momentum=0.1, affine=True, track_running_stats=True)\n",
      "              (2): SiLU(inplace=True)\n",
      "            )\n",
      "            (1): ConvNormActivation(\n",
      "              (0): Conv2d(480, 480, kernel_size=(3, 3), stride=(1, 1), padding=(1, 1), groups=480, bias=False)\n",
      "              (1): BatchNorm2d(480, eps=1e-05, momentum=0.1, affine=True, track_running_stats=True)\n",
      "              (2): SiLU(inplace=True)\n",
      "            )\n",
      "            (2): SqueezeExcitation(\n",
      "              (avgpool): AdaptiveAvgPool2d(output_size=1)\n",
      "              (fc1): Conv2d(480, 20, kernel_size=(1, 1), stride=(1, 1))\n",
      "              (fc2): Conv2d(20, 480, kernel_size=(1, 1), stride=(1, 1))\n",
      "              (activation): SiLU(inplace=True)\n",
      "              (scale_activation): Sigmoid()\n",
      "            )\n",
      "            (3): ConvNormActivation(\n",
      "              (0): Conv2d(480, 80, kernel_size=(1, 1), stride=(1, 1), bias=False)\n",
      "              (1): BatchNorm2d(80, eps=1e-05, momentum=0.1, affine=True, track_running_stats=True)\n",
      "            )\n",
      "          )\n",
      "          (stochastic_depth): StochasticDepth(p=0.07500000000000001, mode=row)\n",
      "        )\n",
      "        (2): MBConv(\n",
      "          (block): Sequential(\n",
      "            (0): ConvNormActivation(\n",
      "              (0): Conv2d(80, 480, kernel_size=(1, 1), stride=(1, 1), bias=False)\n",
      "              (1): BatchNorm2d(480, eps=1e-05, momentum=0.1, affine=True, track_running_stats=True)\n",
      "              (2): SiLU(inplace=True)\n",
      "            )\n",
      "            (1): ConvNormActivation(\n",
      "              (0): Conv2d(480, 480, kernel_size=(3, 3), stride=(1, 1), padding=(1, 1), groups=480, bias=False)\n",
      "              (1): BatchNorm2d(480, eps=1e-05, momentum=0.1, affine=True, track_running_stats=True)\n",
      "              (2): SiLU(inplace=True)\n",
      "            )\n",
      "            (2): SqueezeExcitation(\n",
      "              (avgpool): AdaptiveAvgPool2d(output_size=1)\n",
      "              (fc1): Conv2d(480, 20, kernel_size=(1, 1), stride=(1, 1))\n",
      "              (fc2): Conv2d(20, 480, kernel_size=(1, 1), stride=(1, 1))\n",
      "              (activation): SiLU(inplace=True)\n",
      "              (scale_activation): Sigmoid()\n",
      "            )\n",
      "            (3): ConvNormActivation(\n",
      "              (0): Conv2d(480, 80, kernel_size=(1, 1), stride=(1, 1), bias=False)\n",
      "              (1): BatchNorm2d(80, eps=1e-05, momentum=0.1, affine=True, track_running_stats=True)\n",
      "            )\n",
      "          )\n",
      "          (stochastic_depth): StochasticDepth(p=0.08750000000000001, mode=row)\n",
      "        )\n",
      "      )\n",
      "      (5): Sequential(\n",
      "        (0): MBConv(\n",
      "          (block): Sequential(\n",
      "            (0): ConvNormActivation(\n",
      "              (0): Conv2d(80, 480, kernel_size=(1, 1), stride=(1, 1), bias=False)\n",
      "              (1): BatchNorm2d(480, eps=1e-05, momentum=0.1, affine=True, track_running_stats=True)\n",
      "              (2): SiLU(inplace=True)\n",
      "            )\n",
      "            (1): ConvNormActivation(\n",
      "              (0): Conv2d(480, 480, kernel_size=(5, 5), stride=(1, 1), padding=(2, 2), groups=480, bias=False)\n",
      "              (1): BatchNorm2d(480, eps=1e-05, momentum=0.1, affine=True, track_running_stats=True)\n",
      "              (2): SiLU(inplace=True)\n",
      "            )\n",
      "            (2): SqueezeExcitation(\n",
      "              (avgpool): AdaptiveAvgPool2d(output_size=1)\n",
      "              (fc1): Conv2d(480, 20, kernel_size=(1, 1), stride=(1, 1))\n",
      "              (fc2): Conv2d(20, 480, kernel_size=(1, 1), stride=(1, 1))\n",
      "              (activation): SiLU(inplace=True)\n",
      "              (scale_activation): Sigmoid()\n",
      "            )\n",
      "            (3): ConvNormActivation(\n",
      "              (0): Conv2d(480, 112, kernel_size=(1, 1), stride=(1, 1), bias=False)\n",
      "              (1): BatchNorm2d(112, eps=1e-05, momentum=0.1, affine=True, track_running_stats=True)\n",
      "            )\n",
      "          )\n",
      "          (stochastic_depth): StochasticDepth(p=0.1, mode=row)\n",
      "        )\n",
      "        (1): MBConv(\n",
      "          (block): Sequential(\n",
      "            (0): ConvNormActivation(\n",
      "              (0): Conv2d(112, 672, kernel_size=(1, 1), stride=(1, 1), bias=False)\n",
      "              (1): BatchNorm2d(672, eps=1e-05, momentum=0.1, affine=True, track_running_stats=True)\n",
      "              (2): SiLU(inplace=True)\n",
      "            )\n",
      "            (1): ConvNormActivation(\n",
      "              (0): Conv2d(672, 672, kernel_size=(5, 5), stride=(1, 1), padding=(2, 2), groups=672, bias=False)\n",
      "              (1): BatchNorm2d(672, eps=1e-05, momentum=0.1, affine=True, track_running_stats=True)\n",
      "              (2): SiLU(inplace=True)\n",
      "            )\n",
      "            (2): SqueezeExcitation(\n",
      "              (avgpool): AdaptiveAvgPool2d(output_size=1)\n",
      "              (fc1): Conv2d(672, 28, kernel_size=(1, 1), stride=(1, 1))\n",
      "              (fc2): Conv2d(28, 672, kernel_size=(1, 1), stride=(1, 1))\n",
      "              (activation): SiLU(inplace=True)\n",
      "              (scale_activation): Sigmoid()\n",
      "            )\n",
      "            (3): ConvNormActivation(\n",
      "              (0): Conv2d(672, 112, kernel_size=(1, 1), stride=(1, 1), bias=False)\n",
      "              (1): BatchNorm2d(112, eps=1e-05, momentum=0.1, affine=True, track_running_stats=True)\n",
      "            )\n",
      "          )\n",
      "          (stochastic_depth): StochasticDepth(p=0.1125, mode=row)\n",
      "        )\n",
      "        (2): MBConv(\n",
      "          (block): Sequential(\n",
      "            (0): ConvNormActivation(\n",
      "              (0): Conv2d(112, 672, kernel_size=(1, 1), stride=(1, 1), bias=False)\n",
      "              (1): BatchNorm2d(672, eps=1e-05, momentum=0.1, affine=True, track_running_stats=True)\n",
      "              (2): SiLU(inplace=True)\n",
      "            )\n",
      "            (1): ConvNormActivation(\n",
      "              (0): Conv2d(672, 672, kernel_size=(5, 5), stride=(1, 1), padding=(2, 2), groups=672, bias=False)\n",
      "              (1): BatchNorm2d(672, eps=1e-05, momentum=0.1, affine=True, track_running_stats=True)\n",
      "              (2): SiLU(inplace=True)\n",
      "            )\n",
      "            (2): SqueezeExcitation(\n",
      "              (avgpool): AdaptiveAvgPool2d(output_size=1)\n",
      "              (fc1): Conv2d(672, 28, kernel_size=(1, 1), stride=(1, 1))\n",
      "              (fc2): Conv2d(28, 672, kernel_size=(1, 1), stride=(1, 1))\n",
      "              (activation): SiLU(inplace=True)\n",
      "              (scale_activation): Sigmoid()\n",
      "            )\n",
      "            (3): ConvNormActivation(\n",
      "              (0): Conv2d(672, 112, kernel_size=(1, 1), stride=(1, 1), bias=False)\n",
      "              (1): BatchNorm2d(112, eps=1e-05, momentum=0.1, affine=True, track_running_stats=True)\n",
      "            )\n",
      "          )\n",
      "          (stochastic_depth): StochasticDepth(p=0.125, mode=row)\n",
      "        )\n",
      "      )\n",
      "      (6): Sequential(\n",
      "        (0): MBConv(\n",
      "          (block): Sequential(\n",
      "            (0): ConvNormActivation(\n",
      "              (0): Conv2d(112, 672, kernel_size=(1, 1), stride=(1, 1), bias=False)\n",
      "              (1): BatchNorm2d(672, eps=1e-05, momentum=0.1, affine=True, track_running_stats=True)\n",
      "              (2): SiLU(inplace=True)\n",
      "            )\n",
      "            (1): ConvNormActivation(\n",
      "              (0): Conv2d(672, 672, kernel_size=(5, 5), stride=(2, 2), padding=(2, 2), groups=672, bias=False)\n",
      "              (1): BatchNorm2d(672, eps=1e-05, momentum=0.1, affine=True, track_running_stats=True)\n",
      "              (2): SiLU(inplace=True)\n",
      "            )\n",
      "            (2): SqueezeExcitation(\n",
      "              (avgpool): AdaptiveAvgPool2d(output_size=1)\n",
      "              (fc1): Conv2d(672, 28, kernel_size=(1, 1), stride=(1, 1))\n",
      "              (fc2): Conv2d(28, 672, kernel_size=(1, 1), stride=(1, 1))\n",
      "              (activation): SiLU(inplace=True)\n",
      "              (scale_activation): Sigmoid()\n",
      "            )\n",
      "            (3): ConvNormActivation(\n",
      "              (0): Conv2d(672, 192, kernel_size=(1, 1), stride=(1, 1), bias=False)\n",
      "              (1): BatchNorm2d(192, eps=1e-05, momentum=0.1, affine=True, track_running_stats=True)\n",
      "            )\n",
      "          )\n",
      "          (stochastic_depth): StochasticDepth(p=0.1375, mode=row)\n",
      "        )\n",
      "        (1): MBConv(\n",
      "          (block): Sequential(\n",
      "            (0): ConvNormActivation(\n",
      "              (0): Conv2d(192, 1152, kernel_size=(1, 1), stride=(1, 1), bias=False)\n",
      "              (1): BatchNorm2d(1152, eps=1e-05, momentum=0.1, affine=True, track_running_stats=True)\n",
      "              (2): SiLU(inplace=True)\n",
      "            )\n",
      "            (1): ConvNormActivation(\n",
      "              (0): Conv2d(1152, 1152, kernel_size=(5, 5), stride=(1, 1), padding=(2, 2), groups=1152, bias=False)\n",
      "              (1): BatchNorm2d(1152, eps=1e-05, momentum=0.1, affine=True, track_running_stats=True)\n",
      "              (2): SiLU(inplace=True)\n",
      "            )\n",
      "            (2): SqueezeExcitation(\n",
      "              (avgpool): AdaptiveAvgPool2d(output_size=1)\n",
      "              (fc1): Conv2d(1152, 48, kernel_size=(1, 1), stride=(1, 1))\n",
      "              (fc2): Conv2d(48, 1152, kernel_size=(1, 1), stride=(1, 1))\n",
      "              (activation): SiLU(inplace=True)\n",
      "              (scale_activation): Sigmoid()\n",
      "            )\n",
      "            (3): ConvNormActivation(\n",
      "              (0): Conv2d(1152, 192, kernel_size=(1, 1), stride=(1, 1), bias=False)\n",
      "              (1): BatchNorm2d(192, eps=1e-05, momentum=0.1, affine=True, track_running_stats=True)\n",
      "            )\n",
      "          )\n",
      "          (stochastic_depth): StochasticDepth(p=0.15000000000000002, mode=row)\n",
      "        )\n",
      "        (2): MBConv(\n",
      "          (block): Sequential(\n",
      "            (0): ConvNormActivation(\n",
      "              (0): Conv2d(192, 1152, kernel_size=(1, 1), stride=(1, 1), bias=False)\n",
      "              (1): BatchNorm2d(1152, eps=1e-05, momentum=0.1, affine=True, track_running_stats=True)\n",
      "              (2): SiLU(inplace=True)\n",
      "            )\n",
      "            (1): ConvNormActivation(\n",
      "              (0): Conv2d(1152, 1152, kernel_size=(5, 5), stride=(1, 1), padding=(2, 2), groups=1152, bias=False)\n",
      "              (1): BatchNorm2d(1152, eps=1e-05, momentum=0.1, affine=True, track_running_stats=True)\n",
      "              (2): SiLU(inplace=True)\n",
      "            )\n",
      "            (2): SqueezeExcitation(\n",
      "              (avgpool): AdaptiveAvgPool2d(output_size=1)\n",
      "              (fc1): Conv2d(1152, 48, kernel_size=(1, 1), stride=(1, 1))\n",
      "              (fc2): Conv2d(48, 1152, kernel_size=(1, 1), stride=(1, 1))\n",
      "              (activation): SiLU(inplace=True)\n",
      "              (scale_activation): Sigmoid()\n",
      "            )\n",
      "            (3): ConvNormActivation(\n",
      "              (0): Conv2d(1152, 192, kernel_size=(1, 1), stride=(1, 1), bias=False)\n",
      "              (1): BatchNorm2d(192, eps=1e-05, momentum=0.1, affine=True, track_running_stats=True)\n",
      "            )\n",
      "          )\n",
      "          (stochastic_depth): StochasticDepth(p=0.1625, mode=row)\n",
      "        )\n",
      "        (3): MBConv(\n",
      "          (block): Sequential(\n",
      "            (0): ConvNormActivation(\n",
      "              (0): Conv2d(192, 1152, kernel_size=(1, 1), stride=(1, 1), bias=False)\n",
      "              (1): BatchNorm2d(1152, eps=1e-05, momentum=0.1, affine=True, track_running_stats=True)\n",
      "              (2): SiLU(inplace=True)\n",
      "            )\n",
      "            (1): ConvNormActivation(\n",
      "              (0): Conv2d(1152, 1152, kernel_size=(5, 5), stride=(1, 1), padding=(2, 2), groups=1152, bias=False)\n",
      "              (1): BatchNorm2d(1152, eps=1e-05, momentum=0.1, affine=True, track_running_stats=True)\n",
      "              (2): SiLU(inplace=True)\n",
      "            )\n",
      "            (2): SqueezeExcitation(\n",
      "              (avgpool): AdaptiveAvgPool2d(output_size=1)\n",
      "              (fc1): Conv2d(1152, 48, kernel_size=(1, 1), stride=(1, 1))\n",
      "              (fc2): Conv2d(48, 1152, kernel_size=(1, 1), stride=(1, 1))\n",
      "              (activation): SiLU(inplace=True)\n",
      "              (scale_activation): Sigmoid()\n",
      "            )\n",
      "            (3): ConvNormActivation(\n",
      "              (0): Conv2d(1152, 192, kernel_size=(1, 1), stride=(1, 1), bias=False)\n",
      "              (1): BatchNorm2d(192, eps=1e-05, momentum=0.1, affine=True, track_running_stats=True)\n",
      "            )\n",
      "          )\n",
      "          (stochastic_depth): StochasticDepth(p=0.17500000000000002, mode=row)\n",
      "        )\n",
      "      )\n",
      "      (7): Sequential(\n",
      "        (0): MBConv(\n",
      "          (block): Sequential(\n",
      "            (0): ConvNormActivation(\n",
      "              (0): Conv2d(192, 1152, kernel_size=(1, 1), stride=(1, 1), bias=False)\n",
      "              (1): BatchNorm2d(1152, eps=1e-05, momentum=0.1, affine=True, track_running_stats=True)\n",
      "              (2): SiLU(inplace=True)\n",
      "            )\n",
      "            (1): ConvNormActivation(\n",
      "              (0): Conv2d(1152, 1152, kernel_size=(3, 3), stride=(1, 1), padding=(1, 1), groups=1152, bias=False)\n",
      "              (1): BatchNorm2d(1152, eps=1e-05, momentum=0.1, affine=True, track_running_stats=True)\n",
      "              (2): SiLU(inplace=True)\n",
      "            )\n",
      "            (2): SqueezeExcitation(\n",
      "              (avgpool): AdaptiveAvgPool2d(output_size=1)\n",
      "              (fc1): Conv2d(1152, 48, kernel_size=(1, 1), stride=(1, 1))\n",
      "              (fc2): Conv2d(48, 1152, kernel_size=(1, 1), stride=(1, 1))\n",
      "              (activation): SiLU(inplace=True)\n",
      "              (scale_activation): Sigmoid()\n",
      "            )\n",
      "            (3): ConvNormActivation(\n",
      "              (0): Conv2d(1152, 320, kernel_size=(1, 1), stride=(1, 1), bias=False)\n",
      "              (1): BatchNorm2d(320, eps=1e-05, momentum=0.1, affine=True, track_running_stats=True)\n",
      "            )\n",
      "          )\n",
      "          (stochastic_depth): StochasticDepth(p=0.1875, mode=row)\n",
      "        )\n",
      "      )\n",
      "      (8): ConvNormActivation(\n",
      "        (0): Conv2d(320, 1280, kernel_size=(1, 1), stride=(1, 1), bias=False)\n",
      "        (1): BatchNorm2d(1280, eps=1e-05, momentum=0.1, affine=True, track_running_stats=True)\n",
      "        (2): SiLU(inplace=True)\n",
      "      )\n",
      "    )\n",
      "    (avgpool): AdaptiveAvgPool2d(output_size=1)\n",
      "    (classifier): Sequential(\n",
      "      (0): Dropout(p=0.2, inplace=True)\n",
      "      (1): Linear(in_features=1280, out_features=1000, bias=True)\n",
      "    )\n",
      "    (fc): Linear(in_features=1280, out_features=10, bias=True)\n",
      "  )\n",
      ")\n"
     ]
    }
   ],
   "source": [
    "model = Select_model(\"efficientnet_b0\").to('cuda')\n",
    "print(model)"
   ]
  },
  {
   "cell_type": "code",
   "execution_count": 265,
   "metadata": {
    "ExecuteTime": {
     "end_time": "2021-11-18T06:43:37.333017Z",
     "start_time": "2021-11-18T06:43:37.329744Z"
    },
    "colab": {
     "base_uri": "https://localhost:8080/"
    },
    "id": "6abb9b4b",
    "outputId": "cf03a5d7-429f-46d0-f442-8122ee381d28"
   },
   "outputs": [
    {
     "data": {
      "text/plain": [
       "5301358"
      ]
     },
     "execution_count": 265,
     "metadata": {},
     "output_type": "execute_result"
    }
   ],
   "source": [
    "sum([p.numel() for p in model.parameters()])"
   ]
  },
  {
   "cell_type": "code",
   "execution_count": 266,
   "metadata": {
    "ExecuteTime": {
     "end_time": "2021-11-18T06:43:37.976124Z",
     "start_time": "2021-11-18T06:43:37.334244Z"
    },
    "colab": {
     "base_uri": "https://localhost:8080/"
    },
    "id": "c69a5527",
    "outputId": "5a6e2be6-916c-4706-dde5-16803ae852e5"
   },
   "outputs": [
    {
     "name": "stdout",
     "output_type": "stream",
     "text": [
      "tensor([[-4.0151e-02, -8.1604e-02, -1.0149e-01, -1.6738e-02,  5.6720e-02,\n",
      "         -5.7760e-03,  1.5923e-02, -5.7343e-02,  1.4485e-01,  2.3182e-01,\n",
      "         -1.1649e-01, -7.2937e-03,  7.3928e-02, -1.8081e-01, -2.5639e-01,\n",
      "         -2.4106e-01, -1.9015e-01, -5.1472e-02, -1.0548e-01, -2.9509e-02,\n",
      "          4.4738e-03,  1.9006e-01,  2.8016e-02,  1.4072e-01,  2.6393e-02,\n",
      "         -5.2941e-02, -7.8248e-02, -4.9986e-02,  6.8561e-02,  2.5545e-04,\n",
      "         -9.1896e-02, -3.2426e-01,  2.5796e-01, -2.4328e-01,  1.9509e-01,\n",
      "          1.6115e-03,  1.4377e-02, -1.3966e-02, -6.0036e-03, -5.1759e-02,\n",
      "         -2.4289e-01, -2.7614e-02, -1.3471e-01, -1.3148e-01,  1.4554e-01,\n",
      "         -2.3794e-01,  3.3771e-02, -2.4321e-02,  1.8737e-03,  1.5003e-01,\n",
      "         -1.5111e-01,  2.4101e-01, -2.0701e-01, -7.8935e-02,  6.9970e-03,\n",
      "         -8.7409e-02,  1.1838e-01, -1.6200e-01,  3.9978e-04,  2.1725e-02,\n",
      "         -1.1291e-01,  8.2162e-02, -6.9120e-02,  2.4662e-01, -1.0726e-01,\n",
      "         -6.6342e-02,  4.6438e-02, -1.2907e-02,  3.4625e-01,  1.6209e-03,\n",
      "         -1.5366e-01, -1.9809e-02,  1.1357e-01, -4.5599e-02,  1.0624e-01,\n",
      "          3.6541e-02,  1.6841e-01,  6.8664e-02,  1.7509e-02, -1.1491e-01,\n",
      "          8.2120e-03,  7.9310e-02,  1.5373e-01, -4.5780e-02, -5.3261e-02,\n",
      "         -1.3417e-01,  1.5060e-01, -1.1546e-02,  6.9778e-02, -3.2994e-02,\n",
      "         -1.8370e-01,  1.4281e-01, -2.9716e-02,  8.6438e-02, -1.6303e-01,\n",
      "          1.1488e-01, -7.8393e-02,  1.3091e-01, -4.0783e-02,  2.6111e-01,\n",
      "          2.7763e-01,  7.3334e-02,  1.2242e-01,  1.5228e-01,  2.9361e-01,\n",
      "         -2.5090e-01,  7.4868e-02, -4.4938e-02,  6.6281e-02,  1.2682e-01,\n",
      "          8.3856e-02,  1.5025e-01,  1.6277e-01,  1.5555e-01,  9.3264e-02,\n",
      "          2.2965e-01, -1.7017e-01, -1.4109e-02, -1.9210e-01, -1.9341e-01,\n",
      "          1.2271e-01, -5.0172e-02,  1.3127e-01,  9.4380e-02,  2.4055e-01,\n",
      "         -7.5722e-02, -2.1927e-02,  9.2359e-02,  2.1527e-02,  2.6039e-01,\n",
      "          2.2301e-02, -1.1502e-01, -1.3979e-01, -8.5347e-02,  2.4314e-01,\n",
      "          2.6028e-01, -6.6411e-02,  2.5773e-01,  1.0714e-01, -1.2800e-01,\n",
      "          1.5679e-01, -2.5944e-01, -8.3222e-02, -2.3500e-02,  1.9310e-01,\n",
      "         -3.2776e-02, -2.1421e-02, -5.8158e-02, -9.3818e-02, -7.0548e-02,\n",
      "         -8.8750e-02,  6.2153e-02, -1.2477e-01, -1.5725e-01, -1.2319e-01,\n",
      "         -2.9800e-02, -1.7537e-01, -2.1418e-02,  1.4298e-02, -2.1836e-01,\n",
      "          2.7558e-01, -2.8143e-02,  1.8402e-01, -1.9275e-01,  1.6467e-01,\n",
      "         -1.3843e-01, -1.3310e-01,  3.2238e-02,  1.6831e-01,  3.1208e-01,\n",
      "         -6.0095e-03,  6.5092e-02,  2.5988e-03, -2.8586e-03,  1.2462e-02,\n",
      "         -1.7224e-01, -2.1731e-01,  5.1868e-02,  2.6525e-02,  1.1799e-01,\n",
      "         -2.3034e-01, -6.1954e-03,  6.2728e-02, -1.9558e-01,  6.9192e-02,\n",
      "          7.6938e-02, -1.5070e-01,  4.3916e-02,  5.2243e-02,  2.1700e-01,\n",
      "          1.1816e-01,  2.9883e-01,  6.7262e-02, -1.7645e-01, -9.9069e-02,\n",
      "          2.3217e-01, -1.6504e-01, -9.0304e-03, -2.4246e-02,  9.7097e-02,\n",
      "          5.1589e-02, -7.0605e-02,  8.2361e-02,  9.2244e-02,  1.2122e-01,\n",
      "         -1.7441e-01,  2.3370e-01, -3.7790e-01, -4.4791e-02, -1.0317e-01,\n",
      "         -3.6723e-02, -1.1957e-02,  1.1955e-01, -2.1901e-01,  1.3828e-01,\n",
      "          2.2643e-02,  1.7305e-01, -1.4242e-01,  2.0685e-01, -8.1850e-02,\n",
      "          3.9867e-02,  5.0511e-02,  2.0405e-02, -1.8180e-01, -2.1672e-01,\n",
      "         -4.3385e-02, -1.7213e-02, -9.4484e-02, -1.3584e-01, -1.6361e-01,\n",
      "          1.3511e-01, -4.0674e-02, -1.6880e-01, -7.1914e-02,  8.8026e-02,\n",
      "         -8.2668e-02,  1.3458e-01,  5.7680e-02, -1.3053e-01,  8.5828e-02,\n",
      "          2.7966e-01, -3.6338e-02,  4.9906e-02,  4.2963e-02,  1.0121e-01,\n",
      "         -1.2765e-01,  8.1172e-02,  2.1030e-01,  2.8221e-01,  5.6541e-02,\n",
      "          9.1583e-02,  1.0253e-01,  2.6715e-01, -1.9111e-02,  5.2084e-02,\n",
      "          1.4632e-01,  1.4929e-01,  1.2251e-01,  2.3470e-03,  1.8248e-01,\n",
      "         -1.5095e-01,  2.4022e-01,  1.9262e-02, -9.0189e-03, -2.4725e-01,\n",
      "         -9.7924e-02,  2.7936e-01, -1.8950e-02,  1.5642e-01, -7.3427e-02,\n",
      "          1.2540e-01,  8.3711e-02,  3.0368e-01, -2.9331e-01,  1.1478e-01,\n",
      "          1.9754e-01,  1.1187e-01, -5.6465e-02,  2.1501e-01,  9.1934e-02,\n",
      "         -1.5295e-01,  3.3934e-01,  1.3361e-02,  4.6536e-02,  1.2780e-01,\n",
      "         -1.6121e-01,  8.6250e-02,  1.4246e-01,  4.6150e-02,  2.3216e-01,\n",
      "          1.2525e-01,  4.2356e-01, -6.3437e-02,  2.5927e-02, -1.1394e-01,\n",
      "         -3.3844e-02,  3.5414e-02,  3.6776e-02, -4.3130e-02,  1.6825e-01,\n",
      "          1.8149e-01, -1.5321e-01, -2.4520e-01, -8.9410e-03, -5.2727e-02,\n",
      "         -1.3938e-01, -9.4105e-02,  1.4775e-01,  2.9332e-01,  1.3546e-01,\n",
      "          8.8129e-04, -6.4109e-02, -3.7077e-02,  6.1726e-02, -4.9860e-01,\n",
      "         -1.3590e-01,  5.2288e-03,  1.0412e-02,  1.3254e-01, -7.2999e-02,\n",
      "          1.0348e-01, -3.7467e-01, -1.4792e-01,  1.7447e-01,  1.7670e-01,\n",
      "          2.1845e-01, -4.8742e-01, -1.3492e-02,  2.5268e-01,  7.9372e-02,\n",
      "         -2.3876e-01, -5.2120e-02, -1.4038e-01, -2.6347e-01, -3.4535e-03,\n",
      "         -1.3430e-01, -2.1313e-01, -7.8453e-02,  8.8251e-04, -1.9145e-01,\n",
      "         -2.0852e-01, -1.6055e-01, -4.0153e-01,  1.1277e-01, -2.6609e-01,\n",
      "         -3.2718e-02,  1.3887e-01, -3.7731e-01, -2.1928e-03,  1.5870e-01,\n",
      "         -3.1412e-02,  1.3451e-01, -6.9928e-02, -1.9052e-01,  3.1619e-02,\n",
      "         -2.3530e-01, -5.2726e-02, -4.5036e-02, -5.5730e-02, -1.6788e-01,\n",
      "          1.5637e-01, -1.7453e-01,  9.3412e-02, -6.3539e-02,  1.0074e-01,\n",
      "         -9.9254e-02, -2.4602e-02,  4.3962e-01,  6.1725e-02, -2.6825e-02,\n",
      "         -1.8396e-01,  1.1471e-01,  1.6028e-01, -2.3265e-01, -9.5051e-03,\n",
      "          9.1330e-02, -1.6181e-01,  1.1844e-01, -2.9519e-01, -1.1901e-01,\n",
      "         -2.3554e-02, -2.1912e-01, -1.6789e-01, -2.5038e-01,  1.2698e-01,\n",
      "         -2.4050e-01,  1.3606e-01, -4.6545e-02,  6.5735e-02, -4.4501e-02,\n",
      "          2.6512e-01,  6.7315e-02,  6.0722e-02,  8.8362e-02, -8.4495e-02,\n",
      "          2.9476e-01,  1.4749e-02,  2.1759e-01, -1.9287e-02, -3.1553e-01,\n",
      "          1.3591e-01,  5.4240e-02, -2.3000e-02, -9.7383e-02, -7.4686e-02,\n",
      "          7.0578e-02,  1.6281e-01,  1.0100e-01, -3.7167e-02, -2.6082e-01,\n",
      "          1.1083e-01, -1.5571e-01,  5.3896e-01,  2.0155e-01,  2.3065e-01,\n",
      "          6.2618e-02, -7.0866e-02,  4.8815e-02,  1.1793e-01,  2.9155e-01,\n",
      "          1.0417e-01, -7.3792e-02, -6.8529e-02,  1.7998e-01, -2.9926e-02,\n",
      "          7.8292e-02,  8.3198e-02,  7.7215e-02, -3.7328e-02, -1.9437e-03,\n",
      "         -6.7129e-03, -2.6964e-01, -1.6481e-01, -1.1526e-01, -1.9608e-01,\n",
      "          2.8334e-02,  3.3513e-02,  1.0969e-01, -1.3559e-01,  9.7394e-02,\n",
      "          2.5199e-02, -2.1347e-03,  5.4127e-02,  1.0298e-01,  2.0072e-01,\n",
      "         -1.8118e-01, -3.9861e-02,  1.4618e-01,  2.6426e-02, -2.3712e-02,\n",
      "         -9.1303e-03, -2.6059e-01,  3.2454e-02, -1.7509e-01,  1.9058e-01,\n",
      "         -6.5760e-02, -1.9902e-03, -1.4412e-02, -2.7667e-01, -3.7872e-02,\n",
      "          6.2384e-02,  2.0421e-01,  5.6402e-02,  4.8545e-02, -1.0537e-02,\n",
      "          1.8359e-01, -2.0745e-01, -2.5003e-01,  2.1082e-01,  9.0934e-05,\n",
      "         -5.1221e-02, -7.2122e-02, -9.7258e-02,  1.6405e-02,  2.4297e-01,\n",
      "          1.6576e-01, -7.7751e-02, -3.2989e-02, -8.5553e-02,  6.7105e-02,\n",
      "         -9.8878e-02, -6.1833e-02, -7.5716e-02, -1.1062e-01,  1.3746e-01,\n",
      "          3.0031e-01,  1.3960e-01,  2.0913e-01,  6.4336e-02,  5.3414e-02,\n",
      "         -2.2096e-02,  3.6777e-03,  1.2803e-01, -5.5532e-02, -1.0304e-01,\n",
      "         -5.7414e-03, -2.2374e-01, -2.1003e-02,  1.4093e-01, -1.4282e-01,\n",
      "         -2.1866e-01, -2.3420e-02, -5.1980e-02, -1.2683e-01,  2.2947e-01,\n",
      "          6.9653e-02,  5.4520e-03, -1.6550e-01,  1.6328e-02, -1.7263e-02,\n",
      "         -6.5771e-02, -2.7356e-01, -8.1632e-02, -1.8858e-01,  1.8794e-02,\n",
      "          6.2913e-02, -3.1127e-02,  8.8205e-02,  6.9275e-02,  2.3070e-01,\n",
      "          9.6687e-02, -1.7918e-01, -1.0727e-01, -6.8065e-02,  1.9970e-01,\n",
      "         -3.0735e-01,  8.9408e-02,  1.1891e-01, -3.5239e-03,  6.3969e-02,\n",
      "          3.7555e-02,  5.2974e-02,  3.5248e-03, -9.2859e-02, -2.2905e-02,\n",
      "         -1.7207e-01,  2.2921e-02,  7.5711e-02, -1.1265e-01,  6.9993e-02,\n",
      "         -5.0959e-02, -5.4984e-02, -1.0936e-01,  4.4040e-03,  2.7715e-02,\n",
      "          1.2177e-01, -1.2098e-01,  2.2990e-01,  8.4202e-02,  2.5811e-02,\n",
      "         -1.2852e-01,  9.6381e-02,  1.9057e-01,  1.2130e-01, -7.3815e-02,\n",
      "          4.2999e-03, -1.7477e-01, -9.3342e-03,  1.2230e-01,  1.1047e-01,\n",
      "          1.4577e-01,  7.3657e-03, -1.0200e-01, -4.1138e-02,  7.9391e-04,\n",
      "          3.1932e-01,  6.7072e-02, -1.0044e-01,  1.4363e-01,  9.4609e-02,\n",
      "         -2.7932e-02,  4.8377e-02, -1.6538e-01,  1.2356e-02, -5.1683e-02,\n",
      "         -1.0217e-01, -3.0630e-01,  4.3899e-02, -2.2737e-01, -1.2971e-01,\n",
      "         -5.4866e-02,  8.3810e-02,  3.8481e-01, -3.0001e-03, -8.2097e-02,\n",
      "          2.8676e-01,  1.1655e-01,  6.1775e-02,  1.8469e-01, -1.8915e-01,\n",
      "         -4.3561e-02,  1.2923e-01,  3.1374e-01,  2.7384e-02,  2.5438e-01,\n",
      "          4.8294e-01, -3.3356e-01, -1.9256e-01,  2.4992e-02,  3.6611e-01,\n",
      "         -3.0485e-01, -1.9986e-01, -1.1549e-02,  1.0809e-01,  8.0298e-02,\n",
      "          4.0225e-02,  4.7882e-01,  9.0533e-03, -4.6089e-03,  1.4534e-01,\n",
      "          3.3654e-02, -7.4376e-02, -1.5434e-01,  5.0158e-03, -2.8402e-02,\n",
      "          1.7175e-01, -1.7047e-01, -2.5784e-01, -1.2944e-01,  2.3826e-02,\n",
      "         -8.8852e-02,  2.7962e-02, -1.4458e-01, -8.4456e-02,  1.0639e-01,\n",
      "          1.0562e-01, -2.3902e-01,  5.6400e-02,  2.1843e-01, -3.3372e-02,\n",
      "         -3.9058e-02, -2.9326e-02, -1.3984e-01,  1.5387e-01,  1.1886e-02,\n",
      "         -8.4335e-02,  2.0144e-01, -1.2951e-01,  8.2449e-02,  2.3003e-02,\n",
      "         -1.2640e-01, -2.0921e-02,  4.3492e-03, -3.0180e-02,  2.0815e-02,\n",
      "         -1.1370e-01, -6.3506e-02,  4.2951e-01, -9.4801e-02,  2.6097e-01,\n",
      "         -2.2587e-02, -4.2152e-04,  1.7282e-02, -1.1012e-01,  6.8932e-02,\n",
      "          8.3367e-02,  5.0334e-02,  1.3992e-01, -1.3543e-01, -1.4809e-01,\n",
      "          1.9096e-02, -1.9267e-01,  1.0982e-01,  7.7601e-02,  9.3361e-02,\n",
      "         -1.6836e-02, -6.1567e-02, -2.6935e-02,  1.6985e-03, -1.8667e-02,\n",
      "          5.1492e-02,  1.1702e-03,  2.2215e-01,  1.3455e-01,  1.5634e-02,\n",
      "         -1.9239e-01, -2.1865e-02,  1.5123e-01, -3.2919e-01, -1.0115e-01,\n",
      "          2.8813e-01,  1.2441e-01,  4.4628e-02,  1.8695e-01, -1.5136e-01,\n",
      "         -2.5343e-01, -7.0494e-02, -2.4247e-01,  3.0451e-01, -9.4142e-02,\n",
      "          3.8601e-02,  2.7029e-01,  1.8345e-01, -1.1816e-01, -1.5557e-01,\n",
      "         -2.3697e-02,  2.1138e-01, -2.0149e-01,  2.4135e-02,  5.0722e-03,\n",
      "         -1.4179e-01, -1.1244e-02, -1.1736e-01,  2.8275e-02,  1.2570e-01,\n",
      "          4.1065e-01,  1.0101e-01,  3.3436e-01,  2.9850e-02, -5.1016e-02,\n",
      "         -3.2749e-02,  8.9342e-02,  1.6527e-02, -4.1801e-02, -7.7568e-02,\n",
      "          1.5698e-01,  5.7858e-03,  7.8807e-02,  1.4398e-01,  1.9492e-01,\n",
      "          7.5653e-02,  5.3720e-02,  7.9552e-02, -6.3258e-02, -1.9491e-02,\n",
      "          1.8246e-01, -1.5585e-01,  1.3096e-01,  1.0072e-01, -6.3946e-02,\n",
      "          5.6736e-02,  1.1775e-01, -1.3887e-01, -1.5615e-01,  2.1939e-01,\n",
      "          3.6319e-01, -1.9181e-01, -1.6220e-02, -1.3216e-01, -7.5819e-02,\n",
      "          2.1133e-01, -7.5475e-03, -3.5458e-02, -1.3786e-01,  1.3175e-01,\n",
      "          2.0545e-01, -1.8695e-02, -2.3182e-01, -5.7056e-02, -6.7611e-02,\n",
      "          5.8671e-02,  9.0921e-03, -1.5595e-02,  4.0154e-02,  8.8899e-02,\n",
      "         -9.7731e-02, -9.2665e-03,  4.0981e-01, -2.1599e-01, -2.1064e-01,\n",
      "         -1.5560e-01,  1.0022e-02, -2.8355e-01,  3.8075e-02, -2.4699e-01,\n",
      "          4.9096e-02,  1.7218e-01, -2.6195e-02, -8.9984e-02,  4.4423e-02,\n",
      "          5.3028e-02, -3.4294e-01,  5.5232e-02, -1.1844e-01,  1.0982e-01,\n",
      "          2.6363e-02,  3.2270e-01,  1.8792e-01,  1.5711e-02,  1.7766e-01,\n",
      "         -8.0573e-02, -1.8131e-01, -3.5143e-01, -6.5860e-02,  2.0069e-01,\n",
      "          7.8806e-03, -1.8122e-01,  1.1713e-01, -1.6341e-01,  4.6673e-02,\n",
      "         -1.7845e-02,  2.4092e-01,  1.3673e-01,  9.7025e-02, -4.1725e-02,\n",
      "          2.8469e-01,  8.7814e-02, -6.7318e-02,  6.1339e-02,  2.2300e-01,\n",
      "         -3.1353e-02, -1.9218e-01, -1.6883e-02,  7.8817e-02,  1.4280e-01,\n",
      "          3.1256e-01,  3.4514e-01, -1.9704e-01,  1.0854e-01,  3.6677e-01,\n",
      "         -1.5901e-01,  1.2677e-01,  1.0616e-03, -1.0257e-01, -1.9272e-01,\n",
      "         -1.2731e-01,  2.1579e-01, -1.6733e-01,  8.5876e-04, -3.0569e-01,\n",
      "         -2.2977e-01,  1.3619e-01, -3.9506e-01, -5.7123e-02, -6.5310e-02,\n",
      "         -1.5620e-01, -7.3841e-03, -3.2457e-01, -5.8498e-03, -1.8376e-01,\n",
      "         -7.0398e-02,  1.5248e-01,  8.6855e-02,  2.0789e-02,  9.7935e-02,\n",
      "         -7.9439e-02,  8.4454e-02,  4.7195e-02, -2.2899e-01, -3.0263e-01,\n",
      "          2.3854e-01,  1.6888e-01,  3.3292e-03,  8.0439e-04, -1.0687e-01,\n",
      "         -1.6195e-01,  1.8322e-01, -1.0012e-02, -1.1256e-01, -1.0917e-01,\n",
      "          1.0573e-01, -2.9669e-01,  4.1804e-02, -5.8234e-02, -1.9367e-01,\n",
      "          2.2629e-01,  1.6990e-01,  6.0337e-02, -1.2480e-01, -1.9216e-02,\n",
      "         -1.0518e-01, -1.7085e-01, -8.5428e-02, -1.2307e-01, -1.2151e-01,\n",
      "         -9.8466e-02, -6.3113e-02, -2.9990e-02, -8.5162e-02,  7.7063e-02,\n",
      "         -3.5155e-02, -1.0486e-01,  2.4672e-01, -1.0842e-01,  6.9050e-02,\n",
      "         -1.2195e-01, -3.0663e-02,  5.0670e-02,  7.4753e-02,  1.4893e-01,\n",
      "         -1.2224e-01,  2.1768e-02,  3.8149e-02,  6.3537e-02,  1.0735e-01,\n",
      "          2.8079e-01, -1.9625e-01, -1.8501e-01, -2.5161e-02,  1.3384e-01,\n",
      "         -2.3715e-02, -9.0266e-02,  1.4788e-01,  3.2943e-01, -1.5319e-01,\n",
      "          3.5055e-01, -1.6915e-01,  2.1629e-02,  1.5651e-02,  9.4500e-02,\n",
      "         -2.0692e-02,  1.2427e-01, -2.6651e-01,  4.2800e-02, -1.1154e-01,\n",
      "         -1.0677e-01,  3.0614e-01,  2.5841e-02, -4.7271e-02,  1.1909e-01,\n",
      "          3.1537e-01,  1.5645e-02,  5.1832e-02,  3.4202e-01, -3.6164e-03,\n",
      "         -2.0897e-01, -1.5766e-01,  2.2896e-02,  5.5863e-02,  1.4205e-01,\n",
      "         -3.1785e-01, -1.0321e-01,  5.0884e-02,  9.2205e-02, -6.4859e-02,\n",
      "          4.8727e-02, -2.2796e-01,  5.2753e-02,  2.3754e-02,  2.0876e-01,\n",
      "         -2.9840e-01,  1.0410e-01, -1.0024e-01,  1.2603e-02,  2.2270e-01,\n",
      "          1.2074e-01,  2.5739e-01,  1.5883e-01,  5.5657e-02,  2.4386e-01,\n",
      "          2.1736e-01, -1.0331e-01, -2.8234e-01,  4.8723e-01,  5.2213e-02,\n",
      "         -6.4809e-02,  3.5296e-01, -3.1206e-02,  2.4018e-01,  3.9115e-02,\n",
      "         -1.2961e-01, -5.8113e-02, -4.6108e-02, -7.2557e-02, -1.4643e-01,\n",
      "          7.5987e-03,  1.0431e-01, -1.2200e-02,  5.7854e-02,  4.1255e-04,\n",
      "          2.4445e-01, -1.6680e-02, -1.6117e-01,  9.0138e-02, -1.1632e-01,\n",
      "          1.5553e-01,  1.4739e-01, -4.5907e-01, -2.4750e-01,  5.2183e-01,\n",
      "         -8.3166e-03, -2.8055e-01, -1.3715e-01,  7.0206e-03, -8.7461e-02,\n",
      "         -1.3006e-01,  1.0123e-01, -1.2719e-01,  3.3798e-01,  8.9708e-02,\n",
      "          8.8401e-03, -2.8648e-02,  2.7709e-01,  5.3493e-03,  3.5180e-01,\n",
      "         -1.0375e-01,  2.1325e-01,  8.8970e-03, -4.9820e-02,  1.5753e-01,\n",
      "          1.1059e-01, -3.5468e-01,  4.7103e-02, -3.4316e-01, -1.6863e-01,\n",
      "          2.8862e-01,  3.4151e-01,  1.2630e-01, -1.7514e-01,  1.0992e-01]],\n",
      "       device='cuda:0', grad_fn=<AddmmBackward0>)\n"
     ]
    }
   ],
   "source": [
    "# Equates to one random 28x28 image\n",
    "result = model(torch.rand((1, 3, 128, 128)).to('cuda'))\n",
    "print (result)"
   ]
  },
  {
   "cell_type": "markdown",
   "metadata": {
    "id": "9768a677"
   },
   "source": [
    "## 학습 및 평가\n",
    "<hr style=\"height:3px;border:none;color:#5F71F7;background-color:#203E60;\" />"
   ]
  },
  {
   "cell_type": "code",
   "execution_count": 239,
   "metadata": {
    "ExecuteTime": {
     "end_time": "2021-11-18T06:43:37.981981Z",
     "start_time": "2021-11-18T06:43:37.978267Z"
    },
    "id": "0f2e3d37"
   },
   "outputs": [],
   "source": [
    "optimizer = optim.Adam(model.parameters(), lr=1e-4, weight_decay=1e-3)\n",
    "\n",
    "scheduler = optim.lr_scheduler.LambdaLR(optimizer=optimizer,\n",
    "                                        lr_lambda=lambda epoch: 0.95 ** epoch,\n",
    "                                        last_epoch=-1,\n",
    "                                        verbose=False)\n",
    "\n",
    "loss_fn = nn.CrossEntropyLoss()"
   ]
  },
  {
   "cell_type": "code",
   "execution_count": 240,
   "metadata": {
    "ExecuteTime": {
     "end_time": "2021-11-18T06:43:37.996034Z",
     "start_time": "2021-11-18T06:43:37.983929Z"
    },
    "id": "d691ff6d"
   },
   "outputs": [],
   "source": [
    "import datetime"
   ]
  },
  {
   "cell_type": "code",
   "execution_count": 250,
   "metadata": {
    "ExecuteTime": {
     "end_time": "2021-11-18T06:45:08.299440Z",
     "start_time": "2021-11-18T06:43:37.998127Z"
    },
    "colab": {
     "base_uri": "https://localhost:8080/"
    },
    "id": "43e7fd46",
    "outputId": "3709f5c0-74a5-4a07-d693-455333b75c4a"
   },
   "outputs": [
    {
     "name": "stdout",
     "output_type": "stream",
     "text": [
      "[00:00:11] Epoch  1     Train Loss: 0.6957 Train Acc: 0.7812     Valid Loss: 0.0029 Valid Acc: 0.2500\n",
      "[00:00:22] Epoch  2     Train Loss: 0.6605 Train Acc: 0.8057     Valid Loss: 0.0050 Valid Acc: 0.2500\n",
      "[00:00:34] Epoch  3     Train Loss: 0.5946 Train Acc: 0.8207     Valid Loss: 0.0226 Valid Acc: 0.2500\n",
      "[00:00:46] Epoch  4     Train Loss: 0.6694 Train Acc: 0.8166     Valid Loss: 0.0024 Valid Acc: 0.2500\n",
      "[00:00:57] Epoch  5     Train Loss: 0.5512 Train Acc: 0.8315     Valid Loss: 0.0005 Valid Acc: 0.2500\n",
      "[00:01:09] Epoch  6     Train Loss: 0.5518 Train Acc: 0.8383     Valid Loss: 0.0044 Valid Acc: 0.2500\n",
      "[00:01:20] Epoch  7     Train Loss: 0.5092 Train Acc: 0.8451     Valid Loss: 0.0051 Valid Acc: 0.2500\n",
      "[00:01:31] Epoch  8     Train Loss: 0.5577 Train Acc: 0.8533     Valid Loss: 0.0095 Valid Acc: 0.2500\n",
      "[00:01:43] Epoch  9     Train Loss: 0.5794 Train Acc: 0.8315     Valid Loss: 0.0001 Valid Acc: 0.2500\n",
      "[00:01:54] Epoch 10     Train Loss: 0.4985 Train Acc: 0.8478     Valid Loss: 0.0001 Valid Acc: 0.2500\n",
      "[00:02:05] Epoch 11     Train Loss: 0.4671 Train Acc: 0.8560     Valid Loss: 0.0095 Valid Acc: 0.2500\n",
      "[00:02:17] Epoch 12     Train Loss: 0.5248 Train Acc: 0.8438     Valid Loss: 0.0135 Valid Acc: 0.2500\n",
      "[00:02:28] Epoch 13     Train Loss: 0.4922 Train Acc: 0.8546     Valid Loss: 0.0668 Valid Acc: 0.2500\n",
      "[00:02:40] Epoch 14     Train Loss: 0.4055 Train Acc: 0.8709     Valid Loss: 0.0131 Valid Acc: 0.2500\n",
      "[00:02:51] Epoch 15     Train Loss: 0.4366 Train Acc: 0.8750     Valid Loss: 0.0032 Valid Acc: 0.2500\n",
      "[00:03:02] Epoch 16     Train Loss: 0.4259 Train Acc: 0.8655     Valid Loss: 0.0008 Valid Acc: 0.2500\n",
      "[00:03:14] Epoch 17     Train Loss: 0.4067 Train Acc: 0.8655     Valid Loss: 0.0015 Valid Acc: 0.2500\n",
      "[00:03:25] Epoch 18     Train Loss: 0.3853 Train Acc: 0.8954     Valid Loss: 0.0008 Valid Acc: 0.2500\n",
      "[00:03:37] Epoch 19     Train Loss: 0.4163 Train Acc: 0.8954     Valid Loss: 0.0011 Valid Acc: 0.2500\n",
      "[00:03:48] Epoch 20     Train Loss: 0.3456 Train Acc: 0.9062     Valid Loss: 0.0011 Valid Acc: 0.2500\n",
      "[00:04:00] Epoch 21     Train Loss: 0.3760 Train Acc: 0.8872     Valid Loss: 0.0035 Valid Acc: 0.2500\n",
      "[00:04:11] Epoch 22     Train Loss: 0.3884 Train Acc: 0.8913     Valid Loss: 0.0006 Valid Acc: 0.2500\n",
      "[00:04:22] Epoch 23     Train Loss: 0.3687 Train Acc: 0.8940     Valid Loss: 0.0077 Valid Acc: 0.2500\n",
      "[00:04:34] Epoch 24     Train Loss: 0.3777 Train Acc: 0.8845     Valid Loss: 0.0026 Valid Acc: 0.2500\n",
      "[00:04:45] Epoch 25     Train Loss: 0.4452 Train Acc: 0.8682     Valid Loss: 0.0022 Valid Acc: 0.2500\n",
      "[00:04:56] Epoch 26     Train Loss: 0.3376 Train Acc: 0.8940     Valid Loss: 0.0006 Valid Acc: 0.2500\n",
      "[00:05:08] Epoch 27     Train Loss: 0.3585 Train Acc: 0.8981     Valid Loss: 0.0698 Valid Acc: 0.2500\n",
      "[00:05:19] Epoch 28     Train Loss: 0.3368 Train Acc: 0.8940     Valid Loss: 0.0012 Valid Acc: 0.2500\n",
      "[00:05:31] Epoch 29     Train Loss: 0.3275 Train Acc: 0.8954     Valid Loss: 0.0051 Valid Acc: 0.2500\n",
      "[00:05:42] Epoch 30     Train Loss: 0.2977 Train Acc: 0.9253     Valid Loss: 0.0107 Valid Acc: 0.2500\n"
     ]
    }
   ],
   "source": [
    "epochs = 30\n",
    "train_losses = []\n",
    "train_acces = []\n",
    "valid_losses = []\n",
    "valid_acces = []\n",
    "\n",
    "start_time = time.time()\n",
    "\n",
    "for epoch in range(epochs):\n",
    "    \n",
    "    #########\n",
    "    # Train #\n",
    "    #########\n",
    "    model.train()\n",
    "    train_loss = 0\n",
    "    train_acc = 0\n",
    "    for i, (images, targets) in enumerate(train_dataloader):\n",
    "        images = images.to('cuda')\n",
    "        targets = targets.to('cuda')\n",
    "\n",
    "        scores = model(images)\n",
    "        _, preds = scores.max(dim=1)\n",
    "        loss = loss_fn(scores, targets)\n",
    "\n",
    "        train_loss += loss\n",
    "        train_acc += (targets == preds).sum() / batch_size\n",
    "        \n",
    "        optimizer.zero_grad()\n",
    "        loss.backward()\n",
    "        optimizer.step()\n",
    "        \n",
    "    ##############\n",
    "    # Validation #\n",
    "    ##############\n",
    "    model.eval()\n",
    "    valid_loss = 0\n",
    "    valid_acc = 0\n",
    "    with torch.no_grad():\n",
    "        for i, (images, targets) in enumerate(valid_dataloader):\n",
    "            images = images.to('cuda')\n",
    "            targets = targets.to('cuda')\n",
    "\n",
    "            scores = model(images)\n",
    "            _, preds = scores.max(dim=1)\n",
    "\n",
    "            valid_loss += loss_fn(scores, targets)\n",
    "            valid_acc += (targets == preds).sum() / batch_size\n",
    "            \n",
    "    #######\n",
    "    # Log #\n",
    "    #######\n",
    "    train_losses.append(train_loss.detach().cpu().numpy() / len(train_dataloader))\n",
    "    train_acces.append(train_acc.detach().cpu().numpy() / len(train_dataloader))\n",
    "    valid_losses.append(valid_loss.detach().cpu().numpy() / len(valid_dataloader))\n",
    "    valid_acces.append(valid_acc.detach().cpu().numpy() / len(valid_dataloader))\n",
    "        \n",
    "\n",
    "    elapsed_time = time.time() - start_time\n",
    "        \n",
    "    print(f\"[{time.strftime('%H:%M:%S', time.gmtime(elapsed_time))}] Epoch {epoch+1:2d} \\\n",
    "    Train Loss: {train_losses[-1]:6.4f} Train Acc: {train_acces[-1]:6.4f} \\\n",
    "    Valid Loss: {valid_losses[-1]:6.4f} Valid Acc: {valid_acces[-1]:6.4f}\")"
   ]
  },
  {
   "cell_type": "code",
   "execution_count": 251,
   "metadata": {
    "ExecuteTime": {
     "end_time": "2021-11-18T06:45:08.624965Z",
     "start_time": "2021-11-18T06:45:08.301762Z"
    },
    "colab": {
     "base_uri": "https://localhost:8080/",
     "height": 441
    },
    "id": "c360ea05",
    "outputId": "758a7b68-9b59-4ca4-f9fb-18fbef296061"
   },
   "outputs": [
    {
     "data": {
      "image/png": "[encoded data removed]",
      "text/plain": [
       "<Figure size 1152x432 with 2 Axes>"
      ]
     },
     "metadata": {},
     "output_type": "display_data"
    }
   ],
   "source": [
    "plt.figure(figsize=(16,6))\n",
    "\n",
    "plt.subplot(1,2,1)\n",
    "plt.plot(train_losses)\n",
    "plt.plot(valid_losses)\n",
    "plt.title('Loss')\n",
    "plt.legend(['Train','Valid'])\n",
    "plt.grid(True)\n",
    "\n",
    "plt.subplot(1,2,2)\n",
    "plt.plot(train_acces)\n",
    "plt.plot(valid_acces)\n",
    "plt.title('Accuracy')\n",
    "plt.legend(['Train','Valid'])\n",
    "plt.grid(True)\n",
    "\n",
    "plt.tight_layout()\n",
    "plt.show()"
   ]
  },
  {
   "cell_type": "markdown",
   "metadata": {
    "id": "d5a6a76a"
   },
   "source": [
    "## 결과 제출하기\n",
    "<hr style=\"height:3px;border:none;color:#5F71F7;background-color:#203E60;\" />"
   ]
  },
  {
   "cell_type": "code",
   "execution_count": 90,
   "metadata": {
    "ExecuteTime": {
     "end_time": "2021-11-18T06:45:08.629135Z",
     "start_time": "2021-11-18T06:45:08.626399Z"
    },
    "id": "84db66e6"
   },
   "outputs": [],
   "source": [
    "# transforms_test = transforms.Compose([\n",
    "#     transforms.Resize(128),\n",
    "#     transforms.ToTensor(),\n",
    "# ])"
   ]
  },
  {
   "cell_type": "code",
   "execution_count": 242,
   "metadata": {
    "id": "_FXBf78PJYXh"
   },
   "outputs": [],
   "source": [
    "transforms_test = transforms.Compose([\n",
    "    transforms.Resize(256),\n",
    "    transforms.RandomCrop(224),\n",
    "    transforms.ToTensor(),\n",
    "    transforms.Normalize((0.485, 0.456, 0.406), (0.229, 0.224, 0.225))\n",
    "])"
   ]
  },
  {
   "cell_type": "code",
   "execution_count": null,
   "metadata": {
    "id": "Cg57V7jX_keE"
   },
   "outputs": [],
   "source": [
    "# transforms_valid = transforms.Compose([\n",
    "#     transforms.Resize(128),\n",
    "#     transforms.ToTensor(),\n",
    "# ])"
   ]
  },
  {
   "cell_type": "code",
   "execution_count": 243,
   "metadata": {
    "ExecuteTime": {
     "end_time": "2021-11-18T06:45:08.642989Z",
     "start_time": "2021-11-18T06:45:08.632210Z"
    },
    "id": "4233f3ce"
   },
   "outputs": [],
   "source": [
    "test_dataset = LandmarksDataset(data=test, transforms=transforms_test)"
   ]
  },
  {
   "cell_type": "code",
   "execution_count": 244,
   "metadata": {
    "ExecuteTime": {
     "end_time": "2021-11-18T06:45:08.656584Z",
     "start_time": "2021-11-18T06:45:08.645184Z"
    },
    "colab": {
     "base_uri": "https://localhost:8080/"
    },
    "id": "746bde7e",
    "outputId": "e6a5fb0d-f517-40a7-d427-a05eca6f646e"
   },
   "outputs": [
    {
     "name": "stderr",
     "output_type": "stream",
     "text": [
      "/usr/local/lib/python3.7/dist-packages/torch/utils/data/dataloader.py:481: UserWarning: This DataLoader will create 8 worker processes in total. Our suggested max number of worker in current system is 4, which is smaller than what this DataLoader is going to create. Please be aware that excessive worker creation might get DataLoader running slow or even freeze, lower the worker number to avoid potential slowness/freeze if necessary.\n",
      "  cpuset_checked))\n"
     ]
    }
   ],
   "source": [
    "test_dataloader = DataLoader(\n",
    "    test_dataset, batch_size=1, shuffle=False, num_workers=8)"
   ]
  },
  {
   "cell_type": "code",
   "execution_count": 245,
   "metadata": {
    "ExecuteTime": {
     "end_time": "2021-11-18T06:45:10.920056Z",
     "start_time": "2021-11-18T06:45:08.658894Z"
    },
    "colab": {
     "base_uri": "https://localhost:8080/",
     "height": 49,
     "referenced_widgets": [
      "6dc7aa3bfd444c489f4e3a7470bc8fce",
      "de31c3d6469140e48dc64f5ed5c1fe9a",
      "156e084f52224f44ac44d4cee8089407",
      "786cb047bad2428f99d8ba5d41ef2379",
      "9a8a46f41ac34a6f9e71e92522b0a3f7",
      "704651d580ef42c493330be0eedd5013",
      "04169e564d074d7892af6e5da988c38d",
      "a0f798fc24f24f6eb724cd6f2388fc83",
      "cee1bc48a20f47c5a50f33c478792e38",
      "25c9375dade047d68b5c5ff58c0400c9",
      "209ea5eb86cf46c0b780e0df8375490f"
     ]
    },
    "id": "7a85d7e5",
    "outputId": "fc37a48c-a4d1-4f60-b23c-6d6f97a6609f"
   },
   "outputs": [
    {
     "data": {
      "application/vnd.jupyter.widget-view+json": {
       "model_id": "6dc7aa3bfd444c489f4e3a7470bc8fce",
       "version_major": 2,
       "version_minor": 0
      },
      "text/plain": [
       "0it [00:00, ?it/s]"
      ]
     },
     "metadata": {},
     "output_type": "display_data"
    }
   ],
   "source": [
    "model.eval()\n",
    "preds = []\n",
    "with torch.no_grad():\n",
    "    for i, (images, targets) in tqdm(enumerate(test_dataset)):\n",
    "        images = images.to('cuda')\n",
    "        scores = model(images.unsqueeze(0))\n",
    "        _, pred = scores.max(dim=1)\n",
    "        \n",
    "        preds.append(pred.item())"
   ]
  },
  {
   "cell_type": "code",
   "execution_count": 246,
   "metadata": {
    "ExecuteTime": {
     "end_time": "2021-11-18T06:45:10.925070Z",
     "start_time": "2021-11-18T06:45:10.921890Z"
    },
    "id": "7847b941"
   },
   "outputs": [],
   "source": [
    "submission['class'] = preds"
   ]
  },
  {
   "cell_type": "code",
   "execution_count": 247,
   "metadata": {
    "ExecuteTime": {
     "end_time": "2021-11-18T06:45:10.945882Z",
     "start_time": "2021-11-18T06:45:10.926819Z"
    },
    "colab": {
     "base_uri": "https://localhost:8080/",
     "height": 424
    },
    "id": "645746a1",
    "outputId": "574d8779-cc46-4d5c-efed-891d1d5316ac"
   },
   "outputs": [
    {
     "data": {
      "text/html": [
       "<div>\n",
       "<style scoped>\n",
       "    .dataframe tbody tr th:only-of-type {\n",
       "        vertical-align: middle;\n",
       "    }\n",
       "\n",
       "    .dataframe tbody tr th {\n",
       "        vertical-align: top;\n",
       "    }\n",
       "\n",
       "    .dataframe thead th {\n",
       "        text-align: right;\n",
       "    }\n",
       "</style>\n",
       "<table border=\"1\" class=\"dataframe\">\n",
       "  <thead>\n",
       "    <tr style=\"text-align: right;\">\n",
       "      <th></th>\n",
       "      <th>path</th>\n",
       "      <th>class</th>\n",
       "    </tr>\n",
       "  </thead>\n",
       "  <tbody>\n",
       "    <tr>\n",
       "      <th>0</th>\n",
       "      <td>./data/test/258YQ4X7F7.jpg</td>\n",
       "      <td>7</td>\n",
       "    </tr>\n",
       "    <tr>\n",
       "      <th>1</th>\n",
       "      <td>./data/test/WETTACUP8N.jpg</td>\n",
       "      <td>9</td>\n",
       "    </tr>\n",
       "    <tr>\n",
       "      <th>2</th>\n",
       "      <td>./data/test/ZKU5T5ECEE.jpg</td>\n",
       "      <td>4</td>\n",
       "    </tr>\n",
       "    <tr>\n",
       "      <th>3</th>\n",
       "      <td>./data/test/R105VOAVXA.jpg</td>\n",
       "      <td>9</td>\n",
       "    </tr>\n",
       "    <tr>\n",
       "      <th>4</th>\n",
       "      <td>./data/test/ZJSO03ZXTO.jpg</td>\n",
       "      <td>0</td>\n",
       "    </tr>\n",
       "    <tr>\n",
       "      <th>...</th>\n",
       "      <td>...</td>\n",
       "      <td>...</td>\n",
       "    </tr>\n",
       "    <tr>\n",
       "      <th>179</th>\n",
       "      <td>./data/test/3BQWFYQT54.jpg</td>\n",
       "      <td>1</td>\n",
       "    </tr>\n",
       "    <tr>\n",
       "      <th>180</th>\n",
       "      <td>./data/test/899NFYC3TN.jpg</td>\n",
       "      <td>6</td>\n",
       "    </tr>\n",
       "    <tr>\n",
       "      <th>181</th>\n",
       "      <td>./data/test/ZRO60FUB4V.jpg</td>\n",
       "      <td>7</td>\n",
       "    </tr>\n",
       "    <tr>\n",
       "      <th>182</th>\n",
       "      <td>./data/test/0MULBS2ZLZ.jpg</td>\n",
       "      <td>7</td>\n",
       "    </tr>\n",
       "    <tr>\n",
       "      <th>183</th>\n",
       "      <td>./data/test/OLJL5984TQ.jpg</td>\n",
       "      <td>8</td>\n",
       "    </tr>\n",
       "  </tbody>\n",
       "</table>\n",
       "<p>184 rows × 2 columns</p>\n",
       "</div>"
      ],
      "text/plain": [
       "                           path  class\n",
       "0    ./data/test/258YQ4X7F7.jpg      7\n",
       "1    ./data/test/WETTACUP8N.jpg      9\n",
       "2    ./data/test/ZKU5T5ECEE.jpg      4\n",
       "3    ./data/test/R105VOAVXA.jpg      9\n",
       "4    ./data/test/ZJSO03ZXTO.jpg      0\n",
       "..                          ...    ...\n",
       "179  ./data/test/3BQWFYQT54.jpg      1\n",
       "180  ./data/test/899NFYC3TN.jpg      6\n",
       "181  ./data/test/ZRO60FUB4V.jpg      7\n",
       "182  ./data/test/0MULBS2ZLZ.jpg      7\n",
       "183  ./data/test/OLJL5984TQ.jpg      8\n",
       "\n",
       "[184 rows x 2 columns]"
      ]
     },
     "execution_count": 247,
     "metadata": {},
     "output_type": "execute_result"
    }
   ],
   "source": [
    "submission"
   ]
  },
  {
   "cell_type": "code",
   "execution_count": 248,
   "metadata": {
    "ExecuteTime": {
     "end_time": "2021-11-18T06:45:11.097021Z",
     "start_time": "2021-11-18T06:45:10.947716Z"
    },
    "colab": {
     "base_uri": "https://localhost:8080/",
     "height": 455
    },
    "id": "34198b5d",
    "outputId": "2892070f-2ac4-43f9-b1fe-673d2fb0bca4"
   },
   "outputs": [
    {
     "name": "stderr",
     "output_type": "stream",
     "text": [
      "/usr/local/lib/python3.7/dist-packages/matplotlib/backends/backend_agg.py:214: RuntimeWarning: Glyph 44221 missing from current font.\n",
      "  font.set_text(s, 0.0, flags=flags)\n",
      "/usr/local/lib/python3.7/dist-packages/matplotlib/backends/backend_agg.py:214: RuntimeWarning: Glyph 48373 missing from current font.\n",
      "  font.set_text(s, 0.0, flags=flags)\n",
      "/usr/local/lib/python3.7/dist-packages/matplotlib/backends/backend_agg.py:214: RuntimeWarning: Glyph 44417 missing from current font.\n",
      "  font.set_text(s, 0.0, flags=flags)\n",
      "/usr/local/lib/python3.7/dist-packages/matplotlib/backends/backend_agg.py:183: RuntimeWarning: Glyph 44221 missing from current font.\n",
      "  font.set_text(s, 0, flags=flags)\n",
      "/usr/local/lib/python3.7/dist-packages/matplotlib/backends/backend_agg.py:183: RuntimeWarning: Glyph 48373 missing from current font.\n",
      "  font.set_text(s, 0, flags=flags)\n",
      "/usr/local/lib/python3.7/dist-packages/matplotlib/backends/backend_agg.py:183: RuntimeWarning: Glyph 44417 missing from current font.\n",
      "  font.set_text(s, 0, flags=flags)\n"
     ]
    },
    {
     "data": {
      "image/png": "[encoded data removed]",
      "text/plain": [
       "<Figure size 432x288 with 1 Axes>"
      ]
     },
     "metadata": {},
     "output_type": "display_data"
    }
   ],
   "source": [
    "test_path, pred = submission.sample(1).values[0]\n",
    "plt.imshow(plt.imread(test_path))\n",
    "plt.title(landmarks_class[pred])\n",
    "plt.axis('off')\n",
    "plt.show()"
   ]
  },
  {
   "cell_type": "code",
   "execution_count": 249,
   "metadata": {
    "ExecuteTime": {
     "end_time": "2021-11-18T06:45:11.104298Z",
     "start_time": "2021-11-18T06:45:11.098702Z"
    },
    "id": "bd5825ae"
   },
   "outputs": [],
   "source": [
    "submission.to_csv('./data/submission4.csv', encoding='utf8', index=None)"
   ]
  },
  {
   "cell_type": "markdown",
   "metadata": {
    "id": "9147af54"
   },
   "source": [
    "## 참고자료\n",
    "<hr style=\"height:3px;border:none;color:#5F71F7;background-color:#203E60;\" />"
   ]
  },
  {
   "cell_type": "markdown",
   "metadata": {
    "id": "c1e9f8a7"
   },
   "source": [
    "-"
   ]
  }
 ],
 "metadata": {
  "accelerator": "GPU",
  "colab": {
   "collapsed_sections": [],
   "machine_shape": "hm",
   "name": "2021년 데이터 크리에이티브 캠프 - 본선 A팀 (21.11.20).ipynb",
   "provenance": []
  },
  "kernelspec": {
   "display_name": "Python 3",
   "language": "python",
   "name": "python3"
  },
  "language_info": {
   "codemirror_mode": {
    "name": "ipython",
    "version": 3
   },
   "file_extension": ".py",
   "mimetype": "text/x-python",
   "name": "python",
   "nbconvert_exporter": "python",
   "pygments_lexer": "ipython3",
   "version": "3.9.0"
  },
  "toc": {
   "base_numbering": 1,
   "nav_menu": {},
   "number_sections": true,
   "sideBar": true,
   "skip_h1_title": true,
   "title_cell": "Table of Contents",
   "title_sidebar": "Contents",
   "toc_cell": true,
   "toc_position": {},
   "toc_section_display": true,
   "toc_window_display": true
  },
  "widgets": {
   "application/vnd.jupyter.widget-state+json": {
    "04169e564d074d7892af6e5da988c38d": {
     "model_module": "@jupyter-widgets/base",
     "model_module_version": "1.2.0",
     "model_name": "LayoutModel",
     "state": {
      "_model_module": "@jupyter-widgets/base",
      "_model_module_version": "1.2.0",
      "_model_name": "LayoutModel",
      "_view_count": null,
      "_view_module": "@jupyter-widgets/base",
      "_view_module_version": "1.2.0",
      "_view_name": "LayoutView",
      "align_content": null,
      "align_items": null,
      "align_self": null,
      "border": null,
      "bottom": null,
      "display": null,
      "flex": null,
      "flex_flow": null,
      "grid_area": null,
      "grid_auto_columns": null,
      "grid_auto_flow": null,
      "grid_auto_rows": null,
      "grid_column": null,
      "grid_gap": null,
      "grid_row": null,
      "grid_template_areas": null,
      "grid_template_columns": null,
      "grid_template_rows": null,
      "height": null,
      "justify_content": null,
      "justify_items": null,
      "left": null,
      "margin": null,
      "max_height": null,
      "max_width": null,
      "min_height": null,
      "min_width": null,
      "object_fit": null,
      "object_position": null,
      "order": null,
      "overflow": null,
      "overflow_x": null,
      "overflow_y": null,
      "padding": null,
      "right": null,
      "top": null,
      "visibility": null,
      "width": null
     }
    },
    "156e084f52224f44ac44d4cee8089407": {
     "model_module": "@jupyter-widgets/controls",
     "model_module_version": "1.5.0",
     "model_name": "HTMLModel",
     "state": {
      "_dom_classes": [],
      "_model_module": "@jupyter-widgets/controls",
      "_model_module_version": "1.5.0",
      "_model_name": "HTMLModel",
      "_view_count": null,
      "_view_module": "@jupyter-widgets/controls",
      "_view_module_version": "1.5.0",
      "_view_name": "HTMLView",
      "description": "",
      "description_tooltip": null,
      "layout": "IPY_MODEL_04169e564d074d7892af6e5da988c38d",
      "placeholder": "​",
      "style": "IPY_MODEL_704651d580ef42c493330be0eedd5013",
      "value": ""
     }
    },
    "209ea5eb86cf46c0b780e0df8375490f": {
     "model_module": "@jupyter-widgets/base",
     "model_module_version": "1.2.0",
     "model_name": "LayoutModel",
     "state": {
      "_model_module": "@jupyter-widgets/base",
      "_model_module_version": "1.2.0",
      "_model_name": "LayoutModel",
      "_view_count": null,
      "_view_module": "@jupyter-widgets/base",
      "_view_module_version": "1.2.0",
      "_view_name": "LayoutView",
      "align_content": null,
      "align_items": null,
      "align_self": null,
      "border": null,
      "bottom": null,
      "display": null,
      "flex": null,
      "flex_flow": null,
      "grid_area": null,
      "grid_auto_columns": null,
      "grid_auto_flow": null,
      "grid_auto_rows": null,
      "grid_column": null,
      "grid_gap": null,
      "grid_row": null,
      "grid_template_areas": null,
      "grid_template_columns": null,
      "grid_template_rows": null,
      "height": null,
      "justify_content": null,
      "justify_items": null,
      "left": null,
      "margin": null,
      "max_height": null,
      "max_width": null,
      "min_height": null,
      "min_width": null,
      "object_fit": null,
      "object_position": null,
      "order": null,
      "overflow": null,
      "overflow_x": null,
      "overflow_y": null,
      "padding": null,
      "right": null,
      "top": null,
      "visibility": null,
      "width": null
     }
    },
    "25c9375dade047d68b5c5ff58c0400c9": {
     "model_module": "@jupyter-widgets/controls",
     "model_module_version": "1.5.0",
     "model_name": "DescriptionStyleModel",
     "state": {
      "_model_module": "@jupyter-widgets/controls",
      "_model_module_version": "1.5.0",
      "_model_name": "DescriptionStyleModel",
      "_view_count": null,
      "_view_module": "@jupyter-widgets/base",
      "_view_module_version": "1.2.0",
      "_view_name": "StyleView",
      "description_width": ""
     }
    },
    "6dc7aa3bfd444c489f4e3a7470bc8fce": {
     "model_module": "@jupyter-widgets/controls",
     "model_module_version": "1.5.0",
     "model_name": "HBoxModel",
     "state": {
      "_dom_classes": [],
      "_model_module": "@jupyter-widgets/controls",
      "_model_module_version": "1.5.0",
      "_model_name": "HBoxModel",
      "_view_count": null,
      "_view_module": "@jupyter-widgets/controls",
      "_view_module_version": "1.5.0",
      "_view_name": "HBoxView",
      "box_style": "",
      "children": [
       "IPY_MODEL_156e084f52224f44ac44d4cee8089407",
       "IPY_MODEL_786cb047bad2428f99d8ba5d41ef2379",
       "IPY_MODEL_9a8a46f41ac34a6f9e71e92522b0a3f7"
      ],
      "layout": "IPY_MODEL_de31c3d6469140e48dc64f5ed5c1fe9a"
     }
    },
    "704651d580ef42c493330be0eedd5013": {
     "model_module": "@jupyter-widgets/controls",
     "model_module_version": "1.5.0",
     "model_name": "DescriptionStyleModel",
     "state": {
      "_model_module": "@jupyter-widgets/controls",
      "_model_module_version": "1.5.0",
      "_model_name": "DescriptionStyleModel",
      "_view_count": null,
      "_view_module": "@jupyter-widgets/base",
      "_view_module_version": "1.2.0",
      "_view_name": "StyleView",
      "description_width": ""
     }
    },
    "786cb047bad2428f99d8ba5d41ef2379": {
     "model_module": "@jupyter-widgets/controls",
     "model_module_version": "1.5.0",
     "model_name": "FloatProgressModel",
     "state": {
      "_dom_classes": [],
      "_model_module": "@jupyter-widgets/controls",
      "_model_module_version": "1.5.0",
      "_model_name": "FloatProgressModel",
      "_view_count": null,
      "_view_module": "@jupyter-widgets/controls",
      "_view_module_version": "1.5.0",
      "_view_name": "ProgressView",
      "bar_style": "success",
      "description": "",
      "description_tooltip": null,
      "layout": "IPY_MODEL_cee1bc48a20f47c5a50f33c478792e38",
      "max": 1,
      "min": 0,
      "orientation": "horizontal",
      "style": "IPY_MODEL_a0f798fc24f24f6eb724cd6f2388fc83",
      "value": 1
     }
    },
    "9a8a46f41ac34a6f9e71e92522b0a3f7": {
     "model_module": "@jupyter-widgets/controls",
     "model_module_version": "1.5.0",
     "model_name": "HTMLModel",
     "state": {
      "_dom_classes": [],
      "_model_module": "@jupyter-widgets/controls",
      "_model_module_version": "1.5.0",
      "_model_name": "HTMLModel",
      "_view_count": null,
      "_view_module": "@jupyter-widgets/controls",
      "_view_module_version": "1.5.0",
      "_view_name": "HTMLView",
      "description": "",
      "description_tooltip": null,
      "layout": "IPY_MODEL_209ea5eb86cf46c0b780e0df8375490f",
      "placeholder": "​",
      "style": "IPY_MODEL_25c9375dade047d68b5c5ff58c0400c9",
      "value": " 184/? [00:04&lt;00:00, 37.13it/s]"
     }
    },
    "a0f798fc24f24f6eb724cd6f2388fc83": {
     "model_module": "@jupyter-widgets/controls",
     "model_module_version": "1.5.0",
     "model_name": "ProgressStyleModel",
     "state": {
      "_model_module": "@jupyter-widgets/controls",
      "_model_module_version": "1.5.0",
      "_model_name": "ProgressStyleModel",
      "_view_count": null,
      "_view_module": "@jupyter-widgets/base",
      "_view_module_version": "1.2.0",
      "_view_name": "StyleView",
      "bar_color": null,
      "description_width": ""
     }
    },
    "cee1bc48a20f47c5a50f33c478792e38": {
     "model_module": "@jupyter-widgets/base",
     "model_module_version": "1.2.0",
     "model_name": "LayoutModel",
     "state": {
      "_model_module": "@jupyter-widgets/base",
      "_model_module_version": "1.2.0",
      "_model_name": "LayoutModel",
      "_view_count": null,
      "_view_module": "@jupyter-widgets/base",
      "_view_module_version": "1.2.0",
      "_view_name": "LayoutView",
      "align_content": null,
      "align_items": null,
      "align_self": null,
      "border": null,
      "bottom": null,
      "display": null,
      "flex": null,
      "flex_flow": null,
      "grid_area": null,
      "grid_auto_columns": null,
      "grid_auto_flow": null,
      "grid_auto_rows": null,
      "grid_column": null,
      "grid_gap": null,
      "grid_row": null,
      "grid_template_areas": null,
      "grid_template_columns": null,
      "grid_template_rows": null,
      "height": null,
      "justify_content": null,
      "justify_items": null,
      "left": null,
      "margin": null,
      "max_height": null,
      "max_width": null,
      "min_height": null,
      "min_width": null,
      "object_fit": null,
      "object_position": null,
      "order": null,
      "overflow": null,
      "overflow_x": null,
      "overflow_y": null,
      "padding": null,
      "right": null,
      "top": null,
      "visibility": null,
      "width": "20px"
     }
    },
    "de31c3d6469140e48dc64f5ed5c1fe9a": {
     "model_module": "@jupyter-widgets/base",
     "model_module_version": "1.2.0",
     "model_name": "LayoutModel",
     "state": {
      "_model_module": "@jupyter-widgets/base",
      "_model_module_version": "1.2.0",
      "_model_name": "LayoutModel",
      "_view_count": null,
      "_view_module": "@jupyter-widgets/base",
      "_view_module_version": "1.2.0",
      "_view_name": "LayoutView",
      "align_content": null,
      "align_items": null,
      "align_self": null,
      "border": null,
      "bottom": null,
      "display": null,
      "flex": null,
      "flex_flow": null,
      "grid_area": null,
      "grid_auto_columns": null,
      "grid_auto_flow": null,
      "grid_auto_rows": null,
      "grid_column": null,
      "grid_gap": null,
      "grid_row": null,
      "grid_template_areas": null,
      "grid_template_columns": null,
      "grid_template_rows": null,
      "height": null,
      "justify_content": null,
      "justify_items": null,
      "left": null,
      "margin": null,
      "max_height": null,
      "max_width": null,
      "min_height": null,
      "min_width": null,
      "object_fit": null,
      "object_position": null,
      "order": null,
      "overflow": null,
      "overflow_x": null,
      "overflow_y": null,
      "padding": null,
      "right": null,
      "top": null,
      "visibility": null,
      "width": null
     }
    }
   }
  }
 },
 "nbformat": 4,
 "nbformat_minor": 5
}
